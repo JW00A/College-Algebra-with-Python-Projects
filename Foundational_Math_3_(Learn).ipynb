{
  "nbformat": 4,
  "nbformat_minor": 0,
  "metadata": {
    "colab": {
      "provenance": [],
      "collapsed_sections": [
        "szp5flp1fA8-",
        "KDloBuvnHQTS",
        "r1AM-AcqkbyF",
        "8wXbGsoYkm60",
        "tBxuJtHck2Oo",
        "s3z_zaNWlet8",
        "lnP9BOpPlhdK",
        "yoavB8H_ljVn",
        "MlRfYVIylkQf",
        "NGH1FcttllvS",
        "Sx0kwIdalmmY",
        "S-DVSzwDvKvE",
        "iaEBltZXln-Q",
        "l5GwlqRdlpEu",
        "8vdTo36Pl0yv",
        "U_7bv7aG4UJe",
        "B7DOz9nh4XAb",
        "cqvLtj7t4VMN",
        "GsLj1NhZl1ya",
        "d7Lc9KfMYU8Y",
        "VkD30ljxlyw9",
        "bJzxcKIfz8Qt"
      ]
    },
    "kernelspec": {
      "name": "python3",
      "display_name": "Python 3"
    },
    "language_info": {
      "name": "python"
    },
    "widgets": {
      "application/vnd.jupyter.widget-state+json": {
        "d4f202389da849b0a206c41441ccda2b": {
          "model_module": "@jupyter-widgets/controls",
          "model_name": "VBoxModel",
          "model_module_version": "1.5.0",
          "state": {
            "_dom_classes": [
              "widget-interact"
            ],
            "_model_module": "@jupyter-widgets/controls",
            "_model_module_version": "1.5.0",
            "_model_name": "VBoxModel",
            "_view_count": null,
            "_view_module": "@jupyter-widgets/controls",
            "_view_module_version": "1.5.0",
            "_view_name": "VBoxView",
            "box_style": "",
            "children": [
              "IPY_MODEL_024ee0dd2ec8434ebcb890535aa08955",
              "IPY_MODEL_09fc1770d14d4200816d63fefeef3bb7",
              "IPY_MODEL_ec367ade168a44fbbeeec68411715d52",
              "IPY_MODEL_1547dc6080ac4910bf3ca9cd1c8f4e6f"
            ],
            "layout": "IPY_MODEL_d53a4b1622824c54ad32d6adf33c3cc2"
          }
        },
        "024ee0dd2ec8434ebcb890535aa08955": {
          "model_module": "@jupyter-widgets/controls",
          "model_name": "IntSliderModel",
          "model_module_version": "1.5.0",
          "state": {
            "_dom_classes": [],
            "_model_module": "@jupyter-widgets/controls",
            "_model_module_version": "1.5.0",
            "_model_name": "IntSliderModel",
            "_view_count": null,
            "_view_module": "@jupyter-widgets/controls",
            "_view_module_version": "1.5.0",
            "_view_name": "IntSliderView",
            "continuous_update": true,
            "description": "a",
            "description_tooltip": null,
            "disabled": false,
            "layout": "IPY_MODEL_f7a215f9973a4964bf94e2b4b0cf68e7",
            "max": 9,
            "min": -9,
            "orientation": "horizontal",
            "readout": true,
            "readout_format": "d",
            "step": 1,
            "style": "IPY_MODEL_250fb8a6a27d4de4b238b283434fac48",
            "value": 4
          }
        },
        "09fc1770d14d4200816d63fefeef3bb7": {
          "model_module": "@jupyter-widgets/controls",
          "model_name": "IntSliderModel",
          "model_module_version": "1.5.0",
          "state": {
            "_dom_classes": [],
            "_model_module": "@jupyter-widgets/controls",
            "_model_module_version": "1.5.0",
            "_model_name": "IntSliderModel",
            "_view_count": null,
            "_view_module": "@jupyter-widgets/controls",
            "_view_module_version": "1.5.0",
            "_view_name": "IntSliderView",
            "continuous_update": true,
            "description": "b",
            "description_tooltip": null,
            "disabled": false,
            "layout": "IPY_MODEL_7bfbf9acc5984e87a3652992b2610b4f",
            "max": 9,
            "min": -9,
            "orientation": "horizontal",
            "readout": true,
            "readout_format": "d",
            "step": 1,
            "style": "IPY_MODEL_305a14208ce54d749f1255156204af68",
            "value": 3
          }
        },
        "ec367ade168a44fbbeeec68411715d52": {
          "model_module": "@jupyter-widgets/controls",
          "model_name": "IntSliderModel",
          "model_module_version": "1.5.0",
          "state": {
            "_dom_classes": [],
            "_model_module": "@jupyter-widgets/controls",
            "_model_module_version": "1.5.0",
            "_model_name": "IntSliderModel",
            "_view_count": null,
            "_view_module": "@jupyter-widgets/controls",
            "_view_module_version": "1.5.0",
            "_view_name": "IntSliderView",
            "continuous_update": true,
            "description": "c",
            "description_tooltip": null,
            "disabled": false,
            "layout": "IPY_MODEL_13fbeb16d0d74bad9de8d61417483805",
            "max": 9,
            "min": -9,
            "orientation": "horizontal",
            "readout": true,
            "readout_format": "d",
            "step": 1,
            "style": "IPY_MODEL_780fecafe5cf4850aaa1d89c3903fae9",
            "value": 1
          }
        },
        "1547dc6080ac4910bf3ca9cd1c8f4e6f": {
          "model_module": "@jupyter-widgets/output",
          "model_name": "OutputModel",
          "model_module_version": "1.0.0",
          "state": {
            "_dom_classes": [],
            "_model_module": "@jupyter-widgets/output",
            "_model_module_version": "1.0.0",
            "_model_name": "OutputModel",
            "_view_count": null,
            "_view_module": "@jupyter-widgets/output",
            "_view_module_version": "1.0.0",
            "_view_name": "OutputView",
            "layout": "IPY_MODEL_21e4927e804c426eb9e76ed8a747096a",
            "msg_id": "",
            "outputs": [
              {
                "output_type": "display_data",
                "data": {
                  "text/plain": "<Figure size 640x480 with 1 Axes>",
                  "image/png": "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\n"
                },
                "metadata": {}
              }
            ]
          }
        },
        "d53a4b1622824c54ad32d6adf33c3cc2": {
          "model_module": "@jupyter-widgets/base",
          "model_name": "LayoutModel",
          "model_module_version": "1.2.0",
          "state": {
            "_model_module": "@jupyter-widgets/base",
            "_model_module_version": "1.2.0",
            "_model_name": "LayoutModel",
            "_view_count": null,
            "_view_module": "@jupyter-widgets/base",
            "_view_module_version": "1.2.0",
            "_view_name": "LayoutView",
            "align_content": null,
            "align_items": null,
            "align_self": null,
            "border": null,
            "bottom": null,
            "display": null,
            "flex": null,
            "flex_flow": null,
            "grid_area": null,
            "grid_auto_columns": null,
            "grid_auto_flow": null,
            "grid_auto_rows": null,
            "grid_column": null,
            "grid_gap": null,
            "grid_row": null,
            "grid_template_areas": null,
            "grid_template_columns": null,
            "grid_template_rows": null,
            "height": null,
            "justify_content": null,
            "justify_items": null,
            "left": null,
            "margin": null,
            "max_height": null,
            "max_width": null,
            "min_height": null,
            "min_width": null,
            "object_fit": null,
            "object_position": null,
            "order": null,
            "overflow": null,
            "overflow_x": null,
            "overflow_y": null,
            "padding": null,
            "right": null,
            "top": null,
            "visibility": null,
            "width": null
          }
        },
        "f7a215f9973a4964bf94e2b4b0cf68e7": {
          "model_module": "@jupyter-widgets/base",
          "model_name": "LayoutModel",
          "model_module_version": "1.2.0",
          "state": {
            "_model_module": "@jupyter-widgets/base",
            "_model_module_version": "1.2.0",
            "_model_name": "LayoutModel",
            "_view_count": null,
            "_view_module": "@jupyter-widgets/base",
            "_view_module_version": "1.2.0",
            "_view_name": "LayoutView",
            "align_content": null,
            "align_items": null,
            "align_self": null,
            "border": null,
            "bottom": null,
            "display": null,
            "flex": null,
            "flex_flow": null,
            "grid_area": null,
            "grid_auto_columns": null,
            "grid_auto_flow": null,
            "grid_auto_rows": null,
            "grid_column": null,
            "grid_gap": null,
            "grid_row": null,
            "grid_template_areas": null,
            "grid_template_columns": null,
            "grid_template_rows": null,
            "height": null,
            "justify_content": null,
            "justify_items": null,
            "left": null,
            "margin": null,
            "max_height": null,
            "max_width": null,
            "min_height": null,
            "min_width": null,
            "object_fit": null,
            "object_position": null,
            "order": null,
            "overflow": null,
            "overflow_x": null,
            "overflow_y": null,
            "padding": null,
            "right": null,
            "top": null,
            "visibility": null,
            "width": null
          }
        },
        "250fb8a6a27d4de4b238b283434fac48": {
          "model_module": "@jupyter-widgets/controls",
          "model_name": "SliderStyleModel",
          "model_module_version": "1.5.0",
          "state": {
            "_model_module": "@jupyter-widgets/controls",
            "_model_module_version": "1.5.0",
            "_model_name": "SliderStyleModel",
            "_view_count": null,
            "_view_module": "@jupyter-widgets/base",
            "_view_module_version": "1.2.0",
            "_view_name": "StyleView",
            "description_width": "",
            "handle_color": null
          }
        },
        "7bfbf9acc5984e87a3652992b2610b4f": {
          "model_module": "@jupyter-widgets/base",
          "model_name": "LayoutModel",
          "model_module_version": "1.2.0",
          "state": {
            "_model_module": "@jupyter-widgets/base",
            "_model_module_version": "1.2.0",
            "_model_name": "LayoutModel",
            "_view_count": null,
            "_view_module": "@jupyter-widgets/base",
            "_view_module_version": "1.2.0",
            "_view_name": "LayoutView",
            "align_content": null,
            "align_items": null,
            "align_self": null,
            "border": null,
            "bottom": null,
            "display": null,
            "flex": null,
            "flex_flow": null,
            "grid_area": null,
            "grid_auto_columns": null,
            "grid_auto_flow": null,
            "grid_auto_rows": null,
            "grid_column": null,
            "grid_gap": null,
            "grid_row": null,
            "grid_template_areas": null,
            "grid_template_columns": null,
            "grid_template_rows": null,
            "height": null,
            "justify_content": null,
            "justify_items": null,
            "left": null,
            "margin": null,
            "max_height": null,
            "max_width": null,
            "min_height": null,
            "min_width": null,
            "object_fit": null,
            "object_position": null,
            "order": null,
            "overflow": null,
            "overflow_x": null,
            "overflow_y": null,
            "padding": null,
            "right": null,
            "top": null,
            "visibility": null,
            "width": null
          }
        },
        "305a14208ce54d749f1255156204af68": {
          "model_module": "@jupyter-widgets/controls",
          "model_name": "SliderStyleModel",
          "model_module_version": "1.5.0",
          "state": {
            "_model_module": "@jupyter-widgets/controls",
            "_model_module_version": "1.5.0",
            "_model_name": "SliderStyleModel",
            "_view_count": null,
            "_view_module": "@jupyter-widgets/base",
            "_view_module_version": "1.2.0",
            "_view_name": "StyleView",
            "description_width": "",
            "handle_color": null
          }
        },
        "13fbeb16d0d74bad9de8d61417483805": {
          "model_module": "@jupyter-widgets/base",
          "model_name": "LayoutModel",
          "model_module_version": "1.2.0",
          "state": {
            "_model_module": "@jupyter-widgets/base",
            "_model_module_version": "1.2.0",
            "_model_name": "LayoutModel",
            "_view_count": null,
            "_view_module": "@jupyter-widgets/base",
            "_view_module_version": "1.2.0",
            "_view_name": "LayoutView",
            "align_content": null,
            "align_items": null,
            "align_self": null,
            "border": null,
            "bottom": null,
            "display": null,
            "flex": null,
            "flex_flow": null,
            "grid_area": null,
            "grid_auto_columns": null,
            "grid_auto_flow": null,
            "grid_auto_rows": null,
            "grid_column": null,
            "grid_gap": null,
            "grid_row": null,
            "grid_template_areas": null,
            "grid_template_columns": null,
            "grid_template_rows": null,
            "height": null,
            "justify_content": null,
            "justify_items": null,
            "left": null,
            "margin": null,
            "max_height": null,
            "max_width": null,
            "min_height": null,
            "min_width": null,
            "object_fit": null,
            "object_position": null,
            "order": null,
            "overflow": null,
            "overflow_x": null,
            "overflow_y": null,
            "padding": null,
            "right": null,
            "top": null,
            "visibility": null,
            "width": null
          }
        },
        "780fecafe5cf4850aaa1d89c3903fae9": {
          "model_module": "@jupyter-widgets/controls",
          "model_name": "SliderStyleModel",
          "model_module_version": "1.5.0",
          "state": {
            "_model_module": "@jupyter-widgets/controls",
            "_model_module_version": "1.5.0",
            "_model_name": "SliderStyleModel",
            "_view_count": null,
            "_view_module": "@jupyter-widgets/base",
            "_view_module_version": "1.2.0",
            "_view_name": "StyleView",
            "description_width": "",
            "handle_color": null
          }
        },
        "21e4927e804c426eb9e76ed8a747096a": {
          "model_module": "@jupyter-widgets/base",
          "model_name": "LayoutModel",
          "model_module_version": "1.2.0",
          "state": {
            "_model_module": "@jupyter-widgets/base",
            "_model_module_version": "1.2.0",
            "_model_name": "LayoutModel",
            "_view_count": null,
            "_view_module": "@jupyter-widgets/base",
            "_view_module_version": "1.2.0",
            "_view_name": "LayoutView",
            "align_content": null,
            "align_items": null,
            "align_self": null,
            "border": null,
            "bottom": null,
            "display": null,
            "flex": null,
            "flex_flow": null,
            "grid_area": null,
            "grid_auto_columns": null,
            "grid_auto_flow": null,
            "grid_auto_rows": null,
            "grid_column": null,
            "grid_gap": null,
            "grid_row": null,
            "grid_template_areas": null,
            "grid_template_columns": null,
            "grid_template_rows": null,
            "height": null,
            "justify_content": null,
            "justify_items": null,
            "left": null,
            "margin": null,
            "max_height": null,
            "max_width": null,
            "min_height": null,
            "min_width": null,
            "object_fit": null,
            "object_position": null,
            "order": null,
            "overflow": null,
            "overflow_x": null,
            "overflow_y": null,
            "padding": null,
            "right": null,
            "top": null,
            "visibility": null,
            "width": null
          }
        },
        "757c0eaf4fb64ec5a49d0cbf7152c87d": {
          "model_module": "@jupyter-widgets/controls",
          "model_name": "VBoxModel",
          "model_module_version": "1.5.0",
          "state": {
            "_dom_classes": [
              "widget-interact"
            ],
            "_model_module": "@jupyter-widgets/controls",
            "_model_module_version": "1.5.0",
            "_model_name": "VBoxModel",
            "_view_count": null,
            "_view_module": "@jupyter-widgets/controls",
            "_view_module_version": "1.5.0",
            "_view_name": "VBoxView",
            "box_style": "",
            "children": [
              "IPY_MODEL_489f1625a6dd49459f92a71815ce36e1",
              "IPY_MODEL_541306895f124575be2de82cd2315aaa",
              "IPY_MODEL_636ecf0996654b66bd28f0255bb82783"
            ],
            "layout": "IPY_MODEL_72b66e11229b4b1888252ce238f04bd0"
          }
        },
        "489f1625a6dd49459f92a71815ce36e1": {
          "model_module": "@jupyter-widgets/controls",
          "model_name": "IntSliderModel",
          "model_module_version": "1.5.0",
          "state": {
            "_dom_classes": [],
            "_model_module": "@jupyter-widgets/controls",
            "_model_module_version": "1.5.0",
            "_model_name": "IntSliderModel",
            "_view_count": null,
            "_view_module": "@jupyter-widgets/controls",
            "_view_module_version": "1.5.0",
            "_view_name": "IntSliderView",
            "continuous_update": true,
            "description": "a",
            "description_tooltip": null,
            "disabled": false,
            "layout": "IPY_MODEL_d75b2b0c85354e30aee88a6d57a2f321",
            "max": -1,
            "min": -9,
            "orientation": "horizontal",
            "readout": true,
            "readout_format": "d",
            "step": 1,
            "style": "IPY_MODEL_3e9148d664a34ddcb3b5bb6e82e331f7",
            "value": -4
          }
        },
        "541306895f124575be2de82cd2315aaa": {
          "model_module": "@jupyter-widgets/controls",
          "model_name": "IntSliderModel",
          "model_module_version": "1.5.0",
          "state": {
            "_dom_classes": [],
            "_model_module": "@jupyter-widgets/controls",
            "_model_module_version": "1.5.0",
            "_model_name": "IntSliderModel",
            "_view_count": null,
            "_view_module": "@jupyter-widgets/controls",
            "_view_module_version": "1.5.0",
            "_view_name": "IntSliderView",
            "continuous_update": true,
            "description": "b",
            "description_tooltip": null,
            "disabled": false,
            "layout": "IPY_MODEL_15efa99f566d4319a90db271a6324552",
            "max": 9,
            "min": 1,
            "orientation": "horizontal",
            "readout": true,
            "readout_format": "d",
            "step": 1,
            "style": "IPY_MODEL_e580bd3b32ab43baa323a0fc1f82eec1",
            "value": 5
          }
        },
        "636ecf0996654b66bd28f0255bb82783": {
          "model_module": "@jupyter-widgets/output",
          "model_name": "OutputModel",
          "model_module_version": "1.0.0",
          "state": {
            "_dom_classes": [],
            "_model_module": "@jupyter-widgets/output",
            "_model_module_version": "1.0.0",
            "_model_name": "OutputModel",
            "_view_count": null,
            "_view_module": "@jupyter-widgets/output",
            "_view_module_version": "1.0.0",
            "_view_name": "OutputView",
            "layout": "IPY_MODEL_4e007f35eb7b45d5899972429c1a4c44",
            "msg_id": "",
            "outputs": [
              {
                "output_type": "display_data",
                "data": {
                  "text/plain": "<Figure size 640x480 with 1 Axes>",
                  "image/png": "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\n"
                },
                "metadata": {}
              }
            ]
          }
        },
        "72b66e11229b4b1888252ce238f04bd0": {
          "model_module": "@jupyter-widgets/base",
          "model_name": "LayoutModel",
          "model_module_version": "1.2.0",
          "state": {
            "_model_module": "@jupyter-widgets/base",
            "_model_module_version": "1.2.0",
            "_model_name": "LayoutModel",
            "_view_count": null,
            "_view_module": "@jupyter-widgets/base",
            "_view_module_version": "1.2.0",
            "_view_name": "LayoutView",
            "align_content": null,
            "align_items": null,
            "align_self": null,
            "border": null,
            "bottom": null,
            "display": null,
            "flex": null,
            "flex_flow": null,
            "grid_area": null,
            "grid_auto_columns": null,
            "grid_auto_flow": null,
            "grid_auto_rows": null,
            "grid_column": null,
            "grid_gap": null,
            "grid_row": null,
            "grid_template_areas": null,
            "grid_template_columns": null,
            "grid_template_rows": null,
            "height": null,
            "justify_content": null,
            "justify_items": null,
            "left": null,
            "margin": null,
            "max_height": null,
            "max_width": null,
            "min_height": null,
            "min_width": null,
            "object_fit": null,
            "object_position": null,
            "order": null,
            "overflow": null,
            "overflow_x": null,
            "overflow_y": null,
            "padding": null,
            "right": null,
            "top": null,
            "visibility": null,
            "width": null
          }
        },
        "d75b2b0c85354e30aee88a6d57a2f321": {
          "model_module": "@jupyter-widgets/base",
          "model_name": "LayoutModel",
          "model_module_version": "1.2.0",
          "state": {
            "_model_module": "@jupyter-widgets/base",
            "_model_module_version": "1.2.0",
            "_model_name": "LayoutModel",
            "_view_count": null,
            "_view_module": "@jupyter-widgets/base",
            "_view_module_version": "1.2.0",
            "_view_name": "LayoutView",
            "align_content": null,
            "align_items": null,
            "align_self": null,
            "border": null,
            "bottom": null,
            "display": null,
            "flex": null,
            "flex_flow": null,
            "grid_area": null,
            "grid_auto_columns": null,
            "grid_auto_flow": null,
            "grid_auto_rows": null,
            "grid_column": null,
            "grid_gap": null,
            "grid_row": null,
            "grid_template_areas": null,
            "grid_template_columns": null,
            "grid_template_rows": null,
            "height": null,
            "justify_content": null,
            "justify_items": null,
            "left": null,
            "margin": null,
            "max_height": null,
            "max_width": null,
            "min_height": null,
            "min_width": null,
            "object_fit": null,
            "object_position": null,
            "order": null,
            "overflow": null,
            "overflow_x": null,
            "overflow_y": null,
            "padding": null,
            "right": null,
            "top": null,
            "visibility": null,
            "width": null
          }
        },
        "3e9148d664a34ddcb3b5bb6e82e331f7": {
          "model_module": "@jupyter-widgets/controls",
          "model_name": "SliderStyleModel",
          "model_module_version": "1.5.0",
          "state": {
            "_model_module": "@jupyter-widgets/controls",
            "_model_module_version": "1.5.0",
            "_model_name": "SliderStyleModel",
            "_view_count": null,
            "_view_module": "@jupyter-widgets/base",
            "_view_module_version": "1.2.0",
            "_view_name": "StyleView",
            "description_width": "",
            "handle_color": null
          }
        },
        "15efa99f566d4319a90db271a6324552": {
          "model_module": "@jupyter-widgets/base",
          "model_name": "LayoutModel",
          "model_module_version": "1.2.0",
          "state": {
            "_model_module": "@jupyter-widgets/base",
            "_model_module_version": "1.2.0",
            "_model_name": "LayoutModel",
            "_view_count": null,
            "_view_module": "@jupyter-widgets/base",
            "_view_module_version": "1.2.0",
            "_view_name": "LayoutView",
            "align_content": null,
            "align_items": null,
            "align_self": null,
            "border": null,
            "bottom": null,
            "display": null,
            "flex": null,
            "flex_flow": null,
            "grid_area": null,
            "grid_auto_columns": null,
            "grid_auto_flow": null,
            "grid_auto_rows": null,
            "grid_column": null,
            "grid_gap": null,
            "grid_row": null,
            "grid_template_areas": null,
            "grid_template_columns": null,
            "grid_template_rows": null,
            "height": null,
            "justify_content": null,
            "justify_items": null,
            "left": null,
            "margin": null,
            "max_height": null,
            "max_width": null,
            "min_height": null,
            "min_width": null,
            "object_fit": null,
            "object_position": null,
            "order": null,
            "overflow": null,
            "overflow_x": null,
            "overflow_y": null,
            "padding": null,
            "right": null,
            "top": null,
            "visibility": null,
            "width": null
          }
        },
        "e580bd3b32ab43baa323a0fc1f82eec1": {
          "model_module": "@jupyter-widgets/controls",
          "model_name": "SliderStyleModel",
          "model_module_version": "1.5.0",
          "state": {
            "_model_module": "@jupyter-widgets/controls",
            "_model_module_version": "1.5.0",
            "_model_name": "SliderStyleModel",
            "_view_count": null,
            "_view_module": "@jupyter-widgets/base",
            "_view_module_version": "1.2.0",
            "_view_name": "StyleView",
            "description_width": "",
            "handle_color": null
          }
        },
        "4e007f35eb7b45d5899972429c1a4c44": {
          "model_module": "@jupyter-widgets/base",
          "model_name": "LayoutModel",
          "model_module_version": "1.2.0",
          "state": {
            "_model_module": "@jupyter-widgets/base",
            "_model_module_version": "1.2.0",
            "_model_name": "LayoutModel",
            "_view_count": null,
            "_view_module": "@jupyter-widgets/base",
            "_view_module_version": "1.2.0",
            "_view_name": "LayoutView",
            "align_content": null,
            "align_items": null,
            "align_self": null,
            "border": null,
            "bottom": null,
            "display": null,
            "flex": null,
            "flex_flow": null,
            "grid_area": null,
            "grid_auto_columns": null,
            "grid_auto_flow": null,
            "grid_auto_rows": null,
            "grid_column": null,
            "grid_gap": null,
            "grid_row": null,
            "grid_template_areas": null,
            "grid_template_columns": null,
            "grid_template_rows": null,
            "height": null,
            "justify_content": null,
            "justify_items": null,
            "left": null,
            "margin": null,
            "max_height": null,
            "max_width": null,
            "min_height": null,
            "min_width": null,
            "object_fit": null,
            "object_position": null,
            "order": null,
            "overflow": null,
            "overflow_x": null,
            "overflow_y": null,
            "padding": null,
            "right": null,
            "top": null,
            "visibility": null,
            "width": null
          }
        },
        "f8e1a97c96604534b65c604332d5221d": {
          "model_module": "@jupyter-widgets/controls",
          "model_name": "VBoxModel",
          "model_module_version": "1.5.0",
          "state": {
            "_dom_classes": [
              "widget-interact"
            ],
            "_model_module": "@jupyter-widgets/controls",
            "_model_module_version": "1.5.0",
            "_model_name": "VBoxModel",
            "_view_count": null,
            "_view_module": "@jupyter-widgets/controls",
            "_view_module_version": "1.5.0",
            "_view_name": "VBoxView",
            "box_style": "",
            "children": [
              "IPY_MODEL_1acf8b09d04e4879a8ab9f9d39a7d519",
              "IPY_MODEL_c43dcaba5e5a496ba3d0545ace203079",
              "IPY_MODEL_29393b57e61f4224aeddcd40bc3d2fe8",
              "IPY_MODEL_1dc6260c01db47bca611d31f1f386b57"
            ],
            "layout": "IPY_MODEL_196e498c2084468a8bc55a3e91aaa6b5"
          }
        },
        "1acf8b09d04e4879a8ab9f9d39a7d519": {
          "model_module": "@jupyter-widgets/controls",
          "model_name": "IntSliderModel",
          "model_module_version": "1.5.0",
          "state": {
            "_dom_classes": [],
            "_model_module": "@jupyter-widgets/controls",
            "_model_module_version": "1.5.0",
            "_model_name": "IntSliderModel",
            "_view_count": null,
            "_view_module": "@jupyter-widgets/controls",
            "_view_module_version": "1.5.0",
            "_view_name": "IntSliderView",
            "continuous_update": true,
            "description": "a",
            "description_tooltip": null,
            "disabled": false,
            "layout": "IPY_MODEL_f4aa0023aaee434a992e68d687e77d8b",
            "max": 9,
            "min": -9,
            "orientation": "horizontal",
            "readout": true,
            "readout_format": "d",
            "step": 1,
            "style": "IPY_MODEL_1ca6da6a1d2c4b68a55270a32a732471",
            "value": 1
          }
        },
        "c43dcaba5e5a496ba3d0545ace203079": {
          "model_module": "@jupyter-widgets/controls",
          "model_name": "IntSliderModel",
          "model_module_version": "1.5.0",
          "state": {
            "_dom_classes": [],
            "_model_module": "@jupyter-widgets/controls",
            "_model_module_version": "1.5.0",
            "_model_name": "IntSliderModel",
            "_view_count": null,
            "_view_module": "@jupyter-widgets/controls",
            "_view_module_version": "1.5.0",
            "_view_name": "IntSliderView",
            "continuous_update": true,
            "description": "b",
            "description_tooltip": null,
            "disabled": false,
            "layout": "IPY_MODEL_a38e803da29b4af2a0c4c42a0b9a36cb",
            "max": 9,
            "min": -9,
            "orientation": "horizontal",
            "readout": true,
            "readout_format": "d",
            "step": 1,
            "style": "IPY_MODEL_f35efd94ade4436f92db2c727eaf7ae2",
            "value": 2
          }
        },
        "29393b57e61f4224aeddcd40bc3d2fe8": {
          "model_module": "@jupyter-widgets/controls",
          "model_name": "IntSliderModel",
          "model_module_version": "1.5.0",
          "state": {
            "_dom_classes": [],
            "_model_module": "@jupyter-widgets/controls",
            "_model_module_version": "1.5.0",
            "_model_name": "IntSliderModel",
            "_view_count": null,
            "_view_module": "@jupyter-widgets/controls",
            "_view_module_version": "1.5.0",
            "_view_name": "IntSliderView",
            "continuous_update": true,
            "description": "c",
            "description_tooltip": null,
            "disabled": false,
            "layout": "IPY_MODEL_bf402fa1697e4e36983ec0a4247356a6",
            "max": 9,
            "min": -9,
            "orientation": "horizontal",
            "readout": true,
            "readout_format": "d",
            "step": 1,
            "style": "IPY_MODEL_b7694a0a9b634ec09e73659794cdbc3e",
            "value": 0
          }
        },
        "1dc6260c01db47bca611d31f1f386b57": {
          "model_module": "@jupyter-widgets/output",
          "model_name": "OutputModel",
          "model_module_version": "1.0.0",
          "state": {
            "_dom_classes": [],
            "_model_module": "@jupyter-widgets/output",
            "_model_module_version": "1.0.0",
            "_model_name": "OutputModel",
            "_view_count": null,
            "_view_module": "@jupyter-widgets/output",
            "_view_module_version": "1.0.0",
            "_view_name": "OutputView",
            "layout": "IPY_MODEL_477c929a54054b2494d1ab098a3f225b",
            "msg_id": "",
            "outputs": [
              {
                "output_type": "display_data",
                "data": {
                  "text/plain": "<Figure size 640x480 with 1 Axes>",
                  "image/png": "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\n"
                },
                "metadata": {}
              }
            ]
          }
        },
        "196e498c2084468a8bc55a3e91aaa6b5": {
          "model_module": "@jupyter-widgets/base",
          "model_name": "LayoutModel",
          "model_module_version": "1.2.0",
          "state": {
            "_model_module": "@jupyter-widgets/base",
            "_model_module_version": "1.2.0",
            "_model_name": "LayoutModel",
            "_view_count": null,
            "_view_module": "@jupyter-widgets/base",
            "_view_module_version": "1.2.0",
            "_view_name": "LayoutView",
            "align_content": null,
            "align_items": null,
            "align_self": null,
            "border": null,
            "bottom": null,
            "display": null,
            "flex": null,
            "flex_flow": null,
            "grid_area": null,
            "grid_auto_columns": null,
            "grid_auto_flow": null,
            "grid_auto_rows": null,
            "grid_column": null,
            "grid_gap": null,
            "grid_row": null,
            "grid_template_areas": null,
            "grid_template_columns": null,
            "grid_template_rows": null,
            "height": null,
            "justify_content": null,
            "justify_items": null,
            "left": null,
            "margin": null,
            "max_height": null,
            "max_width": null,
            "min_height": null,
            "min_width": null,
            "object_fit": null,
            "object_position": null,
            "order": null,
            "overflow": null,
            "overflow_x": null,
            "overflow_y": null,
            "padding": null,
            "right": null,
            "top": null,
            "visibility": null,
            "width": null
          }
        },
        "f4aa0023aaee434a992e68d687e77d8b": {
          "model_module": "@jupyter-widgets/base",
          "model_name": "LayoutModel",
          "model_module_version": "1.2.0",
          "state": {
            "_model_module": "@jupyter-widgets/base",
            "_model_module_version": "1.2.0",
            "_model_name": "LayoutModel",
            "_view_count": null,
            "_view_module": "@jupyter-widgets/base",
            "_view_module_version": "1.2.0",
            "_view_name": "LayoutView",
            "align_content": null,
            "align_items": null,
            "align_self": null,
            "border": null,
            "bottom": null,
            "display": null,
            "flex": null,
            "flex_flow": null,
            "grid_area": null,
            "grid_auto_columns": null,
            "grid_auto_flow": null,
            "grid_auto_rows": null,
            "grid_column": null,
            "grid_gap": null,
            "grid_row": null,
            "grid_template_areas": null,
            "grid_template_columns": null,
            "grid_template_rows": null,
            "height": null,
            "justify_content": null,
            "justify_items": null,
            "left": null,
            "margin": null,
            "max_height": null,
            "max_width": null,
            "min_height": null,
            "min_width": null,
            "object_fit": null,
            "object_position": null,
            "order": null,
            "overflow": null,
            "overflow_x": null,
            "overflow_y": null,
            "padding": null,
            "right": null,
            "top": null,
            "visibility": null,
            "width": null
          }
        },
        "1ca6da6a1d2c4b68a55270a32a732471": {
          "model_module": "@jupyter-widgets/controls",
          "model_name": "SliderStyleModel",
          "model_module_version": "1.5.0",
          "state": {
            "_model_module": "@jupyter-widgets/controls",
            "_model_module_version": "1.5.0",
            "_model_name": "SliderStyleModel",
            "_view_count": null,
            "_view_module": "@jupyter-widgets/base",
            "_view_module_version": "1.2.0",
            "_view_name": "StyleView",
            "description_width": "",
            "handle_color": null
          }
        },
        "a38e803da29b4af2a0c4c42a0b9a36cb": {
          "model_module": "@jupyter-widgets/base",
          "model_name": "LayoutModel",
          "model_module_version": "1.2.0",
          "state": {
            "_model_module": "@jupyter-widgets/base",
            "_model_module_version": "1.2.0",
            "_model_name": "LayoutModel",
            "_view_count": null,
            "_view_module": "@jupyter-widgets/base",
            "_view_module_version": "1.2.0",
            "_view_name": "LayoutView",
            "align_content": null,
            "align_items": null,
            "align_self": null,
            "border": null,
            "bottom": null,
            "display": null,
            "flex": null,
            "flex_flow": null,
            "grid_area": null,
            "grid_auto_columns": null,
            "grid_auto_flow": null,
            "grid_auto_rows": null,
            "grid_column": null,
            "grid_gap": null,
            "grid_row": null,
            "grid_template_areas": null,
            "grid_template_columns": null,
            "grid_template_rows": null,
            "height": null,
            "justify_content": null,
            "justify_items": null,
            "left": null,
            "margin": null,
            "max_height": null,
            "max_width": null,
            "min_height": null,
            "min_width": null,
            "object_fit": null,
            "object_position": null,
            "order": null,
            "overflow": null,
            "overflow_x": null,
            "overflow_y": null,
            "padding": null,
            "right": null,
            "top": null,
            "visibility": null,
            "width": null
          }
        },
        "f35efd94ade4436f92db2c727eaf7ae2": {
          "model_module": "@jupyter-widgets/controls",
          "model_name": "SliderStyleModel",
          "model_module_version": "1.5.0",
          "state": {
            "_model_module": "@jupyter-widgets/controls",
            "_model_module_version": "1.5.0",
            "_model_name": "SliderStyleModel",
            "_view_count": null,
            "_view_module": "@jupyter-widgets/base",
            "_view_module_version": "1.2.0",
            "_view_name": "StyleView",
            "description_width": "",
            "handle_color": null
          }
        },
        "bf402fa1697e4e36983ec0a4247356a6": {
          "model_module": "@jupyter-widgets/base",
          "model_name": "LayoutModel",
          "model_module_version": "1.2.0",
          "state": {
            "_model_module": "@jupyter-widgets/base",
            "_model_module_version": "1.2.0",
            "_model_name": "LayoutModel",
            "_view_count": null,
            "_view_module": "@jupyter-widgets/base",
            "_view_module_version": "1.2.0",
            "_view_name": "LayoutView",
            "align_content": null,
            "align_items": null,
            "align_self": null,
            "border": null,
            "bottom": null,
            "display": null,
            "flex": null,
            "flex_flow": null,
            "grid_area": null,
            "grid_auto_columns": null,
            "grid_auto_flow": null,
            "grid_auto_rows": null,
            "grid_column": null,
            "grid_gap": null,
            "grid_row": null,
            "grid_template_areas": null,
            "grid_template_columns": null,
            "grid_template_rows": null,
            "height": null,
            "justify_content": null,
            "justify_items": null,
            "left": null,
            "margin": null,
            "max_height": null,
            "max_width": null,
            "min_height": null,
            "min_width": null,
            "object_fit": null,
            "object_position": null,
            "order": null,
            "overflow": null,
            "overflow_x": null,
            "overflow_y": null,
            "padding": null,
            "right": null,
            "top": null,
            "visibility": null,
            "width": null
          }
        },
        "b7694a0a9b634ec09e73659794cdbc3e": {
          "model_module": "@jupyter-widgets/controls",
          "model_name": "SliderStyleModel",
          "model_module_version": "1.5.0",
          "state": {
            "_model_module": "@jupyter-widgets/controls",
            "_model_module_version": "1.5.0",
            "_model_name": "SliderStyleModel",
            "_view_count": null,
            "_view_module": "@jupyter-widgets/base",
            "_view_module_version": "1.2.0",
            "_view_name": "StyleView",
            "description_width": "",
            "handle_color": null
          }
        },
        "477c929a54054b2494d1ab098a3f225b": {
          "model_module": "@jupyter-widgets/base",
          "model_name": "LayoutModel",
          "model_module_version": "1.2.0",
          "state": {
            "_model_module": "@jupyter-widgets/base",
            "_model_module_version": "1.2.0",
            "_model_name": "LayoutModel",
            "_view_count": null,
            "_view_module": "@jupyter-widgets/base",
            "_view_module_version": "1.2.0",
            "_view_name": "LayoutView",
            "align_content": null,
            "align_items": null,
            "align_self": null,
            "border": null,
            "bottom": null,
            "display": null,
            "flex": null,
            "flex_flow": null,
            "grid_area": null,
            "grid_auto_columns": null,
            "grid_auto_flow": null,
            "grid_auto_rows": null,
            "grid_column": null,
            "grid_gap": null,
            "grid_row": null,
            "grid_template_areas": null,
            "grid_template_columns": null,
            "grid_template_rows": null,
            "height": null,
            "justify_content": null,
            "justify_items": null,
            "left": null,
            "margin": null,
            "max_height": null,
            "max_width": null,
            "min_height": null,
            "min_width": null,
            "object_fit": null,
            "object_position": null,
            "order": null,
            "overflow": null,
            "overflow_x": null,
            "overflow_y": null,
            "padding": null,
            "right": null,
            "top": null,
            "visibility": null,
            "width": null
          }
        },
        "fb306e71858444ecade6b287c8e1fd5f": {
          "model_module": "@jupyter-widgets/controls",
          "model_name": "VBoxModel",
          "model_module_version": "1.5.0",
          "state": {
            "_dom_classes": [
              "widget-interact"
            ],
            "_model_module": "@jupyter-widgets/controls",
            "_model_module_version": "1.5.0",
            "_model_name": "VBoxModel",
            "_view_count": null,
            "_view_module": "@jupyter-widgets/controls",
            "_view_module_version": "1.5.0",
            "_view_name": "VBoxView",
            "box_style": "",
            "children": [
              "IPY_MODEL_237457eeccf54341b1e6a8bc1e5be514",
              "IPY_MODEL_ccd27e7df41c4341ac9db88bdd339d0f",
              "IPY_MODEL_b44b1f6ce477440e8829f4b4f440107b",
              "IPY_MODEL_08214f7ce1074436ad3c49861429e481"
            ],
            "layout": "IPY_MODEL_8904a5f93df54f069fbf9025e4d40b62"
          }
        },
        "237457eeccf54341b1e6a8bc1e5be514": {
          "model_module": "@jupyter-widgets/controls",
          "model_name": "IntSliderModel",
          "model_module_version": "1.5.0",
          "state": {
            "_dom_classes": [],
            "_model_module": "@jupyter-widgets/controls",
            "_model_module_version": "1.5.0",
            "_model_name": "IntSliderModel",
            "_view_count": null,
            "_view_module": "@jupyter-widgets/controls",
            "_view_module_version": "1.5.0",
            "_view_name": "IntSliderView",
            "continuous_update": true,
            "description": "a",
            "description_tooltip": null,
            "disabled": false,
            "layout": "IPY_MODEL_69e82ccdbf97481f95ab93fbab1f1a5b",
            "max": 9,
            "min": -9,
            "orientation": "horizontal",
            "readout": true,
            "readout_format": "d",
            "step": 1,
            "style": "IPY_MODEL_6dcd646791584c1a93d87e13b1cecfa9",
            "value": 0
          }
        },
        "ccd27e7df41c4341ac9db88bdd339d0f": {
          "model_module": "@jupyter-widgets/controls",
          "model_name": "IntSliderModel",
          "model_module_version": "1.5.0",
          "state": {
            "_dom_classes": [],
            "_model_module": "@jupyter-widgets/controls",
            "_model_module_version": "1.5.0",
            "_model_name": "IntSliderModel",
            "_view_count": null,
            "_view_module": "@jupyter-widgets/controls",
            "_view_module_version": "1.5.0",
            "_view_name": "IntSliderView",
            "continuous_update": true,
            "description": "b",
            "description_tooltip": null,
            "disabled": false,
            "layout": "IPY_MODEL_a7c689d6417a44699f5e1de1cbf5abd7",
            "max": 9,
            "min": -9,
            "orientation": "horizontal",
            "readout": true,
            "readout_format": "d",
            "step": 1,
            "style": "IPY_MODEL_2eb4b68c3f2c4aa1afb1a78990e0fc41",
            "value": 1
          }
        },
        "b44b1f6ce477440e8829f4b4f440107b": {
          "model_module": "@jupyter-widgets/controls",
          "model_name": "IntSliderModel",
          "model_module_version": "1.5.0",
          "state": {
            "_dom_classes": [],
            "_model_module": "@jupyter-widgets/controls",
            "_model_module_version": "1.5.0",
            "_model_name": "IntSliderModel",
            "_view_count": null,
            "_view_module": "@jupyter-widgets/controls",
            "_view_module_version": "1.5.0",
            "_view_name": "IntSliderView",
            "continuous_update": true,
            "description": "c",
            "description_tooltip": null,
            "disabled": false,
            "layout": "IPY_MODEL_fad6bda46e004d55bd71c92ca2ac3743",
            "max": 9,
            "min": -9,
            "orientation": "horizontal",
            "readout": true,
            "readout_format": "d",
            "step": 1,
            "style": "IPY_MODEL_e7e7f42892bf40d190b4b2c6524b3b84",
            "value": 1
          }
        },
        "08214f7ce1074436ad3c49861429e481": {
          "model_module": "@jupyter-widgets/output",
          "model_name": "OutputModel",
          "model_module_version": "1.0.0",
          "state": {
            "_dom_classes": [],
            "_model_module": "@jupyter-widgets/output",
            "_model_module_version": "1.0.0",
            "_model_name": "OutputModel",
            "_view_count": null,
            "_view_module": "@jupyter-widgets/output",
            "_view_module_version": "1.0.0",
            "_view_name": "OutputView",
            "layout": "IPY_MODEL_1f803dea594645268bb95e60cd34c005",
            "msg_id": "",
            "outputs": [
              {
                "output_type": "display_data",
                "data": {
                  "text/plain": "<Figure size 640x480 with 1 Axes>",
                  "image/png": "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\n"
                },
                "metadata": {}
              }
            ]
          }
        },
        "8904a5f93df54f069fbf9025e4d40b62": {
          "model_module": "@jupyter-widgets/base",
          "model_name": "LayoutModel",
          "model_module_version": "1.2.0",
          "state": {
            "_model_module": "@jupyter-widgets/base",
            "_model_module_version": "1.2.0",
            "_model_name": "LayoutModel",
            "_view_count": null,
            "_view_module": "@jupyter-widgets/base",
            "_view_module_version": "1.2.0",
            "_view_name": "LayoutView",
            "align_content": null,
            "align_items": null,
            "align_self": null,
            "border": null,
            "bottom": null,
            "display": null,
            "flex": null,
            "flex_flow": null,
            "grid_area": null,
            "grid_auto_columns": null,
            "grid_auto_flow": null,
            "grid_auto_rows": null,
            "grid_column": null,
            "grid_gap": null,
            "grid_row": null,
            "grid_template_areas": null,
            "grid_template_columns": null,
            "grid_template_rows": null,
            "height": null,
            "justify_content": null,
            "justify_items": null,
            "left": null,
            "margin": null,
            "max_height": null,
            "max_width": null,
            "min_height": null,
            "min_width": null,
            "object_fit": null,
            "object_position": null,
            "order": null,
            "overflow": null,
            "overflow_x": null,
            "overflow_y": null,
            "padding": null,
            "right": null,
            "top": null,
            "visibility": null,
            "width": null
          }
        },
        "69e82ccdbf97481f95ab93fbab1f1a5b": {
          "model_module": "@jupyter-widgets/base",
          "model_name": "LayoutModel",
          "model_module_version": "1.2.0",
          "state": {
            "_model_module": "@jupyter-widgets/base",
            "_model_module_version": "1.2.0",
            "_model_name": "LayoutModel",
            "_view_count": null,
            "_view_module": "@jupyter-widgets/base",
            "_view_module_version": "1.2.0",
            "_view_name": "LayoutView",
            "align_content": null,
            "align_items": null,
            "align_self": null,
            "border": null,
            "bottom": null,
            "display": null,
            "flex": null,
            "flex_flow": null,
            "grid_area": null,
            "grid_auto_columns": null,
            "grid_auto_flow": null,
            "grid_auto_rows": null,
            "grid_column": null,
            "grid_gap": null,
            "grid_row": null,
            "grid_template_areas": null,
            "grid_template_columns": null,
            "grid_template_rows": null,
            "height": null,
            "justify_content": null,
            "justify_items": null,
            "left": null,
            "margin": null,
            "max_height": null,
            "max_width": null,
            "min_height": null,
            "min_width": null,
            "object_fit": null,
            "object_position": null,
            "order": null,
            "overflow": null,
            "overflow_x": null,
            "overflow_y": null,
            "padding": null,
            "right": null,
            "top": null,
            "visibility": null,
            "width": null
          }
        },
        "6dcd646791584c1a93d87e13b1cecfa9": {
          "model_module": "@jupyter-widgets/controls",
          "model_name": "SliderStyleModel",
          "model_module_version": "1.5.0",
          "state": {
            "_model_module": "@jupyter-widgets/controls",
            "_model_module_version": "1.5.0",
            "_model_name": "SliderStyleModel",
            "_view_count": null,
            "_view_module": "@jupyter-widgets/base",
            "_view_module_version": "1.2.0",
            "_view_name": "StyleView",
            "description_width": "",
            "handle_color": null
          }
        },
        "a7c689d6417a44699f5e1de1cbf5abd7": {
          "model_module": "@jupyter-widgets/base",
          "model_name": "LayoutModel",
          "model_module_version": "1.2.0",
          "state": {
            "_model_module": "@jupyter-widgets/base",
            "_model_module_version": "1.2.0",
            "_model_name": "LayoutModel",
            "_view_count": null,
            "_view_module": "@jupyter-widgets/base",
            "_view_module_version": "1.2.0",
            "_view_name": "LayoutView",
            "align_content": null,
            "align_items": null,
            "align_self": null,
            "border": null,
            "bottom": null,
            "display": null,
            "flex": null,
            "flex_flow": null,
            "grid_area": null,
            "grid_auto_columns": null,
            "grid_auto_flow": null,
            "grid_auto_rows": null,
            "grid_column": null,
            "grid_gap": null,
            "grid_row": null,
            "grid_template_areas": null,
            "grid_template_columns": null,
            "grid_template_rows": null,
            "height": null,
            "justify_content": null,
            "justify_items": null,
            "left": null,
            "margin": null,
            "max_height": null,
            "max_width": null,
            "min_height": null,
            "min_width": null,
            "object_fit": null,
            "object_position": null,
            "order": null,
            "overflow": null,
            "overflow_x": null,
            "overflow_y": null,
            "padding": null,
            "right": null,
            "top": null,
            "visibility": null,
            "width": null
          }
        },
        "2eb4b68c3f2c4aa1afb1a78990e0fc41": {
          "model_module": "@jupyter-widgets/controls",
          "model_name": "SliderStyleModel",
          "model_module_version": "1.5.0",
          "state": {
            "_model_module": "@jupyter-widgets/controls",
            "_model_module_version": "1.5.0",
            "_model_name": "SliderStyleModel",
            "_view_count": null,
            "_view_module": "@jupyter-widgets/base",
            "_view_module_version": "1.2.0",
            "_view_name": "StyleView",
            "description_width": "",
            "handle_color": null
          }
        },
        "fad6bda46e004d55bd71c92ca2ac3743": {
          "model_module": "@jupyter-widgets/base",
          "model_name": "LayoutModel",
          "model_module_version": "1.2.0",
          "state": {
            "_model_module": "@jupyter-widgets/base",
            "_model_module_version": "1.2.0",
            "_model_name": "LayoutModel",
            "_view_count": null,
            "_view_module": "@jupyter-widgets/base",
            "_view_module_version": "1.2.0",
            "_view_name": "LayoutView",
            "align_content": null,
            "align_items": null,
            "align_self": null,
            "border": null,
            "bottom": null,
            "display": null,
            "flex": null,
            "flex_flow": null,
            "grid_area": null,
            "grid_auto_columns": null,
            "grid_auto_flow": null,
            "grid_auto_rows": null,
            "grid_column": null,
            "grid_gap": null,
            "grid_row": null,
            "grid_template_areas": null,
            "grid_template_columns": null,
            "grid_template_rows": null,
            "height": null,
            "justify_content": null,
            "justify_items": null,
            "left": null,
            "margin": null,
            "max_height": null,
            "max_width": null,
            "min_height": null,
            "min_width": null,
            "object_fit": null,
            "object_position": null,
            "order": null,
            "overflow": null,
            "overflow_x": null,
            "overflow_y": null,
            "padding": null,
            "right": null,
            "top": null,
            "visibility": null,
            "width": null
          }
        },
        "e7e7f42892bf40d190b4b2c6524b3b84": {
          "model_module": "@jupyter-widgets/controls",
          "model_name": "SliderStyleModel",
          "model_module_version": "1.5.0",
          "state": {
            "_model_module": "@jupyter-widgets/controls",
            "_model_module_version": "1.5.0",
            "_model_name": "SliderStyleModel",
            "_view_count": null,
            "_view_module": "@jupyter-widgets/base",
            "_view_module_version": "1.2.0",
            "_view_name": "StyleView",
            "description_width": "",
            "handle_color": null
          }
        },
        "1f803dea594645268bb95e60cd34c005": {
          "model_module": "@jupyter-widgets/base",
          "model_name": "LayoutModel",
          "model_module_version": "1.2.0",
          "state": {
            "_model_module": "@jupyter-widgets/base",
            "_model_module_version": "1.2.0",
            "_model_name": "LayoutModel",
            "_view_count": null,
            "_view_module": "@jupyter-widgets/base",
            "_view_module_version": "1.2.0",
            "_view_name": "LayoutView",
            "align_content": null,
            "align_items": null,
            "align_self": null,
            "border": null,
            "bottom": null,
            "display": null,
            "flex": null,
            "flex_flow": null,
            "grid_area": null,
            "grid_auto_columns": null,
            "grid_auto_flow": null,
            "grid_auto_rows": null,
            "grid_column": null,
            "grid_gap": null,
            "grid_row": null,
            "grid_template_areas": null,
            "grid_template_columns": null,
            "grid_template_rows": null,
            "height": null,
            "justify_content": null,
            "justify_items": null,
            "left": null,
            "margin": null,
            "max_height": null,
            "max_width": null,
            "min_height": null,
            "min_width": null,
            "object_fit": null,
            "object_position": null,
            "order": null,
            "overflow": null,
            "overflow_x": null,
            "overflow_y": null,
            "padding": null,
            "right": null,
            "top": null,
            "visibility": null,
            "width": null
          }
        }
      }
    }
  },
  "cells": [
    {
      "cell_type": "markdown",
      "metadata": {
        "id": "EsfO5Q92tL-6"
      },
      "source": [
        "[![freeCodeCamp](https://cdn.freecodecamp.org/testable-projects-fcc/images/fcc_secondary.svg)](https://freecodecamp.org/)"
      ]
    },
    {
      "cell_type": "markdown",
      "metadata": {
        "id": "57mlyO58UfN0"
      },
      "source": [
        "**Learn Foundational Math 3 by Building a Financial App**<br>\n",
        "Each of these steps will lead you toward the Certification Project. Once you complete a step, click to expand the next step."
      ]
    },
    {
      "cell_type": "markdown",
      "metadata": {
        "id": "szp5flp1fA8-"
      },
      "source": [
        "# &darr; **Do this first** &darr;\n",
        "Copy this notebook to your own account by clicking the `File` button at the top, and then click `Save a copy in Drive`. You will need to be logged in to Google. The file will be in a folder called \"Colab Notebooks\" in your Google Drive."
      ]
    },
    {
      "cell_type": "markdown",
      "source": [
        "# Step 0 - Acquire the Testing Library"
      ],
      "metadata": {
        "id": "KDloBuvnHQTS"
      }
    },
    {
      "cell_type": "markdown",
      "source": [
        "Please run this code to get the library file from FreeCodeCamp. Each step will use this library to test your code. You do not need to edit anything; just run this code cell and wait a few seconds until it tells you to go on to the next step."
      ],
      "metadata": {
        "id": "JiW6TlNezZKS"
      }
    },
    {
      "cell_type": "code",
      "source": [
        "# You may need to run this cell at the beginning of each new session\n",
        "\n",
        "!pip install requests\n",
        "\n",
        "# This will just take a few seconds\n",
        "\n",
        "import requests\n",
        "\n",
        "# Get the library from GitHub\n",
        "url = 'https://raw.githubusercontent.com/edatfreecodecamp/python-math/main/math-code-test-c.py'\n",
        "r = requests.get(url)\n",
        "\n",
        "# Save the library in a local working directory\n",
        "with open('math_code_test_c.py', 'w') as f:\n",
        "    f.write(r.text)\n",
        "\n",
        "# Now you can import the library\n",
        "import math_code_test_c as test\n",
        "\n",
        "# This will tell you if the code works\n",
        "test.step00()"
      ],
      "metadata": {
        "id": "eTlHceacGa1C",
        "colab": {
          "base_uri": "https://localhost:8080/"
        },
        "outputId": "59cf5e17-ee2d-453e-901a-3d71b4a87c04"
      },
      "execution_count": null,
      "outputs": [
        {
          "output_type": "stream",
          "name": "stdout",
          "text": [
            "Requirement already satisfied: requests in /usr/local/lib/python3.12/dist-packages (2.32.4)\n",
            "Requirement already satisfied: charset_normalizer<4,>=2 in /usr/local/lib/python3.12/dist-packages (from requests) (3.4.3)\n",
            "Requirement already satisfied: idna<4,>=2.5 in /usr/local/lib/python3.12/dist-packages (from requests) (3.10)\n",
            "Requirement already satisfied: urllib3<3,>=1.21.1 in /usr/local/lib/python3.12/dist-packages (from requests) (2.5.0)\n",
            "Requirement already satisfied: certifi>=2017.4.17 in /usr/local/lib/python3.12/dist-packages (from requests) (2025.10.5)\n",
            "Code test passed\n",
            "Go on to the next step\n"
          ]
        },
        {
          "output_type": "stream",
          "name": "stderr",
          "text": [
            "/content/math_code_test_c.py:12: SyntaxWarning: invalid escape sequence '\\.'\n",
            "  if re.search(\"plt\\.fill_between\\(x\\,\\s*y1\\,\\s*0\\)\", code):\n",
            "/content/math_code_test_c.py:14: SyntaxWarning: invalid escape sequence '\\.'\n",
            "  elif re.search(\"plt\\.fill_between\\(x\\,\\s*y1\\,\\s*ymax\\)\", code):\n",
            "/content/math_code_test_c.py:24: SyntaxWarning: invalid escape sequence '\\.'\n",
            "  if re.search(\"plt\\.plot\\(x\\,\\s*y1\\)\", code):\n",
            "/content/math_code_test_c.py:26: SyntaxWarning: invalid escape sequence '\\.'\n",
            "  elif re.search(\"plt\\.plot\\(x\\,\\s*y1\\,\\s*\\'r\\-\\-\\'\\)\", code):\n",
            "/content/math_code_test_c.py:36: SyntaxWarning: invalid escape sequence '\\('\n",
            "  if re.search(\"\\(x\\,\\s*y1\\,\\s*10\\,\\s*facecolor\\s*\\=\\s*\\'red\\'\\)\", code):\n",
            "/content/math_code_test_c.py:38: SyntaxWarning: invalid escape sequence '\\.'\n",
            "  elif re.search(\"plt\\.fill\\_between\\(x\\,\\s*y1\\,\\s*10\\,\\s*facecolor\\=\\'blue\\'\\)\", code):\n",
            "/content/math_code_test_c.py:49: SyntaxWarning: invalid escape sequence '\\s'\n",
            "  if re.search(\"c\\s*\\=\\s*int\\(input\\(\\\"Enter coefficient C\\:\\s*\\\"\\)\\)\", code):\n",
            "/content/math_code_test_c.py:54: SyntaxWarning: invalid escape sequence '\\s'\n",
            "  if re.search(\"d\\s*\\=\\s*int\\(input\\(\\\"Enter coefficient D\\:\\s*\\\"\\)\\)\", code):\n",
            "/content/math_code_test_c.py:59: SyntaxWarning: invalid escape sequence '\\s'\n",
            "  if re.search(\"y\\s*\\=\\s*a\\*x\\*\\*3\\s*\\+\\s*b\\*x\\*\\*2\\s*\\+\\s*c\\*x\\s*\\+\\s*d\", code):\n",
            "/content/math_code_test_c.py:73: SyntaxWarning: invalid escape sequence '\\.'\n",
            "  if re.search(\"plt\\.plot\\(x\\,\\s*a\\*x\\*\\*2\\s*\\+\\s*b\\*x\\)\", code):\n",
            "/content/math_code_test_c.py:75: SyntaxWarning: invalid escape sequence '\\.'\n",
            "  elif re.search(\"plt\\.plot\\(x\\,\\s*a\\*x\\*\\*2\\s*\\+\\s*b\\*x\\s*\\+\\s*c\\)\", code):\n",
            "/content/math_code_test_c.py:78: SyntaxWarning: invalid escape sequence '\\('\n",
            "  if re.search(\"f\\(a\\,\\s*b\\,\\s*c\\)\", code):\n",
            "/content/math_code_test_c.py:81: SyntaxWarning: invalid escape sequence '\\s'\n",
            "  if re.search(\"c\\s*=\\s*\\(\\-9\\,\\s*9\\)\\)\", code):\n",
            "/content/math_code_test_c.py:93: SyntaxWarning: invalid escape sequence '\\s'\n",
            "  if re.search(\"a\\s*=\\s*\\(1\\,\\s*9\\)\\,\\s*b\\=\\(1\\,\\s*9\\)\\)\", code):\n",
            "/content/math_code_test_c.py:95: SyntaxWarning: invalid escape sequence '\\s'\n",
            "  elif re.search(\"a\\s*=\\s*\\(\\-9\\,\\s*\\-1\\)\\,\\s*b\\=\\(1\\,\\s*9\\)\\)\", code):\n",
            "/content/math_code_test_c.py:105: SyntaxWarning: invalid escape sequence '\\s'\n",
            "  if re.search(\"a\\s*\\=\\s*p\\*\\(1\\s*\\+\\s*r\\)\\*\\*t\", code):\n",
            "/content/math_code_test_c.py:115: SyntaxWarning: invalid escape sequence '\\s'\n",
            "  if re.search(\"a\\s*\\=\\s*p\\*\\(1\\s*\\-\\s*r\\)\\*\\*t\", code):\n",
            "/content/math_code_test_c.py:125: SyntaxWarning: invalid escape sequence '\\s'\n",
            "  if re.search(\"annuity\\s*\\=\\s*p\\*\\(1\\s*\\+\\s*\\(r\\/n\\)\\)\\*\\*\\(n\\*t\\)\", code):\n",
            "/content/math_code_test_c.py:137: SyntaxWarning: invalid escape sequence '\\_'\n",
            "  if re.search(\"a\\_annual\\s*\\=\\s*p\\*\\(1\\+r\\)\\*\\*t\", code):\n",
            "/content/math_code_test_c.py:143: SyntaxWarning: invalid escape sequence '\\_'\n",
            "  if re.search(\"a\\_n\\_times\\s*\\=\\s*p\\*\\(1\\+r\\/n\\)\\*\\*\\(n\\*t\\)\", code):\n",
            "/content/math_code_test_c.py:149: SyntaxWarning: invalid escape sequence '\\_'\n",
            "  if re.search(\"a\\_continuous\\s*\\=\\s*p\\*math\\.e\\*\\*\\(r\\*t\\)\", code):\n",
            "/content/math_code_test_c.py:197: SyntaxWarning: invalid escape sequence '\\s'\n",
            "  if re.search(\"exp\\s*\\=\\s*math\\.log\\(result\\,\\s*base\\)\", code):\n",
            "/content/math_code_test_c.py:210: SyntaxWarning: invalid escape sequence '\\s'\n",
            "  if re.search(\"exp\\s*\\=\\s*math\\.floor\\(math\\.log\\(n\\,\\s*10\\)\\)\", code):\n",
            "/content/math_code_test_c.py:212: SyntaxWarning: invalid escape sequence '\\s'\n",
            "  elif re.search(\"exp\\s*\\=\\s*math\\.log\\(n\\,\\s*10\\)\", code):\n",
            "/content/math_code_test_c.py:242: SyntaxWarning: invalid escape sequence '\\s'\n",
            "  if re.search(\"x2\\s*\\=\\s*math\\.floor\\(math\\.log\\(b\\,\\s*10\\)\\)\", code):\n",
            "/content/math_code_test_c.py:247: SyntaxWarning: invalid escape sequence '\\s'\n",
            "  if re.search(\"n2\\s*\\=\\s*round\\(b\\*10\\*\\*\\(\\-x2\\)\\,\\s*2\\)\", code):\n",
            "/content/math_code_test_c.py:261: SyntaxWarning: invalid escape sequence '\\s'\n",
            "  if re.search(\"x\\s*=\\s*math\\.floor\\(math\\.log\\(a\\,\\s*10\\)\\)\", code):\n",
            "/content/math_code_test_c.py:266: SyntaxWarning: invalid escape sequence '\\s'\n",
            "  if re.search(\"n\\s*=\\s*round\\(a\\*10\\*\\*\\(\\-x\\)\\,\\s*2\\)\", code):\n",
            "/content/math_code_test_c.py:282: SyntaxWarning: invalid escape sequence '\\.'\n",
            "  if re.search(\"plt\\.plot\\(x1\\,\\s*math\\.e\\*\\*x1\\,\\s*\\'b\\'\\)\", code):\n",
            "/content/math_code_test_c.py:284: SyntaxWarning: invalid escape sequence '\\.'\n",
            "  elif re.search(\"plt\\.plot\\(x2\\,\\s*np\\.log2\\(x2\\)\\,\\s*\\'g\\'\\)\", code):\n",
            "/content/math_code_test_c.py:290: SyntaxWarning: invalid escape sequence '\\.'\n",
            "  if re.search(\"plt\\.plot\\(x1\\,\\s*math\\.e\\*\\*x1\\,\\s*\\'b\\'\\)\", code):\n",
            "/content/math_code_test_c.py:292: SyntaxWarning: invalid escape sequence '\\.'\n",
            "  elif re.search(\"plt\\.plot\\(x1\\,\\s*2\\*\\*x1\\,\\s*\\'b\\'\\)\", code):\n",
            "/content/math_code_test_c.py:306: SyntaxWarning: invalid escape sequence '\\.'\n",
            "  if re.search(\"math\\.ceil\\(\\-math\\.log\\(decimal\\,\\s*10\\)\\)\", code):\n"
          ]
        }
      ]
    },
    {
      "cell_type": "markdown",
      "metadata": {
        "id": "r1AM-AcqkbyF"
      },
      "source": [
        "# Step 1 - Graphing Inequalities"
      ]
    },
    {
      "cell_type": "markdown",
      "metadata": {
        "id": "K8rdL_OEkd-t"
      },
      "source": [
        "Learn Inequalities by Building Shaded Graphs. Notice how you set up the plot, like you learned in the last certification. Run the following code and you will see that the graph of y <u>></u> 2x is not quite right. Because y is greater, the shading should be above the line. The second two arguments in the `fill_between()` function give a range of y values to shade. Change just that part of the code to make the graph correct. (Hint: Think about the top of the graph.)\n"
      ]
    },
    {
      "cell_type": "code",
      "metadata": {
        "id": "QAVgVP3xUd4J",
        "colab": {
          "base_uri": "https://localhost:8080/",
          "height": 504
        },
        "outputId": "dd760c28-a346-4eaa-8f81-91839103f9ec"
      },
      "source": [
        "import matplotlib.pyplot as plt\n",
        "import numpy as np\n",
        "\n",
        "xmin = -10\n",
        "xmax = 10\n",
        "ymin = - 10\n",
        "ymax = 10\n",
        "points = 2*(xmax-xmin)\n",
        "x = np.linspace(xmin,xmax,points)\n",
        "\n",
        "fig, ax = plt.subplots()\n",
        "plt.axis([xmin,xmax,ymin,ymax]) # window size\n",
        "plt.plot([xmin,xmax],[0,0],'b') # blue x axis\n",
        "plt.plot([0,0],[ymin,ymax], 'b') # blue y axis\n",
        "\n",
        "plt.title(\"y > 2x\")\n",
        "\n",
        "y1 = 2*x\n",
        "plt.plot(x, y1)\n",
        "\n",
        "# Only change code below this line\n",
        "plt.fill_between(x, y1, ymax)\n",
        "\n",
        "plt.show()\n",
        "\n",
        "# Only change code above this line\n",
        "import math_code_test_c as test\n",
        "test.step01(In[-1].split('# Only change code above this line')[0])"
      ],
      "execution_count": null,
      "outputs": [
        {
          "output_type": "display_data",
          "data": {
            "text/plain": [
              "<Figure size 640x480 with 1 Axes>"
            ],
            "image/png": "[encoded data removed]"
          },
          "metadata": {}
        },
        {
          "output_type": "stream",
          "name": "stdout",
          "text": [
            " \n",
            "Code test passed\n",
            "Go on to the next step\n"
          ]
        }
      ]
    },
    {
      "cell_type": "markdown",
      "metadata": {
        "id": "8wXbGsoYkm60"
      },
      "source": [
        "# Step 2 - Graphing inequalities - Part 2"
      ]
    },
    {
      "cell_type": "markdown",
      "metadata": {
        "id": "ehY1G02Dkv7r"
      },
      "source": [
        "The default graph will give you a solid line, but you can change the type of line and the color. As `'b'` is for a solid blue line, `'b--'` will be a dashed blue line and `'r--'` will display a dashed red line. Change the code to graph a dashed red line."
      ]
    },
    {
      "cell_type": "code",
      "metadata": {
        "id": "3Pp_SmUikwgy",
        "colab": {
          "base_uri": "https://localhost:8080/",
          "height": 487
        },
        "outputId": "ff7af98b-675f-4086-8faf-60c63d24b2a8"
      },
      "source": [
        "import matplotlib.pyplot as plt\n",
        "import numpy as np\n",
        "\n",
        "xmin = -10\n",
        "xmax = 10\n",
        "ymin = - 10\n",
        "ymax = 10\n",
        "points = 2*(xmax-xmin)\n",
        "x = np.linspace(xmin,xmax,points)\n",
        "\n",
        "fig, ax = plt.subplots()\n",
        "plt.axis([xmin,xmax,ymin,ymax]) # window size\n",
        "plt.plot([xmin,xmax],[0,0],'b') # blue x axis\n",
        "plt.plot([0,0],[ymin,ymax], 'b') # blue y axis\n",
        "\n",
        "y1 = 2*x\n",
        "\n",
        "# Only change the next line:\n",
        "plt.plot(x, y1, 'r--')\n",
        "\n",
        "plt.fill_between(x, y1, ymin)\n",
        "plt.show()\n",
        "\n",
        "\n",
        "\n",
        "# Only change code above this line\n",
        "import math_code_test_c as test\n",
        "test.step02(In[-1].split('# Only change code above this line')[0])"
      ],
      "execution_count": null,
      "outputs": [
        {
          "output_type": "display_data",
          "data": {
            "text/plain": [
              "<Figure size 640x480 with 1 Axes>"
            ],
            "image/png": "[encoded data removed]"
          },
          "metadata": {}
        },
        {
          "output_type": "stream",
          "name": "stdout",
          "text": [
            " \n",
            "Code test passed\n",
            "Go on to the next step\n"
          ]
        }
      ]
    },
    {
      "cell_type": "markdown",
      "metadata": {
        "id": "tBxuJtHck2Oo"
      },
      "source": [
        "# Step 3 - Making Art with Graphs"
      ]
    },
    {
      "cell_type": "markdown",
      "metadata": {
        "id": "PTr63nCrlTiM"
      },
      "source": [
        "Now plot four inequalities on the graph, in a pattern. Notice how you only need to define the x values once. In the `fill_between()` function notice a fourth argument, `facecolor=`, to indicate a different color for the shaded area. The color name in single quotes, like 'green' or 'yellow' or any common color name. Run the code to see the pattern, then reverse the order of the colors and run it again."
      ]
    },
    {
      "cell_type": "code",
      "metadata": {
        "id": "Iyoq1h3vlV-a",
        "colab": {
          "base_uri": "https://localhost:8080/",
          "height": 487
        },
        "outputId": "86f8bdde-e95c-4ba6-ccb2-31f541c1f7c6"
      },
      "source": [
        "import matplotlib.pyplot as plt\n",
        "import numpy as np\n",
        "\n",
        "xmin = -10\n",
        "xmax = 10\n",
        "ymin = - 10\n",
        "ymax = 10\n",
        "points = 2*(xmax-xmin)\n",
        "x = np.linspace(xmin,xmax,points)\n",
        "\n",
        "fig, ax = plt.subplots()\n",
        "plt.axis([xmin,xmax,ymin,ymax]) # window size\n",
        "plt.plot([xmin,xmax],[0,0],'b') # blue x axis\n",
        "plt.plot([0,0],[ymin,ymax], 'b') # blue y axis\n",
        "\n",
        "# Only change the lines indicated below\n",
        "\n",
        "# line 1\n",
        "y1 = x+6\n",
        "plt.plot(x, y1)\n",
        "plt.fill_between(x, y1, 10, facecolor='blue') # change this line\n",
        "\n",
        "# line 2\n",
        "y2 = x+3\n",
        "plt.plot(x, y2)\n",
        "plt.fill_between(x, y2, y1, facecolor='green') # change this line\n",
        "\n",
        "# line 3\n",
        "y3 = x-1\n",
        "plt.plot(x, y3)\n",
        "plt.fill_between(x, y3, y2, facecolor='yellow') # change this line\n",
        "\n",
        "# line 4\n",
        "y4 = x-4\n",
        "plt.plot(x, y4)\n",
        "plt.fill_between(x, y4, y3, facecolor='red') # change this line\n",
        "\n",
        "plt.show()\n",
        "\n",
        "\n",
        "\n",
        "# Only change code above this line\n",
        "import math_code_test_c as test\n",
        "test.step03(In[-1].split('# Only change code above this line')[0])"
      ],
      "execution_count": null,
      "outputs": [
        {
          "output_type": "display_data",
          "data": {
            "text/plain": [
              "<Figure size 640x480 with 1 Axes>"
            ],
            "image/png": "[encoded data removed]"
          },
          "metadata": {}
        },
        {
          "output_type": "stream",
          "name": "stdout",
          "text": [
            " \n",
            "Code test passed\n",
            "Go on to the next step\n"
          ]
        }
      ]
    },
    {
      "cell_type": "markdown",
      "metadata": {
        "id": "s3z_zaNWlet8"
      },
      "source": [
        "# Step 4 - Monomials"
      ]
    },
    {
      "cell_type": "markdown",
      "metadata": {
        "id": "BTOGQIpElet-"
      },
      "source": [
        "A <i>monomial</i> means \"one thing\" or one term. In a math equation, each term has a sign, a coefficient, and a variable to an exponent. Here are some examples: In the term -3x<sup>2</sup> you can see that the sign is negative, the coefficient is 3, the variable is x, the exponent is 2. The term x also has all of these parts: the sign is positive, the coefficient is 1, the variable is x, and the exponent is 1. In the term 5, the sign is positive, the coefficient is 5, the variable is still x, and the exponent is zero (notice that you don't need to write some of these parts, like x<sup>0</sup>). You can use `sympy` to display monomials nicely. Just run the code to see how this looks.  "
      ]
    },
    {
      "cell_type": "code",
      "metadata": {
        "id": "oAPKmzeblet_",
        "colab": {
          "base_uri": "https://localhost:8080/",
          "height": 73
        },
        "outputId": "22d3fe2f-ab00-41d0-f8e0-df351760d670"
      },
      "source": [
        "from sympy import symbols, Eq\n",
        "\n",
        "x = symbols('x')\n",
        "eq1 = Eq(-2*x**3 , -16)\n",
        "display(eq1)\n",
        "\n",
        "\n",
        "# Just run this code\n",
        "import math_code_test_c as test\n",
        "test.step00()"
      ],
      "execution_count": null,
      "outputs": [
        {
          "output_type": "display_data",
          "data": {
            "text/plain": [
              "Eq(-2*x**3, -16)"
            ],
            "text/latex": "$\\displaystyle - 2 x^{3} = -16$"
          },
          "metadata": {}
        },
        {
          "output_type": "stream",
          "name": "stdout",
          "text": [
            "Code test passed\n",
            "Go on to the next step\n"
          ]
        }
      ]
    },
    {
      "cell_type": "markdown",
      "metadata": {
        "id": "lnP9BOpPlhdK"
      },
      "source": [
        "# Step 5 - Polynomials"
      ]
    },
    {
      "cell_type": "markdown",
      "metadata": {
        "id": "ABF6PI7TlhdL"
      },
      "source": [
        "A \"monomial\" is one thing. A \"binomial\" is two things. A \"trinomial\" is three things. A \"polynomial\" is many things. In standard form, `x` is the variable; you put your terms in order from highest exponent to lowest; refer to the coefficients with letters in alphabetical order; and set all of this equal to `y` (because it is a function that you can graph). Example: y = ax<sup>4</sup> + bx<sup>3</sup> + cx<sup>2</sup> + dx + e <br>\n",
        "Write code to prompt for integer input and display a polynomial. Remember to use the `**` for exponents. Parts of this are already done for you."
      ]
    },
    {
      "cell_type": "code",
      "metadata": {
        "id": "USVAJRualhdL",
        "colab": {
          "base_uri": "https://localhost:8080/",
          "height": 177
        },
        "outputId": "76f7b760-cb2d-4c2a-ce58-748ccd0cb432"
      },
      "source": [
        "from IPython.display import display, Math\n",
        "from sympy import *\n",
        "\n",
        "x,y = symbols('x y')\n",
        "\n",
        "a = int(input(\"Enter coefficient A: \"))\n",
        "b = int(input(\"Enter coefficient B: \"))\n",
        "# continue this to prompt for variables c and d\n",
        "c = int(input(\"Enter coefficient C: \"))\n",
        "d = int(input(\"Enter coefficient D: \"))\n",
        "\n",
        "# change the next line to display the full polynomial\n",
        "y = a*x**3 + b*x**2 + c*x + d\n",
        "\n",
        "print(\"Here is your equation:\")\n",
        "display(Math(\"y = \" + latex(y)))\n",
        "\n",
        "\n",
        "# Only change code above this line\n",
        "import math_code_test_c as test\n",
        "test.step05(In[-1].split('# Only change code above this line')[0])"
      ],
      "execution_count": null,
      "outputs": [
        {
          "output_type": "stream",
          "name": "stdout",
          "text": [
            "Enter coefficient A: 2\n",
            "Enter coefficient B: 5\n",
            "Enter coefficient C: 12\n",
            "Enter coefficient D: 25\n",
            "Here is your equation:\n"
          ]
        },
        {
          "output_type": "display_data",
          "data": {
            "text/plain": [
              "<IPython.core.display.Math object>"
            ],
            "text/latex": "$\\displaystyle y = 2 x^{3} + 5 x^{2} + 12 x + 25$"
          },
          "metadata": {}
        },
        {
          "output_type": "stream",
          "name": "stdout",
          "text": [
            " \n",
            "Code test passed\n",
            "Go on to the next step\n"
          ]
        }
      ]
    },
    {
      "cell_type": "markdown",
      "metadata": {
        "id": "yoavB8H_ljVn"
      },
      "source": [
        "# Step 6 - Interactive Polynomial Graph"
      ]
    },
    {
      "cell_type": "markdown",
      "metadata": {
        "id": "3yk-TKO6ljVo"
      },
      "source": [
        "For this polynomial, y = ax<sup>2</sup> + bx + c, you can move the sliders to adjust the coefficients and see how that affects the graph. Notice how the `f()` function takes two arguments and the `interactive()` function defines two sliders. Run this code and interact with it. Then add the third coefficient (\"c\") by changing three things: the `def` line so that the function takes three arguments, the `plt.plot` line so that it includes \"+ c\", and the `interactive` line to include a third slider."
      ]
    },
    {
      "cell_type": "code",
      "metadata": {
        "id": "sOecWXLOljVo",
        "colab": {
          "base_uri": "https://localhost:8080/",
          "height": 583,
          "referenced_widgets": [
            "d4f202389da849b0a206c41441ccda2b",
            "024ee0dd2ec8434ebcb890535aa08955",
            "09fc1770d14d4200816d63fefeef3bb7",
            "ec367ade168a44fbbeeec68411715d52",
            "1547dc6080ac4910bf3ca9cd1c8f4e6f",
            "d53a4b1622824c54ad32d6adf33c3cc2",
            "f7a215f9973a4964bf94e2b4b0cf68e7",
            "250fb8a6a27d4de4b238b283434fac48",
            "7bfbf9acc5984e87a3652992b2610b4f",
            "305a14208ce54d749f1255156204af68",
            "13fbeb16d0d74bad9de8d61417483805",
            "780fecafe5cf4850aaa1d89c3903fae9",
            "21e4927e804c426eb9e76ed8a747096a"
          ]
        },
        "outputId": "0db7363d-7920-4c2a-ccd8-8c9e91b729f7"
      },
      "source": [
        "%matplotlib inline\n",
        "from ipywidgets import interactive\n",
        "import matplotlib.pyplot as plt\n",
        "import numpy as np\n",
        "\n",
        "# Change the next line:\n",
        "def f(a, b, c):\n",
        "    plt.axis([-10,10,-10,10]) # window size\n",
        "    plt.plot([-10,10],[0,0],'k') # blue x axis\n",
        "    plt.plot([0,0],[-10,10], 'k') # blue y axis\n",
        "    x = np.linspace(-10, 10, 200)\n",
        "    plt.plot(x, a*x**2+b*x+c) # Change this line\n",
        "    plt.show()\n",
        "\n",
        "# Change the next line:\n",
        "interactive_plot = interactive(f, a=(-9, 9), b=(-9, 9), c=(-9, 9))\n",
        "display(interactive_plot)\n",
        "\n",
        "\n",
        "# Only change code above this line\n",
        "import math_code_test_c as test\n",
        "test.step06(In[-1].split('# Only change code above this line')[0])"
      ],
      "execution_count": null,
      "outputs": [
        {
          "output_type": "display_data",
          "data": {
            "text/plain": [
              "interactive(children=(IntSlider(value=0, description='a', max=9, min=-9), IntSlider(value=0, description='b', …"
            ],
            "application/vnd.jupyter.widget-view+json": {
              "version_major": 2,
              "version_minor": 0,
              "model_id": "d4f202389da849b0a206c41441ccda2b"
            }
          },
          "metadata": {}
        },
        {
          "output_type": "stream",
          "name": "stdout",
          "text": [
            " \n",
            "Code test passed\n",
            "Go on to the next step\n"
          ]
        }
      ]
    },
    {
      "cell_type": "markdown",
      "metadata": {
        "id": "MlRfYVIylkQf"
      },
      "source": [
        "# Step 7 - Exponential Functions"
      ]
    },
    {
      "cell_type": "markdown",
      "metadata": {
        "id": "H16dtXc0lkQg"
      },
      "source": [
        "The general formula for an `exponential function` is $y = a*b^{x}$ (where `a` and `b` are constants and `x` is the variable in the exponent). The shape of exponential graphs, especially when not drawn to scale, are very consistent, so the numerical values are more important to calculate. Things that grow exponentially include populations, investments, and other \"percent increase\" situations. Run this code and use the sliders to see the slight changes. Notice the scale. Then change the slider so that `a` has negative values from -9 to -1 and see how that changes the graph."
      ]
    },
    {
      "cell_type": "code",
      "metadata": {
        "id": "8KIMFu7LlkQg",
        "colab": {
          "base_uri": "https://localhost:8080/",
          "height": 551,
          "referenced_widgets": [
            "757c0eaf4fb64ec5a49d0cbf7152c87d",
            "489f1625a6dd49459f92a71815ce36e1",
            "541306895f124575be2de82cd2315aaa",
            "636ecf0996654b66bd28f0255bb82783",
            "72b66e11229b4b1888252ce238f04bd0",
            "d75b2b0c85354e30aee88a6d57a2f321",
            "3e9148d664a34ddcb3b5bb6e82e331f7",
            "15efa99f566d4319a90db271a6324552",
            "e580bd3b32ab43baa323a0fc1f82eec1",
            "4e007f35eb7b45d5899972429c1a4c44"
          ]
        },
        "outputId": "23b59762-7065-43cb-9c1d-7adff9d61a10"
      },
      "source": [
        "%matplotlib inline\n",
        "from ipywidgets import interactive\n",
        "import matplotlib.pyplot as plt\n",
        "import numpy as np\n",
        "\n",
        "xmin = -10\n",
        "xmax = 10\n",
        "ymin = -100\n",
        "ymax = 100\n",
        "\n",
        "def f(a, b):\n",
        "    plt.axis([xmin,xmax,ymin,ymax]) # window size\n",
        "    plt.plot([xmin,xmax],[0,0],'k') # x axis\n",
        "    plt.plot([0,0],[ymin,ymax], 'k') # y axis\n",
        "    x = np.linspace(xmin, xmax, 1000)\n",
        "    plt.plot(x, a*b**x)\n",
        "    plt.show()\n",
        "\n",
        "# Only change the next line:\n",
        "interactive_plot = interactive(f, a=(-9, -1), b=(1, 9))\n",
        "display(interactive_plot)\n",
        "\n",
        "\n",
        "# Only change code above this line\n",
        "import math_code_test_c as test\n",
        "test.step07(In[-1].split('# Only change code above this line')[0])"
      ],
      "execution_count": null,
      "outputs": [
        {
          "output_type": "display_data",
          "data": {
            "text/plain": [
              "interactive(children=(IntSlider(value=-5, description='a', max=-1, min=-9), IntSlider(value=5, description='b'…"
            ],
            "application/vnd.jupyter.widget-view+json": {
              "version_major": 2,
              "version_minor": 0,
              "model_id": "757c0eaf4fb64ec5a49d0cbf7152c87d"
            }
          },
          "metadata": {}
        },
        {
          "output_type": "stream",
          "name": "stdout",
          "text": [
            " \n",
            "Code test passed\n",
            "Go on to the next step\n"
          ]
        }
      ]
    },
    {
      "cell_type": "markdown",
      "metadata": {
        "id": "NGH1FcttllvS"
      },
      "source": [
        "# Step 8 - Percent Increase"
      ]
    },
    {
      "cell_type": "markdown",
      "metadata": {
        "id": "KLKYiioGllvT"
      },
      "source": [
        "One formula for calculating a percent increase is <b>A = P(1 + r)<sup>t</sup></b> where `A` would be the `y` value on a graph and `t` would be the `x` value. `A` is the <i>annuity</i>, which is the amount you have at the end. `P` is the <i>principle</i>, which is the amount you have at the beginning. `R` (usually not capitalized) is the <i>rate</i>, a percent converted to a decimal. The exponent `t` represents <i>time</i>, usually in years. The code already prompts for `P`, `r` and `t`, so use those variables to calculate the annuity value."
      ]
    },
    {
      "cell_type": "code",
      "metadata": {
        "id": "Vkp6zmxIllvT",
        "colab": {
          "base_uri": "https://localhost:8080/"
        },
        "outputId": "f1c9e5b6-17d3-46f8-c5c4-0c03478f2cda"
      },
      "source": [
        "p = float(input(\"Starting amount = \"))\n",
        "r = float(input(\"Enter the percentage rate, converted to a decimal: \"))\n",
        "t = float(input(\"How many years will this investment grow? \"))\n",
        "\n",
        "# Change the next line to calculate the annuity\n",
        "a = p*(1+r)**t\n",
        "\n",
        "print(\"The annuity is \", a)\n",
        "\n",
        "\n",
        "# Only change code above this line\n",
        "import math_code_test_c as test\n",
        "test.step08(In[-1].split('# Only change code above this line')[0])"
      ],
      "execution_count": null,
      "outputs": [
        {
          "output_type": "stream",
          "name": "stdout",
          "text": [
            "Starting amount = 25\n",
            "Enter the percentage rate, converted to a decimal: 25\n",
            "How many years will this investment grow? 2\n",
            "The annuity is  16900.0\n",
            " \n",
            "Code test passed\n",
            "Go on to the next step\n"
          ]
        }
      ]
    },
    {
      "cell_type": "markdown",
      "metadata": {
        "id": "Sx0kwIdalmmY"
      },
      "source": [
        "# Step 9 - Percent Decrease"
      ]
    },
    {
      "cell_type": "markdown",
      "metadata": {
        "id": "Wx7fXQDKlmmZ"
      },
      "source": [
        "The percent decrease formula is very similar, except you subtract the rate, so the formula is <b>A = P(1 - r)<sup>t</sup></b>. Some things that decrease by a percent include car values, decay of some elements, and sales discounts. Use the existing variables to calculate the final value (`a`)."
      ]
    },
    {
      "cell_type": "code",
      "metadata": {
        "id": "zJmQoa6YlmmZ",
        "colab": {
          "base_uri": "https://localhost:8080/"
        },
        "outputId": "0a15dca6-cf9e-40c8-967f-a1e7d835f341"
      },
      "source": [
        "p = float(input(\"Starting amount = \"))\n",
        "r = float(input(\"Enter the percentage rate, converted to a decimal: \"))\n",
        "t = float(input(\"How many years will this decrease continue? \"))\n",
        "\n",
        "# Change the next line to calculate the final amount\n",
        "a = p*(1-r)**t\n",
        "\n",
        "print(\"The final amount is \", a)\n",
        "\n",
        "# Only change code above this line\n",
        "import math_code_test_c as test\n",
        "test.step09(In[-1].split('# Only change code above this line')[0])"
      ],
      "execution_count": null,
      "outputs": [
        {
          "output_type": "stream",
          "name": "stdout",
          "text": [
            "Starting amount = 25\n",
            "Enter the percentage rate, converted to a decimal: 2\n",
            "How many years will this decrease continue? 1\n",
            "The final amount is  -25.0\n",
            " \n",
            "Code test passed\n",
            "Go on to the next step\n"
          ]
        }
      ]
    },
    {
      "cell_type": "markdown",
      "source": [
        "#Step 10 - Compound Interest"
      ],
      "metadata": {
        "id": "S-DVSzwDvKvE"
      }
    },
    {
      "cell_type": "markdown",
      "source": [
        "When you use percent increase formulas for money in the bank, it's called <i>compound interest</i>. The amount of money you earn beyond the original principle is the interest. When the bank calculates the interest and adds it to the principle, that process is called <i>compounding</i> and it can happen any number of times per year. The formula is <b> A = P(1 + $\\frac{r}{n}$)<sup>nt</sup></b> where <i>n</i> is the number of times the bank compounds the money per year. Notice that if n = 1 then this formula is the same as the formula from an earlier step. Write the code to calculate the annuity (hint: use extra parentheses)."
      ],
      "metadata": {
        "id": "qf181QFOvCgd"
      }
    },
    {
      "cell_type": "code",
      "source": [
        "p = float(input(\"Starting amount: \"))\n",
        "r = float(input(\"Percentage rate, converted to a decimal: \"))\n",
        "t = float(input(\"Number of years this investment will grow: \"))\n",
        "n = int(input(\"Number of times compounded per year: \"))\n",
        "\n",
        "# Change the next line to calculate the annuity\n",
        "annuity = p*(1+(r/n))**(n*t)\n",
        "\n",
        "print(\"The annuity is \", annuity)\n",
        "\n",
        "\n",
        "# Only change code above this line\n",
        "import math_code_test_c as test\n",
        "test.step10(In[-1].split('# Only change code above this line')[0])"
      ],
      "metadata": {
        "id": "O0FAXixVvGXh",
        "colab": {
          "base_uri": "https://localhost:8080/"
        },
        "outputId": "32d86cc4-3d42-42e3-f757-95dacc413113"
      },
      "execution_count": null,
      "outputs": [
        {
          "output_type": "stream",
          "name": "stdout",
          "text": [
            "Starting amount: 25\n",
            "Percentage rate, converted to a decimal: 5\n",
            "Number of years this investment will grow: 2\n",
            "Number of times compounded per year: 6\n",
            "The annuity is  36044.35230864767\n",
            " \n",
            "Code test passed\n",
            "Go on to the next step\n"
          ]
        }
      ]
    },
    {
      "cell_type": "markdown",
      "metadata": {
        "id": "H6LTAPYplxvi"
      },
      "source": [
        "# Step 11 - Continuous Growth"
      ]
    },
    {
      "cell_type": "markdown",
      "metadata": {
        "id": "5oRPxD6olxvi"
      },
      "source": [
        "In the first formula, A = P(1 + r)<sup>t</sup>, money is compounded annually.<br>\n",
        "In the second formula, A = P(1 + $\\frac{r}{n})^{nt}$, money is compounded `n` times per year.<br>\n",
        "As `n` gets to be a really big number, you get a different formula, A = Pe$^{rt}$, for continuous growth.<br>\n",
        "In this formula, `e` is a constant, about equal to 2.718281828. The following code already prompts for the four variables once. Use those variables to compare the annuity from the three formulas. Notice you need to `import math` to use `math.e` (the best approximation of e)."
      ]
    },
    {
      "cell_type": "code",
      "metadata": {
        "id": "kf3Q0Yg7lxvk",
        "colab": {
          "base_uri": "https://localhost:8080/"
        },
        "outputId": "1b5a29de-6580-4a9b-aac3-1fe9e0fb9323"
      },
      "source": [
        "import math\n",
        "\n",
        "p = float(input(\"Principle: \"))\n",
        "r = float(input(\"Rate: \"))\n",
        "t = int(input(\"Time: \"))\n",
        "n = int(input(\"N: \"))\n",
        "\n",
        "# Only change the following three formulas:\n",
        "a_annual = p*(1+r)**t\n",
        "a_n_times = p*(1+r/n)**(n*t)\n",
        "a_continuous = p*math.e**(r*t) # use math.e in this formula\n",
        "\n",
        "# Only change the code above this line\n",
        "\n",
        "print(\"Compounded annually, anuity = \", a_annual)\n",
        "print(\"Compounded \", n, \"times per year, anuity = \", a_n_times)\n",
        "print(\"Compounded continuously, anuity = \", a_continuous)\n",
        "\n",
        "\n",
        "# Only change code above this line\n",
        "import math_code_test_c as test\n",
        "test.step11(In[-1].split('# Only change code above this line')[0])"
      ],
      "execution_count": null,
      "outputs": [
        {
          "output_type": "stream",
          "name": "stdout",
          "text": [
            "Principle: 25\n",
            "Rate: 5\n",
            "Time: 2\n",
            "N: 6\n",
            "Compounded annually, anuity =  900.0\n",
            "Compounded  6 times per year, anuity =  36044.35230864767\n",
            "Compounded continuously, anuity =  550661.6448701676\n",
            " \n",
            "Code test passed\n",
            "Go on to the next step\n"
          ]
        }
      ]
    },
    {
      "cell_type": "markdown",
      "metadata": {
        "id": "iaEBltZXln-Q"
      },
      "source": [
        "# Step 12 - Investments"
      ]
    },
    {
      "cell_type": "markdown",
      "source": [
        "If you have an investment where you contrubute money every month and the value also increases by a consistent percentage, you can create a loop to calculate the accumulated value. In each iteration, use the <i>simple interest</i> formula: interest = principle * rate * time. (Hint: for one month, t = $\\frac{1}{12}$ or you can just divide by 12.)"
      ],
      "metadata": {
        "id": "JTQ9uZw3UeGT"
      }
    },
    {
      "cell_type": "code",
      "metadata": {
        "id": "t7sRzH5Oln-R",
        "colab": {
          "base_uri": "https://localhost:8080/"
        },
        "outputId": "0403f6c3-4aa0-4605-8816-09d2ca093ed1"
      },
      "source": [
        "p = float(input(\"Starting amount: \"))\n",
        "r = float(input(\"Annual percentage rate: \"))\n",
        "t = int(input(\"Number of years: \"))\n",
        "monthly = float(input(\"Monthly contribution: \"))\n",
        "\n",
        "# Hint: keep updating this annuity variable in the loop\n",
        "annuity = p\n",
        "\n",
        "# Each iteration of the loop represents one month\n",
        "for a in range(12*t):\n",
        "    annuity = annuity + monthly\n",
        "    # Change the next line to calculate the interest\n",
        "    interest = annuity*r/12\n",
        "    annuity = annuity + interest\n",
        "\n",
        "# Keep this line:\n",
        "print(\"Annuity = \", annuity)\n",
        "\n",
        "\n",
        "# Only change code above this line\n",
        "import math_code_test_c as test\n",
        "test.step12(p,r,t,monthly,annuity)"
      ],
      "execution_count": null,
      "outputs": [
        {
          "output_type": "stream",
          "name": "stdout",
          "text": [
            "Starting amount: 15\n",
            "Annual percentage rate: 5\n",
            "Number of years: 2\n",
            "Monthly contribution: 0\n",
            "Annuity =  64049.45917782253\n",
            " \n",
            "Code test passed\n",
            "Go on to the next step\n"
          ]
        }
      ]
    },
    {
      "cell_type": "markdown",
      "metadata": {
        "id": "l5GwlqRdlpEu"
      },
      "source": [
        "# Step 13 - Mortgage Payments"
      ]
    },
    {
      "cell_type": "markdown",
      "metadata": {
        "id": "50OH4hj8lpEv"
      },
      "source": [
        "When borrowing a large amount of money over a long period of time, the formula to calculate monthly payments gets complicated. Here it is:<br>\n",
        " monthly payment = P$\\frac{\\frac{r}{12}(1 + \\frac{r}{12})^{12t}}{(1 + \\frac{r}{12})^{12t} - 1}$ where, as usual, `P` is the principle, `r` is the annual interest rate (as a decimal), and  `t` is the time in years. Write the code to prompt for these variables and calculate the monthly payment. Hint: Use other variables and do this in steps."
      ]
    },
    {
      "cell_type": "code",
      "metadata": {
        "id": "E5X8_WbnlpEv",
        "colab": {
          "base_uri": "https://localhost:8080/"
        },
        "outputId": "604e2225-3ac3-4945-ed8c-80e9de997bc0"
      },
      "source": [
        "p = float(input(\"Amount borrowed: \"))\n",
        "r = float(input(\"Annual percentage rate: \"))\n",
        "t = float(input(\"Number of years: \"))\n",
        "\n",
        "# Write your code here and change the pmt variable\n",
        "\n",
        "nominator = (r/12)*(1+r/12)**(12*t)\n",
        "denominator = (1+r/12)**(12*t)-1\n",
        "pmt = p*nominator/denominator\n",
        "\n",
        "\n",
        "print(\"Monthly payment = $\", pmt)\n",
        "\n",
        "\n",
        "# Only change code above this line\n",
        "import math_code_test_c as test\n",
        "test.step13(p,r,t,pmt)"
      ],
      "execution_count": null,
      "outputs": [
        {
          "output_type": "stream",
          "name": "stdout",
          "text": [
            "Amount borrowed: 1500\n",
            "Annual percentage rate: 5\n",
            "Number of years: 2\n",
            "Monthly payment = $ 625.1464055466444\n",
            " \n",
            "Code test passed\n",
            "Go on to the next step\n"
          ]
        }
      ]
    },
    {
      "cell_type": "markdown",
      "metadata": {
        "id": "8vdTo36Pl0yv"
      },
      "source": [
        "# Step 14 - Exponents and Logarithms"
      ]
    },
    {
      "cell_type": "markdown",
      "metadata": {
        "id": "gyMju8CVl0yw"
      },
      "source": [
        "Exponential functions and logarithmic functions are inverses of each other. Here is an example: <b>2<sup>4</sup> = 16</b> and <b>log<sub>2</sub>16 = 4</b>. Both have the same information rearranged in different ways. If you had 2<sup>4</sup> = x you would be able to do that easily, but if you had 2<sup>x</sup> = 16 it would be more difficult. You could write that last equation as a logarithm: log<sub>2</sub>16 = x. In Python, you would write this as `math.log(16,2)`. In both cases, you would read it as \"the log, base 2, of 16\" and the answer would be an exponent. The logarithm is especially useful when the exponent is not a nice integer. Write code to prompt for the base and the result, then use logarithms to calculate the exponent."
      ]
    },
    {
      "cell_type": "code",
      "metadata": {
        "id": "ehtA_ATbl0yw",
        "colab": {
          "base_uri": "https://localhost:8080/"
        },
        "outputId": "a92fd9dc-0826-44bb-ef5f-ea0bde3bf65e"
      },
      "source": [
        "import math\n",
        "\n",
        "base = float(input(\"base: \"))\n",
        "result = float(input(\"result: \"))\n",
        "\n",
        "# Just change the next line:\n",
        "exp = math.log(result,base)\n",
        "\n",
        "print(\"exponent = \", exp)\n",
        "\n",
        "\n",
        "# Only change code above this line\n",
        "import math_code_test_c as test\n",
        "test.step14(In[-1].split('# Only change code above this line')[0])"
      ],
      "execution_count": null,
      "outputs": [
        {
          "output_type": "stream",
          "name": "stdout",
          "text": [
            "base: 2\n",
            "result: 25\n",
            "exponent =  4.643856189774724\n",
            " \n",
            "Code test passed\n",
            "Go on to the next step\n"
          ]
        }
      ]
    },
    {
      "cell_type": "markdown",
      "metadata": {
        "id": "U_7bv7aG4UJe"
      },
      "source": [
        "# Step 15 - Natural Logs"
      ]
    },
    {
      "cell_type": "markdown",
      "metadata": {
        "id": "uKjifZw04UJe"
      },
      "source": [
        "If you know the rate, how long will it take for something to double?\n",
        "Start with the continuous growth formula:<br>\n",
        "A = Pe<sup>rt</sup><br>\n",
        "If annuity is two times the principle, divide both sides by P\n",
        "and get this:<br>\n",
        "2 = e<sup>rt</sup><br>\n",
        "Because of the base <i>e</i>, take the natural log of both sides and get this:<br>\n",
        "ln(2) = rt<br>\n",
        "Then divide by r to solve for t or divide by t to solve for r. In Python, use `math.log()` with one argument and no base to calculate natural log (which is a logarithm with base e). So the natural log of 2 is `math.log(2)`. Just run the code to see this example."
      ]
    },
    {
      "cell_type": "code",
      "metadata": {
        "id": "dM3RxByK4UJe",
        "colab": {
          "base_uri": "https://localhost:8080/"
        },
        "outputId": "988d84f0-d0a9-40cb-ece4-a25e517c55ad"
      },
      "source": [
        "import math\n",
        "\n",
        "r = float(input(\"Enter the annual rate as a decimal: \\n\"))\n",
        "t = math.log(2)/r\n",
        "print(\"Your money will double in \", t, \" years\")\n",
        "\n",
        "\n",
        "# Just run this code\n",
        "import math_code_test_c as test\n",
        "test.step00()"
      ],
      "execution_count": null,
      "outputs": [
        {
          "output_type": "stream",
          "name": "stdout",
          "text": [
            "Enter the annual rate as a decimal: \n",
            "15\n",
            "Your money will double in  0.046209812037329684  years\n",
            "Code test passed\n",
            "Go on to the next step\n"
          ]
        }
      ]
    },
    {
      "cell_type": "markdown",
      "metadata": {
        "id": "B7DOz9nh4XAb"
      },
      "source": [
        "# Step 16 - Common Logs"
      ]
    },
    {
      "cell_type": "markdown",
      "metadata": {
        "id": "MD3dH5yF4XAb"
      },
      "source": [
        "The <i>common log</i> is base 10, because that is our number system. Run this code a few times to see how the exponents relate to moving the decimal point to get the resulting number. Notice the floor function. Then take out the floor function to see the exact logarithm."
      ]
    },
    {
      "cell_type": "code",
      "metadata": {
        "id": "n390hG0GcEXI",
        "colab": {
          "base_uri": "https://localhost:8080/"
        },
        "outputId": "9412aa68-0f80-43a4-b048-7d681471238a"
      },
      "source": [
        "import math\n",
        "\n",
        "n = input('Enter a number with several digits or several decimal places: ')\n",
        "n = float(n)\n",
        "\n",
        "\n",
        "# Rund the code then change the next line:\n",
        "exp = math.log(n, 10)\n",
        "\n",
        "# This avoids a weird Python quirk:\n",
        "if n==1000:\n",
        "    exp = 3;\n",
        "\n",
        "print(\"exponent = \", exp)\n",
        "\n",
        "\n",
        "# Only change code above this line\n",
        "import math_code_test_c as test\n",
        "test.step16(In[-1].split('# Only change code above this line')[0])"
      ],
      "execution_count": null,
      "outputs": [
        {
          "output_type": "stream",
          "name": "stdout",
          "text": [
            "Enter a number with several digits or several decimal places: 16\n",
            "exponent =  1.2041199826559246\n",
            " \n",
            "Code test passed\n",
            "Go on to the next step\n"
          ]
        }
      ]
    },
    {
      "cell_type": "markdown",
      "metadata": {
        "id": "cqvLtj7t4VMN"
      },
      "source": [
        "# Step 17 - Scientific Notation"
      ]
    },
    {
      "cell_type": "markdown",
      "metadata": {
        "id": "-Uh4YmRt4VMN"
      },
      "source": [
        "<i>Scientific Notation</i> is a way of writing very large or very small numbers without all of the zeros or decimal places. For example, 45,000,000 could be written as 4.5 x 10<sup>7</sup> in scientific notation and 0.00000045 could be written as 4.5 x 10<sup>-7</sup>. The notation requires base 10, so it will always use the structure <b>n $*$ 10<sup>x</sup></b> where n is one digit then the decimal point. Change the code below to print each number in scientific notation. Determine the value of each variable by counting (not writing code). You will automate this process in the next step."
      ]
    },
    {
      "cell_type": "code",
      "metadata": {
        "id": "UyPF6dKz4VMO",
        "colab": {
          "base_uri": "https://localhost:8080/"
        },
        "outputId": "c14557c1-f8b4-41ae-e387-0cfea8338111"
      },
      "source": [
        "a = 156000000000\n",
        "b = 0.000000000413\n",
        "\n",
        "# Change the code below this line\n",
        "\n",
        "a1 = 1.56\n",
        "a2 = 11\n",
        "b1 = 4.13\n",
        "b2 = -10\n",
        "\n",
        "print(a, \" = \", a1, \"* 10^\", a2)\n",
        "\n",
        "print(b, \" = \", b1, \"* 10^\", b2)\n",
        "\n",
        "\n",
        "# Only change code above this line\n",
        "import math_code_test_c as test\n",
        "test.step17(b1,b2)"
      ],
      "execution_count": null,
      "outputs": [
        {
          "output_type": "stream",
          "name": "stdout",
          "text": [
            "156000000000  =  1.56 * 10^ 11\n",
            "4.13e-10  =  4.13 * 10^ -10\n",
            " \n",
            "Code test passed\n",
            "Go on to the next step\n"
          ]
        }
      ]
    },
    {
      "cell_type": "markdown",
      "metadata": {
        "id": "GsLj1NhZl1ya"
      },
      "source": [
        "#Step 18 - Logs and Scientific Notation"
      ]
    },
    {
      "cell_type": "markdown",
      "metadata": {
        "id": "uhWbIGVml1yb"
      },
      "source": [
        "Writing code for scientific notation, you will make use of logarithms with base 10. Remember that scientific notation is in the form n $*$ 10<sup>x</sup> where `n` is one digit and then a decimal. To convert a number to scientific notation, take the log of the number and use the `floor()` function to get the expoenent (just as you did in a previous step). Divide the original number by 10 to that exponent and you get `n` (hint: dividing by 10<sup>x</sup> is the same as multiplying by 10<sup>-x</sup>). Rounding is usually necessary. Write the code to convert numbers to scientific notation."
      ]
    },
    {
      "cell_type": "code",
      "metadata": {
        "id": "y8PXrFCYl1yb",
        "colab": {
          "base_uri": "https://localhost:8080/"
        },
        "outputId": "95f17e77-bd33-467b-c846-61fcd6346a30"
      },
      "source": [
        "import math\n",
        "\n",
        "a = .00000000000234\n",
        "b = 12300000000000\n",
        "\n",
        "# Use these three lines as a model\n",
        "x1 = math.floor(math.log(a,10))\n",
        "n1 = round(a*10**(-x1),2)\n",
        "print(\"a = \", n1, \"* 10^\", x1)\n",
        "\n",
        "# Change the next two lines to match the model\n",
        "x2 = math.floor(math.log(b,10))\n",
        "n2 = round(b*10**(-x2),2)\n",
        "print(\"b = \", n2, \"* 10^\", x2)\n",
        "\n",
        "\n",
        "\n",
        "# Only change code above this line\n",
        "import math_code_test_c as test\n",
        "test.step18(In[-1].split('# Only change code above this line')[0])"
      ],
      "execution_count": null,
      "outputs": [
        {
          "output_type": "stream",
          "name": "stdout",
          "text": [
            "a =  2.34 * 10^ -12\n",
            "b =  1.23 * 10^ 13\n",
            " \n",
            "Code test passed\n",
            "Go on to the next step\n"
          ]
        }
      ]
    },
    {
      "cell_type": "markdown",
      "metadata": {
        "id": "d7Lc9KfMYU8Y"
      },
      "source": [
        "# Step 19 - Scientific Notation Conversion"
      ]
    },
    {
      "cell_type": "markdown",
      "metadata": {
        "id": "21gdVKfeYc5R"
      },
      "source": [
        "Now ask for a number as input, and write the code to convert that number into scientific notation. You can re-use code you used in the previous step, using `n` and `x` as variables to print n * 10^x."
      ]
    },
    {
      "cell_type": "code",
      "metadata": {
        "id": "VkOkpmrP4XAb",
        "colab": {
          "base_uri": "https://localhost:8080/"
        },
        "outputId": "bda6931d-59fc-4f58-88b2-cfbf3db31055"
      },
      "source": [
        "import math\n",
        "\n",
        "a = float(input('Enter a number to convert to scientific notation: '))\n",
        "\n",
        "# write your code here\n",
        "x = math.floor(math.log(a,10))\n",
        "n = round(a*10**(-x),2)\n",
        "print(a, \" = \", n, \" * 10^\", x)\n",
        "\n",
        "# Only change code above this line\n",
        "import math_code_test_c as test\n",
        "test.step19(In[-1].split('# Only change code above this line')[0])"
      ],
      "execution_count": null,
      "outputs": [
        {
          "output_type": "stream",
          "name": "stdout",
          "text": [
            "Enter a number to convert to scientific notation: 10000\n",
            "10000.0  =  1.0  * 10^ 4\n",
            " \n",
            "Code test passed\n",
            "Go on to the next step\n"
          ]
        }
      ]
    },
    {
      "cell_type": "markdown",
      "metadata": {
        "id": "VkD30ljxlyw9"
      },
      "source": [
        "# Step 20 - Graphing Exponents and Logs"
      ]
    },
    {
      "cell_type": "markdown",
      "metadata": {
        "id": "A7YL0fIdlyw-"
      },
      "source": [
        "When not writing code, the <i>natural log</i> is written as \"ln\" and it means a logarithm with base e. Like any pair of inverse functions, the line y = e<sup>x</sup> and the line y = ln(x) are mirrored over the line y = x.  Because of the `np.linspace()` function in this code, `np.log()` works, but `math.log()` does not work here. Both log() functions in Python use e as the base by default. When using the `numpy` library, use `np.log10()` for base 10, `np.log2()` for base 2, etc. Because log functions can only have positive x values, the np.linspace() function will define a positive range for the log() function. Run this code, then change the blue line function to graph y = 2<sup>x</sup> and change the green line function to graph y = log<sub>2</sub>x and notice the similarities between the graphs."
      ]
    },
    {
      "cell_type": "code",
      "metadata": {
        "id": "fJiDmoW1lyw_",
        "colab": {
          "base_uri": "https://localhost:8080/",
          "height": 487
        },
        "outputId": "9217f128-d71c-4a7b-bfb0-d969b888f447"
      },
      "source": [
        "import matplotlib.pyplot as plt\n",
        "import numpy as np\n",
        "import math\n",
        "\n",
        "xmin = -10\n",
        "xmax = 10\n",
        "ymin = -10\n",
        "ymax = 10\n",
        "plt.axis([xmin,xmax,ymin,ymax]) # window size\n",
        "plt.plot([xmin,xmax],[0,0],'k') # x axis\n",
        "plt.plot([0,0],[ymin,ymax], 'k') # y axis\n",
        "\n",
        "# Same x values for two lines\n",
        "x1 = np.linspace(xmin, xmax, 1000)\n",
        "\n",
        "# Blue line for y = e^x\n",
        "plt.plot(x1, 2**x1, 'b')  # Change this line\n",
        "\n",
        "# Red line for y = x\n",
        "plt.plot(x1, x1, 'r')\n",
        "\n",
        "# Different x values for y = log(x) because x > 0\n",
        "x2 = np.linspace(.001, xmax, 500)\n",
        "\n",
        "# Green line for y = log(x)\n",
        "plt.plot(x2, np.log2(x2), 'g')  # Change this line\n",
        "\n",
        "plt.show()\n",
        "\n",
        "\n",
        "# Only change code above this line\n",
        "import math_code_test_c as test\n",
        "test.step20(In[-1].split('# Only change code above this line')[0])"
      ],
      "execution_count": null,
      "outputs": [
        {
          "output_type": "display_data",
          "data": {
            "text/plain": [
              "<Figure size 640x480 with 1 Axes>"
            ],
            "image/png": "[encoded data removed]"
          },
          "metadata": {}
        },
        {
          "output_type": "stream",
          "name": "stdout",
          "text": [
            " \n",
            "Code test passed\n",
            "Go on to the next step\n"
          ]
        }
      ]
    },
    {
      "cell_type": "markdown",
      "metadata": {
        "id": "bJzxcKIfz8Qt"
      },
      "source": [
        "# Step 21 - Log Application - pH Scale"
      ]
    },
    {
      "cell_type": "markdown",
      "metadata": {
        "id": "pfF3voqSz8Q9"
      },
      "source": [
        "The pH scale, for measuring acids and bases, is a logarithmic scale. The negative log of the hydrogen concentration is the pH. Example: if the hydrogen concentration is .007 then that would be 7 * 10<sup>-3</sup> and therefore a pH of 3. Write the code to prompt for hydrogen concentration and then print the pH. Hint: the <i>ceiling</i> function (`math.ceil()`) works better than rounding here."
      ]
    },
    {
      "cell_type": "code",
      "metadata": {
        "id": "tepkvSubz8Q9",
        "colab": {
          "base_uri": "https://localhost:8080/"
        },
        "outputId": "b30a7069-9667-4483-a91a-d5d639684af0"
      },
      "source": [
        "import math\n",
        "\n",
        "decimal = float(input(\"Enter the hydrogen concentration as a decimal number: \"))\n",
        "\n",
        "# Write your code here\n",
        "h = math.ceil(-math.log(decimal, 10))\n",
        "\n",
        "print(\"pH = \", h)\n",
        "\n",
        "# Only change code above this line\n",
        "import math_code_test_c as test\n",
        "test.step21(In[-1].split('# Only change code above this line')[0])"
      ],
      "execution_count": null,
      "outputs": [
        {
          "output_type": "stream",
          "name": "stdout",
          "text": [
            "Enter the hydrogen concentration as a decimal number: 0.007\n",
            "pH =  3\n",
            " \n",
            "Code test passed\n"
          ]
        }
      ]
    },
    {
      "cell_type": "markdown",
      "source": [
        "# Step 22 - Functions for the Project"
      ],
      "metadata": {
        "id": "8iWUAktvPLYp"
      }
    },
    {
      "cell_type": "markdown",
      "source": [
        "Define a function for calculating mortgage payments and a function for calculating investment balance. Use code you wrote in earlier steps. Each function should prompt for input and print the output."
      ],
      "metadata": {
        "id": "a9gRwbr-PGPC"
      }
    },
    {
      "cell_type": "code",
      "source": [
        "# Write your code here\n",
        "def mortgage():\n",
        "    p = float(input(\"Amount borrowed ($): \"))\n",
        "    r = float(input(\"Annual interest rate (%): \")) / 100\n",
        "    t = float(input(\"Loan term (years): \"))\n",
        "\n",
        "    monthly_rate = r / 12\n",
        "    months = 12 * t\n",
        "\n",
        "    numerator = monthly_rate * (1 + monthly_rate) ** months\n",
        "    denominator = (1 + monthly_rate) ** months - 1\n",
        "    pmt = p * numerator / denominator\n",
        "\n",
        "    print(f\"Monthly payment = ${pmt:.2f}\")\n",
        "\n",
        "def investment():\n",
        "    p = float(input(\"Initial investment amount ($): \"))\n",
        "    r = float(input(\"Annual interest rate (%): \")) / 100\n",
        "    t = int(input(\"Investment duration (years): \"))\n",
        "    monthly = float(input(\"Monthly contribution ($): \"))\n",
        "\n",
        "    balance = p\n",
        "\n",
        "    for _ in range(12 * t):\n",
        "        balance += monthly\n",
        "        balance += balance * (r / 12)\n",
        "\n",
        "    print(f\"Future value of investment = ${balance:.2f}\")\n",
        "# This step does not have a test"
      ],
      "metadata": {
        "id": "neFvvCOzO_WB"
      },
      "execution_count": null,
      "outputs": []
    },
    {
      "cell_type": "markdown",
      "source": [
        "# Step 23 - More Functions"
      ],
      "metadata": {
        "id": "rzaQj8dEOfzb"
      }
    },
    {
      "cell_type": "markdown",
      "source": [
        "Create a function that produces an interactive polynomial graph (with sliders). Use code from an earlier step."
      ],
      "metadata": {
        "id": "C6OV8KzQOTS_"
      }
    },
    {
      "cell_type": "code",
      "source": [
        "# Write your code here\n",
        "%matplotlib inline\n",
        "from ipywidgets import interactive\n",
        "import matplotlib.pyplot as plt\n",
        "import numpy as np\n",
        "\n",
        "def int_pol_graph():\n",
        "  def f(a, b, c):\n",
        "      plt.axis([-10,10,-10,10])\n",
        "      plt.plot([-10,10],[0,0],'k')\n",
        "      plt.plot([0,0],[-10,10], 'k')\n",
        "      x = np.linspace(-10, 10, 200)\n",
        "      plt.plot(x, a*x**2+b*x+c)\n",
        "      plt.show()\n",
        "\n",
        "  interactive_plot = interactive(f, a=(-9, 9), b=(-9, 9), c=(-9, 9))\n",
        "  display(interactive_plot)\n",
        "# This step does not have a test"
      ],
      "metadata": {
        "id": "6cGh0vE1OYyC"
      },
      "execution_count": null,
      "outputs": []
    },
    {
      "cell_type": "code",
      "source": [
        "int_pol_graph()"
      ],
      "metadata": {
        "colab": {
          "base_uri": "https://localhost:8080/",
          "height": 531,
          "referenced_widgets": [
            "f8e1a97c96604534b65c604332d5221d",
            "1acf8b09d04e4879a8ab9f9d39a7d519",
            "c43dcaba5e5a496ba3d0545ace203079",
            "29393b57e61f4224aeddcd40bc3d2fe8",
            "1dc6260c01db47bca611d31f1f386b57",
            "196e498c2084468a8bc55a3e91aaa6b5",
            "f4aa0023aaee434a992e68d687e77d8b",
            "1ca6da6a1d2c4b68a55270a32a732471",
            "a38e803da29b4af2a0c4c42a0b9a36cb",
            "f35efd94ade4436f92db2c727eaf7ae2",
            "bf402fa1697e4e36983ec0a4247356a6",
            "b7694a0a9b634ec09e73659794cdbc3e",
            "477c929a54054b2494d1ab098a3f225b"
          ]
        },
        "id": "uSJbnvS1Xw8B",
        "outputId": "2b609efa-7a52-42e2-f8cc-9de01212277c"
      },
      "execution_count": null,
      "outputs": [
        {
          "output_type": "display_data",
          "data": {
            "text/plain": [
              "interactive(children=(IntSlider(value=0, description='a', max=9, min=-9), IntSlider(value=0, description='b', …"
            ],
            "application/vnd.jupyter.widget-view+json": {
              "version_major": 2,
              "version_minor": 0,
              "model_id": "f8e1a97c96604534b65c604332d5221d"
            }
          },
          "metadata": {}
        }
      ]
    },
    {
      "cell_type": "markdown",
      "source": [
        "# Step 24 - New Function"
      ],
      "metadata": {
        "id": "UptjjiCOTSS2"
      }
    },
    {
      "cell_type": "markdown",
      "source": [
        "Create a function to print the time required for money to double, given the rate. Use the continuous growth formula from an earlier step."
      ],
      "metadata": {
        "id": "XKXNbHzGTKAp"
      }
    },
    {
      "cell_type": "code",
      "source": [
        "# Write your code here\n",
        "import math\n",
        "\n",
        "def time_to_double():\n",
        "    r = float(input(\"Annual interest rate (%): \")) / 100\n",
        "    if r <= 0:\n",
        "        print(\"Rate must be positive.\")\n",
        "        return\n",
        "\n",
        "    t = math.log(2) / r\n",
        "    print(f\"Time required to double your money with continuous compounding: {t:.2f} years\")\n",
        "# This step does not have a test"
      ],
      "metadata": {
        "id": "kWs_IpxrTYyl"
      },
      "execution_count": null,
      "outputs": []
    },
    {
      "cell_type": "markdown",
      "source": [
        "# Step 25 - Certification Project 3"
      ],
      "metadata": {
        "id": "CRa5i8s3UCuL"
      }
    },
    {
      "cell_type": "markdown",
      "source": [
        "Build a financial app that does all of the following:<br>\n",
        "<ul>\n",
        "<li>Calculate annuity with monthly or continuous growth</li>\n",
        "<li>Calculate monthly mortgage payment</li>\n",
        "<li>Estimate retirement investment balance</li>\n",
        "<li>Determine how long until an amount doubles, given the rate</li>\n",
        "<li>Solve logarithmic equations</li>\n",
        "<li>Convert to (and from) scientific notation</li>\n",
        "</ul>"
      ],
      "metadata": {
        "id": "nngVpvqeT4U7"
      }
    },
    {
      "cell_type": "code",
      "source": [
        "# Write your code here\n",
        "import math\n",
        "def solve_log():\n",
        "    x = float(input(\"Enter value: \"))\n",
        "    base = float(input(\"Enter base: \"))\n",
        "    result = math.log(x, base)\n",
        "    print(f\"log base {base} of {x} = {result}\")\n",
        "\n",
        "def sci_notation():\n",
        "    num = float(input(\"Enter number: \"))\n",
        "    print(f\"Scientific notation: {num:.2e}\")\n",
        "# This step does not have a test"
      ],
      "metadata": {
        "id": "fa2o--pDT-Sd"
      },
      "execution_count": null,
      "outputs": []
    },
    {
      "cell_type": "code",
      "source": [
        "sci_notation()"
      ],
      "metadata": {
        "colab": {
          "base_uri": "https://localhost:8080/"
        },
        "id": "W4qKqqTyZfDq",
        "outputId": "ddfd95e8-9798-4c1d-f843-4a1cc0b9ec2b"
      },
      "execution_count": null,
      "outputs": [
        {
          "output_type": "stream",
          "name": "stdout",
          "text": [
            "Enter number: 0.007\n",
            "Scientific notation: 7.00e-03\n"
          ]
        }
      ]
    },
    {
      "cell_type": "code",
      "source": [
        "def menu():\n",
        "  print(\"\"\"\n",
        "    1. Calculate annuity with monthly or continuous growth\n",
        "    2. Calculate monthly mortgage payment\n",
        "    3. Estimate retirement investment balance\n",
        "    4. Determine time to double money (continuous growth)\n",
        "    5. Solve logarithmic equation\n",
        "    6. Convert to scientific notation\n",
        "    7. Interactive polynomial graph\n",
        "  \"\"\")\n",
        "\n",
        "  choice = input(\"Select an option: \")\n",
        "\n",
        "  if choice == '1':\n",
        "    investment()\n",
        "    time_to_double()\n",
        "  elif choice == '2':\n",
        "    mortgage()\n",
        "  elif choice == '3':\n",
        "    investment()\n",
        "  elif choice == '4':\n",
        "    time_to_double()\n",
        "  elif choice == '5':\n",
        "    solve_log()\n",
        "  elif choice == '6':\n",
        "    sci_notation()\n",
        "  elif choice == '7':\n",
        "    int_pol_graph()\n",
        "  else:\n",
        "    print(\"Invalid choice\")"
      ],
      "metadata": {
        "id": "XPUhe9arZoa6"
      },
      "execution_count": null,
      "outputs": []
    },
    {
      "cell_type": "code",
      "source": [
        "menu()"
      ],
      "metadata": {
        "colab": {
          "base_uri": "https://localhost:8080/",
          "height": 705,
          "referenced_widgets": [
            "fb306e71858444ecade6b287c8e1fd5f",
            "237457eeccf54341b1e6a8bc1e5be514",
            "ccd27e7df41c4341ac9db88bdd339d0f",
            "b44b1f6ce477440e8829f4b4f440107b",
            "08214f7ce1074436ad3c49861429e481",
            "8904a5f93df54f069fbf9025e4d40b62",
            "69e82ccdbf97481f95ab93fbab1f1a5b",
            "6dcd646791584c1a93d87e13b1cecfa9",
            "a7c689d6417a44699f5e1de1cbf5abd7",
            "2eb4b68c3f2c4aa1afb1a78990e0fc41",
            "fad6bda46e004d55bd71c92ca2ac3743",
            "e7e7f42892bf40d190b4b2c6524b3b84",
            "1f803dea594645268bb95e60cd34c005"
          ]
        },
        "id": "PiV7Tx6VcNiV",
        "outputId": "1d106626-3e58-4a69-bfd4-21e2b117e3b9"
      },
      "execution_count": null,
      "outputs": [
        {
          "name": "stdout",
          "output_type": "stream",
          "text": [
            "\n",
            "    1. Calculate annuity with monthly or continuous growth\n",
            "    2. Calculate monthly mortgage payment\n",
            "    3. Estimate retirement investment balance\n",
            "    4. Determine time to double money (continuous growth)\n",
            "    5. Solve logarithmic equation\n",
            "    6. Convert to scientific notation\n",
            "    7. Interactive polynomial graph\n",
            "  \n",
            "Select an option: 7\n"
          ]
        },
        {
          "output_type": "display_data",
          "data": {
            "text/plain": [
              "interactive(children=(IntSlider(value=0, description='a', max=9, min=-9), IntSlider(value=0, description='b', …"
            ],
            "application/vnd.jupyter.widget-view+json": {
              "version_major": 2,
              "version_minor": 0,
              "model_id": "fb306e71858444ecade6b287c8e1fd5f"
            }
          },
          "metadata": {}
        }
      ]
    }
  ]
}