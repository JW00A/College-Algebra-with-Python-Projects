{
  "cells": [
    {
      "cell_type": "code",
      "execution_count": null,
      "metadata": {
        "id": "CjqRErqub_ln"
      },
      "outputs": [],
      "source": [
        "import matplotlib.pyplot as plt\n",
        "import numpy as np\n",
        "import random\n",
        "import time\n",
        "from ipywidgets import interactive\n",
        "from IPython.display import display\n",
        "\n",
        "def scatter_plot_game(num_points=5, difficulty=1):\n",
        "    size = 5 * difficulty\n",
        "    points = [(random.randint(-size, size), random.randint(-size, size)) for _ in range(num_points)]\n",
        "\n",
        "    x_vals, y_vals = zip(*points)\n",
        "    fig, ax = plt.subplots(figsize=(6, 6))\n",
        "    ax.scatter(x_vals, y_vals, color='red')\n",
        "    ax.grid(True)\n",
        "    ax.set_title(\"Guess the Coordinates!\")\n",
        "    ax.set_xlim(-size, size)\n",
        "    ax.set_ylim(-size, size)\n",
        "\n",
        "    plt.pause(0.001)\n",
        "\n",
        "    print(\"\\nNow enter your guesses for each red point:\")\n",
        "    score = 0\n",
        "    for i, (x, y) in enumerate(points):\n",
        "        try:\n",
        "            guess = input(f\"Point {i+1}: Enter coordinates as x,y → \")\n",
        "            gx, gy = map(int, guess.split(','))\n",
        "            if gx == x and gy == y:\n",
        "                print(\"Correct!\")\n",
        "                score += 1\n",
        "            else:\n",
        "                print(f\"Incorrect. Actual: ({x}, {y})\")\n",
        "        except Exception:\n",
        "            print(\"Invalid format. Use x,y\")\n",
        "\n",
        "    print(f\"\\nFinal Score: {score}/{num_points}\")"
      ]
    },
    {
      "cell_type": "code",
      "execution_count": null,
      "metadata": {
        "id": "DXAbzv8ocM19"
      },
      "outputs": [],
      "source": [
        "def algebra_game(num_questions=5, difficulty=1):\n",
        "    score = 0\n",
        "    for _ in range(num_questions):\n",
        "        step_type = random.choice(['one', 'two'])\n",
        "        a = random.randint(-10 * difficulty, 10 * difficulty)\n",
        "        b = random.randint(-10 * difficulty, 10 * difficulty)\n",
        "        x = random.randint(-10 * difficulty, 10 * difficulty)\n",
        "\n",
        "        if step_type == 'one':\n",
        "            result = a * x\n",
        "            print(f\"Solve: {a}x = {result}\")\n",
        "            guess = input(\"x = \")\n",
        "            if guess.strip() == str(x):\n",
        "                print(\"Correct!\")\n",
        "                score += 1\n",
        "            else:\n",
        "                print(f\"Incorrect. x = {x}\")\n",
        "        else:\n",
        "            result = a * x + b\n",
        "            print(f\"Solve: {a}x + {b} = {result}\")\n",
        "            guess = input(\"x = \")\n",
        "            if guess.strip() == str(x):\n",
        "                print(\"Correct!\")\n",
        "                score += 1\n",
        "            else:\n",
        "                print(f\"Incorrect. x = {x}\")\n",
        "    print(f\"Final Score: {score}/{num_questions}\")"
      ]
    },
    {
      "cell_type": "code",
      "execution_count": null,
      "metadata": {
        "id": "Sv6kFO0HcSxV"
      },
      "outputs": [],
      "source": [
        "def projectile_game_level1():\n",
        "    wall_x = random.randint(5, 15)\n",
        "    wall_h = random.randint(5, 20)\n",
        "\n",
        "    def plot_path(a, b, c):\n",
        "        x = np.linspace(0, 20, 400)\n",
        "        y = a * x**2 + b * x + c\n",
        "\n",
        "        plt.figure(figsize=(8, 6))\n",
        "        plt.plot(x, y, label=\"Projectile Path\")\n",
        "        plt.axvline(wall_x, color='red', linestyle='--', label=\"Wall\")\n",
        "        plt.axhline(wall_h, xmin=wall_x/20, xmax=1, color='red')\n",
        "        plt.ylim(0, max(y)+5)\n",
        "        plt.title(\"Adjust a, b, c to clear the wall\")\n",
        "        plt.grid(True)\n",
        "        plt.legend()\n",
        "        plt.show()\n",
        "\n",
        "    print(f\"Wall at x = {wall_x}, height = {wall_h}\")\n",
        "    display(interactive(plot_path, a=(-1, 0, 0.1), b=(0, 10, 0.5), c=(0, 10, 0.5)))"
      ]
    },
    {
      "cell_type": "code",
      "execution_count": null,
      "metadata": {
        "id": "Xh-iXxi5caNU"
      },
      "outputs": [],
      "source": [
        "def projectile_game_level2():\n",
        "    wall_x = random.randint(5, 15)\n",
        "    wall_h = random.randint(5, 20)\n",
        "    print(f\"Wall at x = {wall_x}, height = {wall_h}\")\n",
        "\n",
        "    try:\n",
        "        a = float(input(\"Enter a: \"))\n",
        "        b = float(input(\"Enter b: \"))\n",
        "        c = float(input(\"Enter c: \"))\n",
        "        x = np.linspace(0, 20, 400)\n",
        "        y = a * x**2 + b * x + c\n",
        "\n",
        "        plt.figure(figsize=(8, 6))\n",
        "        plt.plot(x, y, label=\"Projectile Path\")\n",
        "        plt.axvline(wall_x, color='red', linestyle='--', label=\"Wall\")\n",
        "        plt.axhline(wall_h, xmin=wall_x/20, xmax=1, color='red')\n",
        "        plt.ylim(0, max(y)+5)\n",
        "        plt.title(\"Manual Entry: a, b, c\")\n",
        "        plt.grid(True)\n",
        "        plt.legend()\n",
        "        plt.show()\n",
        "\n",
        "        y_at_wall = a * wall_x**2 + b * wall_x + c\n",
        "        if y_at_wall > wall_h:\n",
        "            print(\"Success! You cleared the wall.\")\n",
        "        else:\n",
        "            print(f\"Missed. Height at wall = {y_at_wall:.2f}\")\n",
        "    except:\n",
        "        print(\"Invalid input.\")"
      ]
    },
    {
      "cell_type": "code",
      "execution_count": null,
      "metadata": {
        "colab": {
          "base_uri": "https://localhost:8080/",
          "height": 788
        },
        "id": "NK3q6UlncgwH",
        "outputId": "7d7f3a4b-ee9e-4066-b0f1-c1f85505b779"
      },
      "outputs": [
        {
          "output_type": "display_data",
          "data": {
            "text/plain": [
              "<Figure size 600x600 with 1 Axes>"
            ],
            "image/png": "[encoded data removed]"
          },
          "metadata": {}
        },
        {
          "output_type": "stream",
          "name": "stdout",
          "text": [
            "\n",
            "Now enter your guesses for each red point:\n",
            "Point 1: Enter coordinates as x,y → -5,5\n",
            "Incorrect. Actual: (2, 4)\n",
            "Point 2: Enter coordinates as x,y → -5, 5\n",
            "Correct!\n",
            "Point 3: Enter coordinates as x,y → 3, -1\n",
            "Incorrect. Actual: (-1, 3)\n",
            "Point 4: Enter coordinates as x,y → 3, -1\n",
            "Correct!\n",
            "Point 5: Enter coordinates as x,y → 5, 3\n",
            "Correct!\n",
            "\n",
            "Final Score: 3/5\n"
          ]
        }
      ],
      "source": [
        "scatter_plot_game()"
      ]
    },
    {
      "cell_type": "code",
      "execution_count": null,
      "metadata": {
        "colab": {
          "base_uri": "https://localhost:8080/"
        },
        "id": "PffqKW_2ckRP",
        "outputId": "3ed7e28a-4c7b-4a43-c328-c77bbcbb71c6"
      },
      "outputs": [
        {
          "output_type": "stream",
          "name": "stdout",
          "text": [
            "Solve: 7x = -7\n",
            "x = -1\n",
            "Correct!\n",
            "Solve: 6x = -42\n",
            "x = -7\n",
            "Correct!\n",
            "Solve: -5x + -3 = 47\n",
            "x = -10\n",
            "Correct!\n",
            "Solve: 6x = 6\n",
            "x = 1\n",
            "Correct!\n",
            "Solve: 4x + 6 = -14\n",
            "x = -5\n",
            "Correct!\n",
            "Final Score: 5/5\n"
          ]
        }
      ],
      "source": [
        "algebra_game()"
      ]
    },
    {
      "cell_type": "code",
      "execution_count": null,
      "metadata": {
        "colab": {
          "base_uri": "https://localhost:8080/",
          "height": 658,
          "referenced_widgets": [
            "83cdf71d73c64288996862f8ffb268d6",
            "640679084d5f420595ed67e9e284b697",
            "19166d0b4455496e9ad1f68bf6a5c404",
            "2ab7fdb8f09749a1942c762c0fdce311",
            "b0e803e6722949a3934c6d030ef17bc3",
            "025db9703e3b402298dca54ce56333c6",
            "f6db57d448ee48d880b5fa14bcf95390",
            "8b3717b8e78e4c30b6f50d09f7466af7",
            "caa56edb67d14306899a988b4cba990e",
            "29a6fe3cb12041558e1ee4dbf380bd42",
            "98ff4fcdf9544ee9af54de9dfad5fad9",
            "fae6615e2ecc43e5870a7de6994372c4",
            "74f671ea51e34517a9150a986f869510"
          ]
        },
        "id": "8EcRxS6ScoUb",
        "outputId": "86f79944-86c8-48c4-82a6-2a5610230a9b"
      },
      "outputs": [
        {
          "output_type": "stream",
          "name": "stdout",
          "text": [
            "Wall at x = 13, height = 10\n"
          ]
        },
        {
          "output_type": "display_data",
          "data": {
            "text/plain": [
              "interactive(children=(FloatSlider(value=-1.0, description='a', max=0.0, min=-1.0), FloatSlider(value=5.0, desc…"
            ],
            "application/vnd.jupyter.widget-view+json": {
              "version_major": 2,
              "version_minor": 0,
              "model_id": "83cdf71d73c64288996862f8ffb268d6"
            }
          },
          "metadata": {}
        }
      ],
      "source": [
        "projectile_game_level1()"
      ]
    },
    {
      "cell_type": "code",
      "execution_count": null,
      "metadata": {
        "colab": {
          "base_uri": "https://localhost:8080/",
          "height": 632
        },
        "id": "ZWWTb8oocpFK",
        "outputId": "298c49b9-4592-4cc2-fa1e-0952ddafe432"
      },
      "outputs": [
        {
          "name": "stdout",
          "output_type": "stream",
          "text": [
            "Wall at x = 13, height = 15\n",
            "Enter a: 20\n",
            "Enter b: 4\n",
            "Enter c: 12\n"
          ]
        },
        {
          "output_type": "display_data",
          "data": {
            "text/plain": [
              "<Figure size 800x600 with 1 Axes>"
            ],
            "image/png": "[encoded data removed]"
          },
          "metadata": {}
        },
        {
          "output_type": "stream",
          "name": "stdout",
          "text": [
            "Success! You cleared the wall.\n"
          ]
        }
      ],
      "source": [
        "projectile_game_level2()"
      ]
    }
  ],
  "metadata": {
    "colab": {
      "provenance": []
    },
    "kernelspec": {
      "display_name": "Python 3",
      "name": "python3"
    },
    "language_info": {
      "name": "python"
    },
    "widgets": {
      "application/vnd.jupyter.widget-state+json": {
        "83cdf71d73c64288996862f8ffb268d6": {
          "model_module": "@jupyter-widgets/controls",
          "model_name": "VBoxModel",
          "model_module_version": "1.5.0",
          "state": {
            "_dom_classes": [
              "widget-interact"
            ],
            "_model_module": "@jupyter-widgets/controls",
            "_model_module_version": "1.5.0",
            "_model_name": "VBoxModel",
            "_view_count": null,
            "_view_module": "@jupyter-widgets/controls",
            "_view_module_version": "1.5.0",
            "_view_name": "VBoxView",
            "box_style": "",
            "children": [
              "IPY_MODEL_640679084d5f420595ed67e9e284b697",
              "IPY_MODEL_19166d0b4455496e9ad1f68bf6a5c404",
              "IPY_MODEL_2ab7fdb8f09749a1942c762c0fdce311",
              "IPY_MODEL_b0e803e6722949a3934c6d030ef17bc3"
            ],
            "layout": "IPY_MODEL_025db9703e3b402298dca54ce56333c6"
          }
        },
        "640679084d5f420595ed67e9e284b697": {
          "model_module": "@jupyter-widgets/controls",
          "model_name": "FloatSliderModel",
          "model_module_version": "1.5.0",
          "state": {
            "_dom_classes": [],
            "_model_module": "@jupyter-widgets/controls",
            "_model_module_version": "1.5.0",
            "_model_name": "FloatSliderModel",
            "_view_count": null,
            "_view_module": "@jupyter-widgets/controls",
            "_view_module_version": "1.5.0",
            "_view_name": "FloatSliderView",
            "continuous_update": true,
            "description": "a",
            "description_tooltip": null,
            "disabled": false,
            "layout": "IPY_MODEL_f6db57d448ee48d880b5fa14bcf95390",
            "max": 0,
            "min": -1,
            "orientation": "horizontal",
            "readout": true,
            "readout_format": ".2f",
            "step": 0.1,
            "style": "IPY_MODEL_8b3717b8e78e4c30b6f50d09f7466af7",
            "value": -0.1
          }
        },
        "19166d0b4455496e9ad1f68bf6a5c404": {
          "model_module": "@jupyter-widgets/controls",
          "model_name": "FloatSliderModel",
          "model_module_version": "1.5.0",
          "state": {
            "_dom_classes": [],
            "_model_module": "@jupyter-widgets/controls",
            "_model_module_version": "1.5.0",
            "_model_name": "FloatSliderModel",
            "_view_count": null,
            "_view_module": "@jupyter-widgets/controls",
            "_view_module_version": "1.5.0",
            "_view_name": "FloatSliderView",
            "continuous_update": true,
            "description": "b",
            "description_tooltip": null,
            "disabled": false,
            "layout": "IPY_MODEL_caa56edb67d14306899a988b4cba990e",
            "max": 10,
            "min": 0,
            "orientation": "horizontal",
            "readout": true,
            "readout_format": ".2f",
            "step": 0.5,
            "style": "IPY_MODEL_29a6fe3cb12041558e1ee4dbf380bd42",
            "value": 5
          }
        },
        "2ab7fdb8f09749a1942c762c0fdce311": {
          "model_module": "@jupyter-widgets/controls",
          "model_name": "FloatSliderModel",
          "model_module_version": "1.5.0",
          "state": {
            "_dom_classes": [],
            "_model_module": "@jupyter-widgets/controls",
            "_model_module_version": "1.5.0",
            "_model_name": "FloatSliderModel",
            "_view_count": null,
            "_view_module": "@jupyter-widgets/controls",
            "_view_module_version": "1.5.0",
            "_view_name": "FloatSliderView",
            "continuous_update": true,
            "description": "c",
            "description_tooltip": null,
            "disabled": false,
            "layout": "IPY_MODEL_98ff4fcdf9544ee9af54de9dfad5fad9",
            "max": 10,
            "min": 0,
            "orientation": "horizontal",
            "readout": true,
            "readout_format": ".2f",
            "step": 0.5,
            "style": "IPY_MODEL_fae6615e2ecc43e5870a7de6994372c4",
            "value": 10
          }
        },
        "b0e803e6722949a3934c6d030ef17bc3": {
          "model_module": "@jupyter-widgets/output",
          "model_name": "OutputModel",
          "model_module_version": "1.0.0",
          "state": {
            "_dom_classes": [],
            "_model_module": "@jupyter-widgets/output",
            "_model_module_version": "1.0.0",
            "_model_name": "OutputModel",
            "_view_count": null,
            "_view_module": "@jupyter-widgets/output",
            "_view_module_version": "1.0.0",
            "_view_name": "OutputView",
            "layout": "IPY_MODEL_74f671ea51e34517a9150a986f869510",
            "msg_id": "",
            "outputs": [
              {
                "output_type": "display_data",
                "data": {
                  "text/plain": "<Figure size 800x600 with 1 Axes>",
                  "image/png": "iVBORw0KGgoAAAANSUhEUgAAApsAAAIQCAYAAADO5aV/AAAAOnRFWHRTb2Z0d2FyZQBNYXRwbG90bGliIHZlcnNpb24zLjEwLjAsIGh0dHBzOi8vbWF0cGxvdGxpYi5vcmcvlHJYcgAAAAlwSFlzAAAPYQAAD2EBqD+naQAAd0dJREFUeJzt3XlYVHX7BvB7BmaGHWQHWV1xX3DDUsRQ3FLL1NRMzep9TS31bbNfpbbZaqtLi6GZpplmZaYiriUq4r7hhqKyKLLvw8z39wcxigzLIMOZgftzXVzX4cyZc555PMDt2b4yIYQAEREREZERyKUugIiIiIgaLoZNIiIiIjIahk0iIiIiMhqGTSIiIiIyGoZNIiIiIjIahk0iIiIiMhqGTSIiIiIyGoZNIiIiIjIahk0iIiIiMhqGTaIGYMWKFZDJZLhy5YpuXr9+/dCvXz/JajK2+fPnQyaTIS0tTepSJBcQEIDJkydLXUaNlO2rhw8flrqU+1K2/93NnP4diOoTwyaRCVmyZAlkMhl69uwpdSnVeu+997Bp0yapyzAZ7Ed5S5YswYoVK6Qug4hMAMMmkQlZvXo1AgICcOjQIVy8ePG+1rV9+3Zs3769jiqriOGqPPajPIZNIirDsElkIhISErB//34sWrQIbm5uWL169X2tT6lUQqlU1lF1ROVptVoUFhZKXQYRmQGGTSITsXr1ajRp0gRDhw7FY489VmnYPH36NPr37w9ra2v4+PjgnXfegVarrbDcvdds6ruuEwB2794NmUyG3bt36+ZduHABo0aNgqenJ6ysrODj44PHH38cWVlZAACZTIa8vDysXLkSMpkMMpmsymvViouL8eabbyI4OBiOjo6wtbVFnz59sGvXrhr3pzJpaWkYM2YMHBwc4OLighdeeOG+QlBmZiZmz56NgIAAqFQq+Pj44Mknn6zy2tDq+nH06FEMHjwYDg4OsLOzw0MPPYQDBw7UqB6tVovPP/8cHTp0gJWVFdzc3DBo0KBqr3nMzMzErFmz4OvrC5VKhRYtWuCDDz6osK98/PHH6N27N1xcXGBtbY3g4GD88ssvej/jjBkzsHr1arRr1w4qlQpbt27Vu+2AgACcPn0ae/bs0fXj3uuHi4qKMGfOHLi5ucHW1haPPPIIbt26VWFdf/31F/r06QNbW1vY29tj6NChOH36dLWf3cLCAl988YVuXlpaGuRyOVxcXCCE0M2fNm0aPD09dd/v27cPo0ePhp+fH1QqFXx9fTF79mwUFBRUuU0iqpyl1AUQUanVq1fj0UcfhVKpxLhx47B06VLExsaie/fuumVSUlIQFhaGkpISvPrqq7C1tcU333wDa2vrOqujuLgYERERKCoqwsyZM+Hp6YkbN25g8+bNyMzMhKOjI1atWoWnn34aPXr0wLPPPgsAaN68eaXrzM7OxnfffYdx48bhmWeeQU5ODpYvX46IiAgcOnQInTt3rnW9Y8aMQUBAABYuXIgDBw7giy++QEZGBn744QeD15Wbm4s+ffrg7NmzeOqpp9C1a1ekpaXh999/x/Xr1+Hq6qr3fVX14/Tp0+jTpw8cHBzw8ssvQ6FQ4Ouvv0a/fv2wZ8+eaq/PnTp1KlasWIHBgwfj6aefRklJCfbt24cDBw6gW7duet+Tn5+P0NBQ3LhxA//5z3/g5+eH/fv3Y+7cuUhOTsZnn32mW/bzzz/H8OHDMWHCBBQXF2Pt2rUYPXo0Nm/ejKFDh5Zb786dO/Hzzz9jxowZcHV1RUBAgN7tf/bZZ5g5cybs7Ozwf//3fwAADw+PcsvMnDkTTZo0wbx583DlyhV89tlnmDFjBtatW1eur5MmTUJERAQ++OAD5OfnY+nSpXjwwQdx9OjRSrfv5OSE9u3bY+/evXj++ecBAH///TdkMhnS09Nx5swZtGvXDkBpuOzTp4/uvevXr0d+fj6mTZsGFxcXHDp0CF9++SWuX7+O9evX690eEVVDEJHkDh8+LACIqKgoIYQQWq1W+Pj4iBdeeKHccrNmzRIAxMGDB3Xzbt68KRwdHQUAkZCQoJsfGhoqQkNDdd9HRkZWWEYIIXbt2iUAiF27dgkhhDh69KgAINavX19lzba2tmLSpEk1+nwlJSWiqKio3LyMjAzh4eEhnnrqqRqt417z5s0TAMTw4cPLzX/uuecEAHH8+HGD1/nmm28KAGLjxo0VXtNqtVW+t7J+jBw5UiiVSnHp0iXdvKSkJGFvby/69u1b5Tp37twpAIjnn3++ynr8/f3Lbfvtt98Wtra24vz58+Xe8+qrrwoLCwuRmJiom5efn19umeLiYtG+fXvRv3//cvMBCLlcLk6fPl1lzWXatWtXbv8rU7YfhoeHl/sMs2fPFhYWFiIzM1MIIUROTo5wcnISzzzzTLn3p6SkCEdHxwrz7zV9+nTh4eGh+37OnDmib9++wt3dXSxdulQIIcTt27eFTCYTn3/+uW65e/shhBALFy4UMplMXL16VTevbP+7273/DkRUiqfRiUzA6tWr4eHhgbCwMAClpyzHjh2LtWvXQqPR6JbbsmULevXqhR49eujmubm5YcKECXVWi6OjIwBg27ZtyM/Pr5N1WlhY6K4f1Wq1SE9PR0lJCbp164YjR47c17qnT59e7vuZM2cCKO2VoTZs2IBOnTrhkUceqfDavY+5qQmNRoPt27dj5MiRaNasmW6+l5cXxo8fj7///hvZ2dlV1iOTyTBv3jyD6lm/fj369OmDJk2aIC0tTfcVHh4OjUaDvXv36pa9+6h4RkYGsrKy0KdPH73/LqGhoWjbtm21n7smnn322XKfoU+fPtBoNLh69SoAICoqCpmZmRg3bly5z2BhYYGePXtWewlGnz59kJqaivj4eAClRzD79u2LPn36YN++fQBKj3YKIcod2by7H3l5eUhLS0Pv3r0hhMDRo0fr5LMTNTYMm0QS02g0WLt2LcLCwpCQkICLFy/i4sWL6NmzJ1JTUxEdHa1b9urVq2jZsmWFdbRu3brO6gkMDMScOXPw3XffwdXVFREREVi8eLHues3aWrlyJTp27AgrKyu4uLjAzc0Nf/75532v995+NG/eHHK5vMK1qTVx6dIltG/f/r7qudutW7eQn5+v99+nTZs20Gq1uHbtWpX1eHt7w9nZ2aDtXrhwAVu3boWbm1u5r/DwcADAzZs3dctu3rwZvXr1gpWVFZydneHm5oalS5fq/XcJDAw0qI6q+Pn5lfu+SZMmAEoDb9lnAID+/ftX+Bzbt28v9xn0KQuQ+/btQ15eHo4ePYo+ffqgb9++urC5b98+ODg4oFOnTrr3JSYmYvLkyXB2doadnR3c3NwQGhoKAPe9rxI1Vrxmk0hiO3fuRHJyMtauXYu1a9dWeH316tUYOHDgfW+nsiNhdx85LfPJJ59g8uTJ+O2337B9+3Y8//zzumsifXx8DN72jz/+iMmTJ2PkyJF46aWX4O7uDgsLCyxcuBCXLl0yeH1Vqc0RyIZGq9ViwIABePnll/W+3qpVKwClYWv48OHo27cvlixZAi8vLygUCkRGRmLNmjUV3leX1wZbWFjonS/+vXmn7EamVatWlbuBp4ylZdV/vry9vREYGIi9e/ciICAAQgiEhITAzc0NL7zwAq5evYp9+/ahd+/ekMtLj7toNBoMGDAA6enpeOWVVxAUFARbW1vcuHEDkydP1nsjHhFVj2GTSGKrV6+Gu7s7Fi9eXOG1jRs34tdff8WyZctgbW0Nf39/3RGfu5WdKqxK2ZGjzMzMcvPLTlveq0OHDujQoQNef/117N+/Hw888ACWLVuGd955B4Bhoe6XX35Bs2bNsHHjxnLv03d62FAXLlwod8Tt4sWL0Gq1ld48UpXmzZvj1KlTtapDXz/c3NxgY2Oj99/n3LlzkMvl8PX1rbKebdu2IT093aCjm82bN0dubq7uSGZlNmzYACsrK2zbtg0qlUo3PzIyssbbqsz9hv6yG6zc3d2r/RyV6dOnD/bu3YvAwEB07twZ9vb26NSpExwdHbF161YcOXIECxYs0C1/8uRJnD9/HitXrsSTTz6pmx8VFXVfn4WoseNpdCIJFRQUYOPGjRg2bBgee+yxCl8zZsxATk4Ofv/9dwDAkCFDcODAARw6dEi3jlu3btXomZxlf7zvvl5Po9Hgm2++KbdcdnY2SkpKys3r0KED5HI5ioqKdPNsbW0rBNfKlB3FEnc9cubgwYOIiYmp0furcm9I//LLLwEAgwcPNnhdo0aNwvHjx/Hrr79WeO3u2vXR1w8LCwsMHDgQv/32W7nT+qmpqVizZg0efPBBODg4VFmPEKJcIKpJPWPGjEFMTAy2bdtW4bXMzEzdv6+FhQVkMlm5o9tXrlypk4fTG7J/6BMREQEHBwe89957UKvVFV7X95ike/Xp0wdXrlzBunXrdKfV5XI5evfujUWLFkGtVpe7XlPffiqEwOeff17rz0FEPLJJJKnff/8dOTk5GD58uN7Xe/XqpXvA+9ixY/Hyyy9j1apVGDRoEF544QXdo4/8/f1x4sSJKrfVrl079OrVC3PnztUdKVu7dm2FYLlz507MmDEDo0ePRqtWrVBSUoJVq1bBwsICo0aN0i0XHByMHTt2YNGiRbpTlpU9xmfYsGHYuHEjHnnkEQwdOhQJCQlYtmwZ2rZti9zc3HLLTp48GStXrkRCQkKNjk4mJCRg+PDhGDRoEGJiYvDjjz9i/Pjx5a7Dmz9/PhYsWIBdu3ZVOV78Sy+9hF9++QWjR4/GU089heDgYKSnp+P333/HsmXLyq3zXpX145133kFUVBQefPBBPPfcc7C0tMTXX3+NoqIifPjhh1V+trCwMEycOBFffPEFLly4gEGDBkGr1WLfvn0ICwvDjBkzKv0cv//+O4YNG4bJkycjODgYeXl5OHnyJH755RdcuXIFrq6uGDp0KBYtWoRBgwZh/PjxuHnzJhYvXowWLVpUuz9VJzg4GEuXLsU777yDFi1awN3dHf3796/x+x0cHLB06VJMnDgRXbt2xeOPPw43NzckJibizz//xAMPPICvvvqqynWUBcn4+Hi89957uvl9+/bFX3/9BZVKVe7RYkFBQWjevDlefPFF3LhxAw4ODtiwYYPuOlIiqiWpboMnIiEefvhhYWVlJfLy8ipdZvLkyUKhUIi0tDQhhBAnTpwQoaGhwsrKSjRt2lS8/fbbYvny5dU++kgIIS5duiTCw8OFSqUSHh4e4rXXXhNRUVHlHn10+fJl8dRTT4nmzZsLKysr4ezsLMLCwsSOHTvKrevcuXOib9++wtraWgCo8pEvWq1WvPfee8Lf31+oVCrRpUsXsXnzZjFp0iTh7+9fbtlRo0YJa2trkZGRUWXvyh49c+bMGfHYY48Je3t70aRJEzFjxgxRUFBQbtn//e9/QiaTibNnz1a5TiFKH4czY8YM0bRpU6FUKoWPj4+YNGmSrv+VqaofR44cEREREcLOzk7Y2NiIsLAwsX///mprEaL0sVEfffSRCAoKEkqlUri5uYnBgweLuLg43TL6HrmTk5Mj5s6dK1q0aCGUSqVwdXUVvXv3Fh9//LEoLi7WLbd8+XLRsmVLoVKpRFBQkIiMjNT7WB8AYvr06TWqWYjSRxQNHTpU2NvbCwC6fbHs0UexsbHllr/3EVx3z4+IiBCOjo7CyspKNG/eXEyePFkcPny4RnW4u7sLACI1NVU37++//xYARJ8+fSosf+bMGREeHi7s7OyEq6ureOaZZ8Tx48cFABEZGalbjo8+Iqo5mRDVnBsiIrPUp08fqFQq7NixQ+pSDOLh4YEnn3wSH330UZ2ts0ePHvD39+dDuYmIJMBrNokaqOTk5EpHvDFVp0+fRkFBAV555ZU6W2d2djaOHz+Ot956q87WSURENcdrNokamP3792Pjxo24dOlSnYa2+tCuXbsqH3JeGw4ODuVubCIiovrF0+hEDcyUKVPw119/Ydy4cfjoo4+qfR4hERGRMTFsEhEREZHR8JpNIiIiIjIahk0iIiIiMhqTu5hLq9UiKSkJ9vb2HOOYiIiIyAQJIZCTkwNvb2/I5VUfuzS5sJmUlFTlWMFEREREZBquXbsGHx+fKpcxubBpb28PoLT4qsYMrktqtRrbt2/HwIEDoVAo6mWb5oB90Y99qRx7ox/7Urla9UatBiIjS6enTAEaYE+5z1SOvdGvvvuSnZ0NX19fXW6rismFzbJT5w4ODvUaNm1sbODg4MAd9y7si37sS+XYG/3Yl8rVqjd5ecBLL5VOT5sG2Noar0CJcJ+pHHujn1R9qcklj7xBiIiIiIiMhmGTiIiIiIyGYZOIiIiIjMbkrtmsKY1GA7VaXSfrUqvVsLS0RGFhITQaTZ2ssyFoDH1RKpXVPrKBiIiIas/swqYQAikpKcjMzKzTdXp6euLatWt8tuddGkNf5HI5AgMDoVQqpS6FiIioQTK7sFkWNN3d3WFjY1MnIUir1SI3Nxd2dnY8ynWXht6XsgEEkpOT4efn12ADNRERkZTMKmxqNBpd0HRxcamz9Wq1WhQXF8PKyqpBhqraagx9cXNzQ1JSEkpKSvgIDSJzoVIBmzffmSYik2ZWYbPsGk0bGxuJK6GGouz0uUajYdgkMheWlsDQoVJXQUQ1ZJaHq3i6k+oK9yUiIiLjMqsjm0RERFCrgdWrS6cnTGiQw1USNSRmeWST7pg/fz46d+5s9O3IZDJs2rQJAHDlyhXIZDIcO3bM6Ns1VH31g4gkVFxcOib6lCml00Rk0hg268nkyZMhk8kgk8mgVCrRokULvPXWWygpKbmv9b744ouIjo6uoyorD2vJyckYPHhwnW1n9+7dun7IZDJ4eHhg1KhRuHz5co3XcXcAJiIiItPEsFmPBg0ahOTkZFy4cAH/+9//MH/+fHz00Ud6ly2u4f/W7ezs6vTO/Mp4enpCZYS7PuPj45GUlIT169fj9OnTePjhhxvsA+SJiIgaI4bNeqRSqeDp6Ql/f39MmzYN4eHh+P333wGUHvkcOXIk3n33XXh7e6N169YAgJMnT6J///6wtraGi4sLnn32WeTm5urWqe9I5HfffYc2bdrAysoKQUFBWLJkSbnXr1+/jnHjxsHZ2Rm2trbo1q0bDh48iBUrVmDBggU4fvw4ZDIZLCwssGbNGgDVH0U8deoUBg8eDDs7O3h4eGDixIlIS0urtifu7u7w8vJC37598eabb+LMmTO4ePEiYmNjMWDAALi6usLR0RGhoaE4cuSI7n0BAQEAgEceeQQymUz3fZlVq1YhICAAjo6OePzxx5GTk1NtLURERFT3zP4GISEECtT3dyRMq9WioFgDy+ISg54naa2wuK+7ma2trXH79m3d99HR0XBwcEBUVBQAIC8vDxEREQgJCUFsbCxu3ryJp59+GjNmzMCKFSv0rnP16tV488038dVXX6FLly44evQonnnmGdja2mLSpEnIzc1FaGgomjZtit9//x2enp44cuQItFotxo4di1OnTmHr1q3YsWMHtFptjT5fZmYm+vfvj6effhqffvopCgoK8Morr2DMmDHYuXOnQf0ASo/q5uTkYNKkSfjyyy8hhMAnn3yCIUOG4MKFC7C3t0dsbCzc3d0RGRmJQYMGwcLCQreeS5cuYdOmTdi8eTMyMjIwZswYvP/++3j33XdrXAsRERHVDbMPmwVqDdq+uU2SbZ95KwI2SsNbKIRAdHQ0tm3bhpkzZ+rm29ra4rvvvtM9+/Hbb79FYWEhfvjhB9ja2gIAvvrqKzz88MP44IMP4OHhUWHd8+bNwyeffIJHH30UABAYGIgzZ87g66+/xqRJk7BmzRrcunULsbGxcHZ2BgC0aNFC9347OztYWlrC09MTWq0W2dnZ1X6esmD73nvv6eZ9//338PX1xfnz59GqVatq15GcnIyPP/4YTZs2RevWrdGhQ4dyr3/zzTdwcnLCnj17MGzYMLi5uQEAnJyc4OnpWW5ZrVaLFStWwN7eHgAwceJEREdHM2wSERFJwOzDpjnZvHkz7OzsoFarodVqMX78eMyfP1/3eocOHcqN0X327Fl06tRJFzQB4IEHHoBWq0V8fHyFsJmXl4dLly5h6tSpeOaZZ3TzS0pK4OjoCAA4duwYunTpoguadeH48ePYtWsX7OzsKrx26dKlKsOmj48PhBDIz89Hp06dsGHDBiiVSqSmpuL111/H7t27cfPmTWg0GuTn5yMxMbHaegICAnRBEwC8vLxw8+bN2n04IiIiui9mHzatFRY481bEfa1Dq9UiJzsH9g72Bp9GN0RYWBiWLl0KpVIJb29vWFqWb//dobI2yq7l/Pbbb9GzZ89yr5WdZi47VV2XcnNzdUdb7+Xl5VXle/ft2wcHBwe4u7uXC4iTJk3C7du38fnnn8Pf3x8qlQohISE1unHq3pGAZDIZtFptDT8NEZk8lQr4+ec700Rk0sw+bMpkslqdyr6bVqtFidICNkpLo44BbmtrW+6UdXXatGmDFStWIC8vTxdE//nnH8jlct0NRHfz8PCAt7c3Ll++jAkTJuhdZ8eOHfHdd98hPT1d79FNpVJp8N3gXbt2xYYNGxAQEFAhQFcnMDAQTk5OFeb/888/WLJkCYYMGQIAuHbtWoUbjhQKBe9cJ2qMLC2B0aOlroKIaoh3o5uwCRMmwMrKCpMmTcKpU6ewa9cuzJw5ExMnTtR7vSYALFiwAAsXLsQXX3yB8+fP4+TJk4iMjMSiRYsAAOPGjYOnpydGjhyJf/75B5cvX8aGDRsQExMDoPQUdEJCAo4dO4a0tDQUFRVVW+f06dORnp6OcePGITY2FpcuXcK2bdswZcqUWofBli1bYtWqVTh79iwOHjyICRMmVDgqGxAQgOjoaKSkpCAjI6NW2yEiIiLjYtg0YTY2Nti2bRvS09PRvXt3PPbYY3jooYfw1VdfVfqep59+Gt999x0iIyPRoUMHhIaGYsWKFQgMDARQeuRy+/btcHd3x5AhQ9ChQwe8//77utPso0aNwqBBgxAWFgYPDw9s2LCh2jq9vb3xzz//QKPRYODAgejQoQNmzZoFJyenWh8pXr58OTIyMtC1a1dMnDgRzz//PNzd3cst88knnyAqKgq+vr7o0qVLrbZDRGaopARYv7706z4HxiAi45MJIYTURdwtOzsbjo6OyMrKgoODQ7nXCgsLkZCQgMDAQFhZWdXZNsvuunZwcDDqaXRjmDt3Lvbt24e///67ztdtzn2pqdrsU2q1Glu2bMGQIUMqXB/a2LE3+rEvlatVb/LygLIbEnNzgfu83t0UcZ+pHHujX333paq8dq+GmSAaASEELl26hOjoaLRr107qcoiIiIj0Ytg0U1lZWWjbti2USiVee+01qcshIiIi0sugsBkQEACZTFbha/r06QBKT0lOnz4dLi4usLOzw6hRo5CammqUwhs7JycnFBUV4e+//4a/v7/U5RARERHpZVDYjI2NRXJysu6rbFjF0f8+gmL27Nn4448/sH79euzZswdJSUm6kWyIiIiIqPEx6KGIZUMElnn//ffRvHlzhIaGIisrC8uXL8eaNWvQv39/AEBkZCTatGmDAwcOoFevXnVXNRERERGVk2+iD2eo9dPQi4uL8eOPP2LOnDmQyWSIi4uDWq1GeHi4bpmgoCD4+fkhJiam0rBZVFRU7lmOZWNxq9VqqNXqcsuq1WoIIaDVaut0RJiyG/LL1k2lGkNftFothBBQq9W6xz9Vp2y/vHf/JPamMuxL5WrVG7UaCt2kGmiAfeU+Uzn2ppRWK3DxVi6OJGbh6LVMHE3MRMJtS/R6IBc+LhWHj65rhvS/1mFz06ZNyMzMxOTJkwEAKSkpUCqVFUaD8fDwQEpKSqXrWbhwIRYsWFBh/vbt22FjY1O+WEtLeHp6Ijc3t0bDFhoqJyenztfZEDTkvhQXF6OgoAB79+5FiYHP6yu7jIQqYm/0Y18qZ0hvZCUl8Jk5EwBwPToawsCRy8wJ95nKNbbeFGmAhBzZv1/A1VwZCjWyCsv9tHUf2jUx/lMt8/Pza7xsrX9Cly9fjsGDB8Pb27u2qwBQ+pzIOXPm6L7Pzs6Gr68vBg4cqPc5m9euXYOdnV2dPmdTCIGcnBzY29tDJqv4D9dYNYa+FBYWwtraGn379jXoOZtRUVEYMGAAn/F2D/ZGP/alcrXuzfDhAIAORqpLatxnKtdYepOeV4y4q5mIvZqBw1czcCY5Bxpt+RBpo7RAx6YO6OLrhI7edsi4eBQjh9RPX8rORNdErcLm1atXsWPHDmzcuFE3z9PTE8XFxcjMzCx3dDM1NRWenp6VrkulUkGlUlWYr1AoKjRLo9FAJpNBLpfX6UPGy04Rl62bSjWGvsjlcshkMr37W3Vq857Ggr3Rj32pHHujH/tSuYbWmxuZBYhNSMfBhHTEXknHxZu5FZZp6mSN7gFNEOzfBF38miDI0x6WFqV/n9VqNbZcPVpvfTFkG7UKm5GRkXB3d8fQoUN184KDg6FQKBAdHY1Ro0YBAOLj45GYmIiQkJDabIaqsHv3boSFhSEjIwNOTk5YsWIFZs2ahczMTKlLIyIyrpISYNu20umICKABn0anhkkIgSu38xFz6TZir6TjUEI6bmQWVFiupbsdugc6o0eAM7oHOqOpk7UE1d4/g39CtVotIiMjMWnSJFje9QPu6OiIqVOnYs6cOXB2doaDgwNmzpyJkJCQRn8n+rJly/DSSy8hIyND17Pc3Fw0adIEDzzwAHbv3q1btixEXrx4Ec2bN5eoYiIiE1ZUBAwbVjqdm8uwSWYhOasA+y/exj+X0hBz6TaSswrLvW4hl6G9twO6/xssuwc4w9lWKVG1dcvgn9AdO3YgMTERTz31VIXXPv30U8jlcowaNQpFRUWIiIjAkiVL6qRQcxYWFobc3FwcPnxYF7z37dsHT09PHDx4EIWFhbrrBXft2gU/Pz8GTSIiIjN2O7cIBy6nY/+lNOy/dBsJaXnlXldayNHZzwm9AkvDZVe/JrBVNcz/OBn8qQYOHKh7JM69rKyssHjxYixevPi+C2tIWrduDS8vL+zevVsXNnfv3o0RI0Zg586dOHDgAPr166ebHxYWhlWrVuHzzz9HfHw8bG1t0b9/f3z22Wdwd3eX8JMQERGRPjmFasReScc/F29j/6XbOJtc/gYauQzo4OOE3s1d0Lu5C7r5O8NaWbNH7pm7hhOh8/Iqf83CArj7TuN7l9VqS+dZWJSejrG2rnzZMra2BpUXFhaGXbt24dVXXwVQegTz5Zdfhkajwa5du9CvXz8UFBTg4MGDeOqpp6BWq/H222+jdevWuHnzJubMmYPJkydjy5YtBm2XiIiI6p5WK3AqKQt7z9/C3vNpiEvMqHC3eJCnPUKau6B3c1f0CHSGo3XDuaHJEA0nbNpV8QDTIUOAP/+88727O3DX86HkAJzKvgkNBe66hhIBAUBaWsV1VnJ0tzJhYWGYNWsWSkpKUFBQgKNHjyI0NBRqtRrLli0DAMTExKCoqAhhYWHw8/PTvbdZs2b44osv0L17d+Tm5sKuqs9KRERERnErpwj7LtzCnvO38PeFNNzOK//Mb38XG/Ru7orezV3Qq5kL3OwrPm2nMWo4YdPE9evXD3l5eYiNjUVGRgZatWoFNzc3hIaGYsqUKSgsLMTu3bvRrFkz+Pn5IS4uDvPnz8fx48eRkZGhewxRYmIi2rZtK/GnISIiaviKS7SIu5qBvRduYU/8LZy559S4ncoSvZu7oG8rN4S2coOvs00la2rcGk7YzK34PCqde4chvHmz3LdarRbZ2dlwcHCA/N67Gq9cqZPyWrRoAR8fH+zatQsZGRkIDQ0FAHh7e8PX1xf79+/Hrl270L9/f+Tl5SEiIgIRERFYvXo13NzckJiYiIiICKOMnERERESlkjILsPPcTeyOv4WYS2nIK9aUe719UweEtnJD35Zu6OrfBAqLhvkc6rrUcMKmIddQ3rusVgtoNKXz7314uYHXZlYlLCwMu3fvRkZGBl566SXd/L59++Kvv/7CoUOHMG3aNJw7dw63b9/G+++/D19fXwDA4cOH66wOIiKzplQCX311Z5roPmi1AsevZ2LnuZvYcfZmhRt7XO2U6NOy9Mjlgy1d4WrHU+OGajhh0wyEhYVh+vTpUKvVuiObABAaGooZM2aguLgYYWFhsLS0hFKpxJdffon//ve/OHXqFN5++20JKyciMiEKBTB9utRVkBnLLSrB3xduIfrsTeyKv4m03DtnDeUyoKtfE4QFuSO0lRvaejlALm+YQzbXF4bNehQWFoaCggIEBQXBw8NDNz80NBQ5OTm6RyQBwIoVK/Daa6/hiy++QNeuXfHxxx9j+L9jARMREZFhrqXn/3v0MhUHL6ejWKPVvWavskTf1m54KMgd/Vq7N5iHqZsKhs16FBAQoPcZpf7+/hXmjxs3DuPGjSs37+5l+vXrV+77yZMnY/LkyXVbMBGRKdJogH37Sqf79Kl4XT4RSv9mnrqRja2nkxF1JhXnU8vf2+HvYoOHgjwQ3sYd3QKcobTktZfGwrBJRETmpbAQCAsrnc7NrdNr68m8abQCsVfSsfVUCqLOpJYbb9xCLkOwfxOEt3FH/yAPNHezhUzG0+P1gWGTiIiIzFZRiQb/XEzDtlOpiDqbivS7nn1prbBAv9ZuiGjniX6t3eBkw9PjUmDYJCIiIrNSqAG2nExB1Llb2B1/C7lFJbrXHK0VCG/jgUHtPdGnpSusFLzMQmoMm0RERGTysgvViDqdis0nbmDfeQuUHDqhe83DQYWIdp6IaOeJHoHOfPaliWHYJCIiIpOUW1SCHWdSsflEMvaev3XXHeQyBLjYIKK9Jwa180QnHyc+nsiEmWXYLBu6keh+6Xs6ABERSSe/uATRZ29i84kk7Iq/heKSO3/zW7jbYUg7D9ikx+OpUQ9AyYf6mwWzCptKpRJyuRxJSUlwc3ODUqmskzvJtFotiouLUVhYCPm9Iwg1Yg29L0II3Lp1CzKZDAqFQupyiIgarYJiDXbF38SfJ5IRfS4Vheo7AbOZqy2GdfTC0I7eaO1pD7VajS1b4nknuRkxq7Apl8sRGBiI5ORkJCUl1dl6hRAoKCiAtbU1d967NIa+yGQy+Pj4wILP6SMyHwoF8OGHd6bJLBWVaLAn/hY2n0jGjrOpyL9rDHI/ZxsM6+iFYR290cbLvsH+DWoszCpsAqVHN/38/FBSUgKNRlP9G2pArVZj79696Nu3L49w3aUx9EWhUDBoEpkbpRJ46SWpq6Ba0GoFDl/NwK9Hb2DLyWRkFah1rzV1stYFzPZNHRgwGxCzC5sAdKc96yoAWVhYoKSkBFZWVg02VNUG+0JERHXhfGoONh29gd+OJZV70Lq7vQoPd/LGsI5e6OzrxIDZQJll2CQiokZMowGOHCmd7tqVw1WaqNTsQvx+LAm/Hr2BM8nZuvl2KksMbu+JkV2aolczF1jwLvIGj2GTiIjMS2Eh0KNH6TSHqzQpOYVq/HUqBb8du4H9l26j7IEfCgsZQlu545EuTfFQG3c+aL2RYdgkIiKiWtNoBfZduIVf4q4j6kwqiu56VFH3gCYY0bkphnbwQhNbPqaosWLYJCIiIoNdvpWLX+KuY+ORG0jJLtTNb+Fuh0e6NMXwTt7wdbaRsEIyFQybREREVCM5hWpsPpGMX+KuI+5qhm6+k40CIzs3xWPBPmjnzTvJqTyGTSIiIqqUVisQc/k2fom7jr9OJeseuC6XAf1au2N0sA/6t3GHypLXYZJ+DJtERERUQeLtfPxy5Do2xF0v97iiFu52GB3sg0e6NIW7g5WEFZK5YNgkIiIiAKWj+mw7nYq1hxKx/9Jt3Xx7K0sM7+SNx4J9+DxMMhjDJhERmReFApg378403bdLt3Kx9lAifom7joz80lF9ZDLgwRaueCzYBxHtPPm4Iqo1hk0iIjIvSiUwf77UVZi9QrUGW0+lYM2hRBxKSNfN93SwwpjuvhjTzQc+TXg3Od0/hk0iIqJG5HxqDn46lIiNR27oxiaXy4D+Qe4Y18MPoa3cYGkhl7hKakgYNomIyLxotcDZs6XTbdoAcgaj6hQUa/DnyWT8dCix3COLmjpZY2x3X4zu5gMvR2sJK6SGjGGTiIjMS0EB0L596TSHq6zS5Vu5WHXgKn6Ju46cwhIAgIVchvA2pUcx+7R049jkZHQMm0RERA1IiUaL6HM38eOBq9h3IU0339fZGo9398PoYB8+sojqFcMmERFRA5CWW4R1sdew+sBVJGWVDh8pkwH9W7tjYog/+rZ0g5xHMUkCDJtERERmSgiBI4kZ+CHmKracTIZaIwAATWwUGNvdDxN6+nF8cpIcwyYREZGZyS8uwW/HkrAq5irOJGfr5nf2dcKTIf4Y0sGLz8Ukk8GwSUREZCaupedjxf4r+PnwNd0NPypLOUZ09sbEXgHo4OMocYVEFTFsEhERmTAhBA4mpOP7vxOw42wqtKVnyuHvYoMnevpjdDcfONkopS2SqAoMm0REZF4UCuDFF+9MN1AlWmDj0RtYGXOt3Kny0FZumPxAAEJ5ww+ZCYZNIiIyL0ol8NFHUldhNLdyivDD/suIPGKB3IOnAQBWCjlGdfXBlAcC0MLdXuIKiQzDsElERGQCTt3IQuQ/V/DH8SQUa7QAZPB0UGHyA4F4vLsvT5WT2WLYJCIi86LVAomJpdN+fmY9XKVGKxB1JhXf/5OAQwnpuvldfB3RySodL0/oAxsrlYQVEt0/hk0iIjIvBQVAYGDptJkOV1lQrMH6uGv4bl8CEtPzAQCWchmGdPDClAcC0N7LDlu2bIHCwnyDNFEZhk0iIqJ6kpZbhB/2X8GqA1eRka8GADjZKDChpx8m9gqAp2PpMJJqtVrKMonqFMMmERGRkSWk5eHbfZexIe46ikq0AAA/Zxs83ScQjwX7wEbJP8fUcHHvJiIiMpK4qxn4Zu8lbD+TCvHv8zE7+Tji2b7NMai9Jyz46CJqBBg2iYiI6pBWKxB1NhXf7L2MuKsZuvkPBbnj2b7N0CPQGTIZQyY1HgybREREdaBQrcHGIzfw3b7LuJyWBwBQWsgxsos3nunTDC09+HxMapwYNomIiO5DblEJ1hy8im/3JeBWThEAwN7KEk/08seU3gFwd7CSuEIiaTFsEhGRebG0BJ577s60RDLyirFi/xWs2H8FWQWld497O1phap9mGNvdF3Yq/oklAhg2iYjI3KhUwOLFkm0+NbsQ3+27jNUHE5FfrAEANHO1xX/7NcfIzk2htOSzMYnuZvBPxI0bN/DEE0/AxcUF1tbW6NChAw4fPqx7XQiBN998E15eXrC2tkZ4eDguXLhQp0UTERHVt6u38zB340n0+WAXvt2XgPxiDdp6OWDx+K6ImhOKMd18GTSJ9DDoyGZGRgYeeOABhIWF4a+//oKbmxsuXLiAJk2a6Jb58MMP8cUXX2DlypUIDAzEG2+8gYiICJw5cwZWVrxuhYiI7pMQQFpa6bSrK2DkO7vPpWRj6e5L+ON4ErT/Pr6oR4AzngtrjtBWbryznKgaBoXNDz74AL6+voiMjNTNCywbMgylRzU/++wzvP766xgxYgQA4IcffoCHhwc2bdqExx9/vI7KJiKiRis/H3B3L5024nCVRxMzsHjXJew4m6qb16+1G57r1wI9Ap2Nsk2ihsig4/2///47unXrhtGjR8Pd3R1dunTBt99+q3s9ISEBKSkpCA8P181zdHREz549ERMTU3dVExERGcnhK+mYuPwgHlmyHzvOpkImA4Z28MLmmQ9ixZQeDJpEBjLoyObly5exdOlSzJkzB6+99hpiY2Px/PPPQ6lUYtKkSUhJSQEAeHh4lHufh4eH7rV7FRUVoaioSPd9dnY2gNJxYetrbNiy7XAs2vLYF/3Yl8qxN/qxL5WrVW/Uaijufn8d9TX2Sga+2nUJ+y+nAwAs5TIM7+SF//QJRDM3W8PrvA/cZyrH3uhX330xZDsyIcoG0KqeUqlEt27dsH//ft28559/HrGxsYiJicH+/fvxwAMPICkpCV5eXrplxowZA5lMhnXr1lVY5/z587FgwYIK89esWQMbG5safxAiImocLAoLMezfy7I2r10LzX3eD3AxC9h6XY4L2aUn++QygZ5uAgOaauHCWw2I9MrPz8f48eORlZUFBweHKpc16Miml5cX2rZtW25emzZtsGHDBgCAp6cnACA1NbVc2ExNTUXnzp31rnPu3LmYM2eO7vvs7Gz4+vpi4MCB1RZfV9RqNaKiojBgwAAoFIrq39BIsC/6sS+VY2/0Y18qV6ve5OXpJiMiImp1zaYQAgcS0vHlrsuIvVI6pKTCQoZRXZviP30C4dPE2uB11iXuM5Vjb/Sr776UnYmuCYPC5gMPPID4+Phy886fPw9/f38ApTcLeXp6Ijo6Whcus7OzcfDgQUybNk3vOlUqFVQqVYX5CoWi3nciKbZpDtgX/diXyrE3+rEvlTOoN3ctp1Aoyn1fHSEE/rl4G59Hn9eFTKWFHGO6+2BavxZo6iRtyLwX95nKsTf61VdfDNmGQWFz9uzZ6N27N9577z2MGTMGhw4dwjfffINvvvkGACCTyTBr1iy88847aNmype7RR97e3hg5cqRBH4KIiKiuCCGw70IaPo++gLird0Lm4z18Ma1fc3g5mlbIJGpIDAqb3bt3x6+//oq5c+firbfeQmBgID777DNMmDBBt8zLL7+MvLw8PPvss8jMzMSDDz6IrVu38hmbRERUNywtgUmT7kxXY//FNHy8PR5HEjMBAEpLOcb38MN/Q5vD05F/m4iMzeDhKocNG4Zhw4ZV+rpMJsNbb72Ft956674KIyIi0kulAlasqHaxw1fS8cn284i5fLv0bZZyTOjpj/+GNoO7A0MmUX3h2OhERNSgnLyehU+i4rE7/haA0tPl43v64bl+zRkyiSTAsElEROZFiNJRhADAxkY3XOW5lGx8GnUe206XjvhjIZdhTDcfzOjf0uRu/CFqTBg2iYjIvOTnA3Z2pdO5ubicL/DZjgv440QShCjNno90bornH2qJAFfjDGVJRDXHsElERGbrtY0nsfbMbWj/HZ5kaAcvzApviZYe9tIWRkQ6DJtERGRWUrMLUTYo8q9Hb0CrtEJ4G3fMHtAK7bwdJa2NiCpi2CQiIrOQVaDGsj2XsHbXWRz9d94DLVwwfVgndPFrImltRFQ5hk0iIjJphWoNVu6/giW7LyGrQA1rtVb32neTutdquEoiqj8Mm0REZJJKNFpsOHIdn+24gOSsQgBAKw87vNqnDfCpxMURUY0xbBIRkUkRQmDb6VR8tO0cLt3KAwA0dbLG7AGt8EiXprAoyJe4QiIyBMMmERGZjAOXb+ODredw9N+hJZvYKDA9rAWe6OUPK4VF6UIWFsBjj92ZJiKTxrBJRESSO5ucg0XRF3Wj/lgrLPB0n0A807cZHKwU5Re2sgLWr5egSiKqDYZNIiKSzPWMAvxwQY4jB2IgBGApl2FcDz/MfKgF3O05tCRRQ8CwSURE9S6rQI0luy8i8p8rKC6RAwAe7uSN/w1oxVF/iBoYhk0iIqo3xSVarDl4FZ9HX0BGvhoA0NJBiw/H90aXAJearSQvr9xwlXz0EZFpY9gkIiKjK7vD/IOt55CQVnqHeQt3O7w8sCXyL8aifVMHiSskImNh2CQiIqM6mpiB97acReyVDACAq50Sswe0wthuvhBaDbZckrhAIjIqhk0iIjKKa+n5+HBbPP44ngQAsFLI8UyfZvhPaHPYqUr//Ki1GilLJKJ6wLBJRER1KitfjcW7L2LFP1dQrNFCJgMe7eKDFyNawcvRWuryiKieMWwSEVGdUGu0+PFA6c0/mf/e/NO7uQteG9IG7Zs6SlwdEUmFYZOIiO7brvibeGfzGd3wki3d7fDakDbo19oNMplM4uqISEoMm0REVGsXb+binT/P6Eb+cbZVYs6AVni8uy8sLeTG2aiFBTBkyJ1pIjJpDJtERGSwrHw1Pos+j1UxV1GiFbCUyzC5dwBmPtQSjtaK6ldwP6ysgD//NO42iKjOMGwSEVGNlWi0+OlQIhZFndc9lD28jTteG9IGzdzsJK6OiEwRwyYREdXI3xfS8PbmM4hPzQFQel3mG8Paom8rN4krIyJTxrBJRERVupKWh3f+PIsdZ1MBAE42CswOb4UJPf2Md11mVfLyAHf30umbNzlcJZGJY9gkIiK9cgrV+GrnRXz/TwLUGgELuQwTe/ljVnhLONkopS0uP1/a7RNRjTFsEhFROUIIbDxyAwv/Ooe03CIAQN9WbnhjaBu09LCXuDoiMjcMm0REpHM6KQvzfjuNw1dLxzEPdLXFG8PaIKy1O5+XSUS1wrBJRETIzC/GJ9vPY/XBq9AKwEZpgZn9W+KpBwOgsuSzLImo9hg2iYgaMa1WYN3ha/hw6zndo4yGdfTC/w1tw3HMiahOMGwSETVSx65lYt5vp3D8ehYAoJWHHeYPb4fezV0lroyIGhKGTSKiRuZ2bhE+3BqPdYevAQDsVZaYNaAVngzxh0KKRxkZSi4HQkPvTBORSWPYJCJqJEo0Wqw5lIiPt8Uju7AEADCqqw9eGdwa7vZWEldnAGtrYPduqasgohpi2CQiagTirqbj9U2ncTY5GwDQztsBb41oh2B/Z4krI6KGjmGTiKgBy8grxvt/ndOdMne0VuDFiNYY38MPFnI+yoiIjI9hk4ioAdJqBX45ch0Lt5zV3WU+tpsvXhkcBGdbiUf/uV95eUBAQOn0lSscrpLIxDFsEhE1MPEpOXh900nEXil9MHtrD3u8+0h7dAtoQKfM09KkroCIaohhk4iogcgvLsHnOy5g+d8JKNEK2CgtMCu8JaY8EGged5kTUYPEsElE1ABsP52CBX+cwY3MAgBARDsPzHu4Hbyd+GB2IpIWwyYRkRm7npGP+b+fxo6zNwEATZ2s8daIdniojYfElRERlWLYJCIyQ8UlWiz/OwGfR59HoVoLS7kMz/Zthpn9W8JaybHMich0MGwSEZmZw1fSMXfjSVy4mQsA6BnojHdGtkdLD3uJKyMiqohhk4jITGQXqvHBX+ew+mAiAMDFVonXhrTBo12bQiZrRM/MlMuBbt3uTBORSWPYJCIyA1tPJePN307jZk4RAGBMNx+8NqQNnGzM/JmZtWFtDcTGSl0FEdUQwyYRkQlLzirAvN9OY/uZVABAoKst3n2kPXo3d5W4MiKimmHYJCIyQRqtwOqDV/Hh1njkFpXAUi7DtH7NMT2sBawUvAGIiMwHwyYRkYmJT8nBqxtP4GhiJgCgi58T3n+0I1p78gYgAEB+PtC2ben0mTOAjY209RBRlRg2iYhMRKFag692XsSyPZdQohWwU1nilUGtMaGnP+TyRnQDUHWEAK5evTNNRCaNYZOIyATEXLqN1349iYS0PADAwLYeeGtEe3g6WklcGRHR/WHYJCKSUFaBGu/9eRbrDl8DAHg4qLBgeHsMau8pcWVERHWDYZOISCLbT6fg9U2ncDOnCDIZ8ERPf7w0qDUcrBRSl0ZEVGcMehru/PnzIZPJyn0FBQXpXi8sLMT06dPh4uICOzs7jBo1CqmpqXVeNBGRObudW4SZPx3Fs6vicDOnCM3cbLH+PyF4e2R7Bk0ianAMPrLZrl077Nix484KLO+sYvbs2fjzzz+xfv16ODo6YsaMGXj00Ufxzz//1E21RERmTAiB348nYf7vp5GeVwyLf8czf+GhlnycERE1WAaHTUtLS3h6VryWKCsrC8uXL8eaNWvQv39/AEBkZCTatGmDAwcOoFevXvdfLRGRmcoqBqatOYboc7cAAEGe9vjosU7o4OMocWVmSCa78+ijxjRMJ5GZMjhsXrhwAd7e3rCyskJISAgWLlwIPz8/xMXFQa1WIzw8XLdsUFAQ/Pz8EBMTU2nYLCoqQlFRke777OxsAIBarYZarTa0vFop2059bc9csC/6sS+VY28qEkJgXWwiFh6zQIHmFhQWMjwX2gzP9gmE0lLe6HtVq31GoQCOHbt7JXVblAngz1Ll2Bv96rsvhmxHJkTNH1L2119/ITc3F61bt0ZycjIWLFiAGzdu4NSpU/jjjz8wZcqUcsERAHr06IGwsDB88MEHetc5f/58LFiwoML8NWvWwIYP6iUiM3a7EFh7WY7zWaWXx/vZCoxroYE3f7URkZnLz8/H+PHjkZWVBQcHhyqXNShs3iszMxP+/v5YtGgRrK2taxU29R3Z9PX1RVpaWrXF1xW1Wo2oqCgMGDAACgUvzi/DvujHvlSOvSml1Qr8eOgaPom6gPxiDVSWcgxqqsbbE/vDWqWSujyTwn1GP/alcuyNfvXdl+zsbLi6utYobN7Xo4+cnJzQqlUrXLx4EQMGDEBxcTEyMzPh5OSkWyY1NVXvNZ5lVCoVVHp++SoUinrfiaTYpjlgX/RjXyrXmHtz+VYuXtlwArFXMgAAPQKd8e6INjhzcA+sVapG25fqGLTP5OcD3buXTsfGNujhKhvzz1J12Bv96qsvhmzDoEcf3Ss3NxeXLl2Cl5cXgoODoVAoEB0drXs9Pj4eiYmJCAkJuZ/NEBGZPK1WYPnfCRj8+T7EXsmArdICb49sj7XP9EKAi63U5TUsQpSOiX7mDIerJDIDBh3ZfPHFF/Hwww/D398fSUlJmDdvHiwsLDBu3Dg4Ojpi6tSpmDNnDpydneHg4ICZM2ciJCSEd6ITUYN29XYeXlp/AoeupAMA+rR0xcJHO8CnSekRN41GyuqIiKRlUNi8fv06xo0bh9u3b8PNzQ0PPvggDhw4ADc3NwDAp59+CrlcjlGjRqGoqAgRERFYsmSJUQonIpKaVivw48GrWLjlHArUGtgqLfB/Q9tiXA9fyPhIHiIiAAaGzbVr11b5upWVFRYvXozFixffV1FERKbuWno+Xv7lBGIu3wYAhDRzwYePdYSvc8O9fpCIqDY4NjoRkQGEEPjp0DW8++cZ5BVrYK2wwKuDgzCxlz/kch7NJCK6F8MmEVENJWUW4JUNJ7DvQhoAoHtAE3z0WCcEuPIGICKiyjBsEhFVQwiB9XHX8fYfZ5BTVAKVpRwvDwrClN4BPJopBZkM8Pe/M01EJo1hk4ioCqnZhXh1wwnsii8d07yLnxM+Ht0Jzd3sJK6sEbOxAa5ckboKIqohhk0iokr8duwG3th0CtmFJVBayvG/Aa3wdJ9msODRTCKiGmPYJCK6R2Z+MV7fdAqbTyQDADr6OOKT0Z3Q0sNe4sqIiMwPwyYR0V32nL+Fl385jtTsIljIZZjZvwWmh7WAwuK+BlyjulRQAPTtWzq9dy9gbS1tPURUJYZNIiIABcUaLPzrLH6IuQoAaOZmi0/HdEYnXydpC6OKtFrg8OE700Rk0hg2iajRO34tE7PXHcPltDwAwKQQf7w6uA2slRYSV0ZEZP4YNomo0VJrtPhq50V8tesiNFoBDwcVPnqsE/q2cpO6NCKiBoNhk4gapUu3cjFn3TEcv54FAHi4kzfeHtEOTjZKiSsjImpYGDaJqFERQmDVgat4b8tZFKq1cLCyxNsj22NE56ZSl0ZE1CAxbBJRo5GSVYiXfjmuG26yT0tXfPhYR3g58m5mIiJjYdgkokbhr5PJeHXjSWQVqKGylGPu4CA8GcLhJs2Wq6vUFRBRDTFsElGDlldUgrf+OIN1h68BADo0dcSnYzujhTuHmzRbtrbArVtSV0FENcSwSUQN1vFrmZi17hgS0vIgkwH/DW2O2eGtoLTkA9qJiOoLwyYRNTgarcCyPZfwadR5lGgFvBytsGhMZ4Q0d5G6NCKiRodhk4galKTMAsxedwwHE9IBAEM7eOG9RzrA0UYhcWVUZwoKgMGDS6f/+ovDVRKZOIZNImowNp9IwmsbTyK7sAQ2SgssGN4OjwX7QCbjTUANilYL7NlzZ5qITBrDJhGZvdyiEsz//TR+ibsOAOjk64TPx3ZGgKutxJURERHDJhGZtaOJGZi17hiu3s6HTAZM79cCL4S3hMKCNwEREZkChk0iMksarcCSXRfxWfQFaLQCTZ2ssWhMJ/RsxpuAiIhMCcMmEZmd5KwCvLD2GA79exPQsI5eePeRDnC05k1ARESmhmGTiMxK1JlUvPTLcWTmq2GrtMBbI9rj0a5NeRMQEZGJYtgkIrNQqNbg/b/OYcX+KwBKRwL6clwX3gTUWNnYSF0BEdUQwyYRmbxLt3Ixc81RnEnOBgA8/WAgXh4UxJGAGitbWyAvT+oqiKiGGDaJyGQJIfBL3HXM+/008os1cLZV4pPRnRAW5C51aUREVEMMm0RkknKLSvD6ryex6VgSAKB3cxd8OrYzPBysJK6MiIgMwbBJRCbnxPVMzPzpKK7ezoeFXIbZ4S0xrV8LWMh5ExABKCwERo0qnd6wAbDif0CITBnDJhGZDK1W4Pt/EvDB1nNQa0qfnfnFuM4I9neWujQyJRoNsGXLnWkiMmkMm0RkEm7nFuHF9cexK/4WAGBQO098MKojHG347EwiInPGsElEkou5dBsvrD2KmzlFUFrK8eawtpjQ04/PziQiagAYNolIMlqtwOJdF/HpjvPQCqCFux2+Gt8FQZ4OUpdGRER1hGGTiCSRlluE2euOYd+FNADAY8E+eGtEO9go+WuJiKgh4W91Iqp3By/fxvNrjyI1uwhWCjneHtEeo7v5Sl0WEREZAcMmEdUbrVZg6Z5L+GR7vO60+ZIJXdHKw17q0oiIyEgYNomoXqTnFWPOz8ew+9+7zR/t0hRvj2wPWxV/DZGBbG0BIaSugohqiL/licjoDl9Jx8yfjiI5qxAqSzneGtEOY7r58m5zIqJGgGGTiIxGqxX4Zt9lfLQtHhqtQDNXWyye0BVtvHi3ORFRY8GwSURGkZFXjP+tP46d524CAIZ38sZ7j3aAHU+b0/0qLAQmTiydXrWKw1USmTj+1ieiOnf0WiZmrTuBpKxCKC3lmP9wO4zrwdPmVEc0GuCXX0qnV6yQtBQiqh7DJhHVGSEEdibJ8OfBWJRoBQJcbLB4Qle083aUujQiIpIIwyYR1YnsQjX+t+44oq5aABAY2tEL7z/aAfZWHNuciKgxY9gkovt2Njkb036Mw5Xb+bCQCbwxtA0mPdCMp82JiIhhk4juz69Hr2PuxpMoVGvh7WiFx/1yMaGnH4MmEREBAORSF0BE5qmoRIPXN53E7HXHUajWok9LV/w6rRf87aSujIiITAmPbBKRwW5kFuC51Udw/FomAOD5h1rihYdaQqspkbYwIiIyOQybRGSQfRdu4fmfjiIjXw1HawU+G9sZYUHuAACtRuLiqHGwsQFyc+9ME5FJY9gkohrRagUW77qIRTvOQwigfVMHLJ0QDF9n/rGneiaTlY6PTkRmgWGTiKqVla/G7J+P6UYDery7L+YPbwcrhYXElRERkam7rxuE3n//fchkMsyaNUs3r7CwENOnT4eLiwvs7OwwatQopKam3m+dRCSRUzeyMOyrfdh57iZUlnJ8OKoj3h/VkUGTpFNUBEyeXPpVVCR1NURUjVqHzdjYWHz99dfo2LFjufmzZ8/GH3/8gfXr12PPnj1ISkrCo48+et+FElH9+zn2Gh5duh/X0gvg62yNDdN6Y0x3X6nLosaupARYubL0q4Q3pRGZulqFzdzcXEyYMAHffvstmjRpopuflZWF5cuXY9GiRejfvz+Cg4MRGRmJ/fv348CBA3VWNBEZV6Fag1c3nMDLG06guESL/kHu2DyjD9o35bCTRERkmFqFzenTp2Po0KEIDw8vNz8uLg5qtbrc/KCgIPj5+SEmJub+KiWienEjswCjl8Vgbew1yGTAiwNb4bsnu8HRhsNOEhGR4Qy+QWjt2rU4cuQIYmNjK7yWkpICpVIJJyencvM9PDyQkpKid31FRUUouuuam+zsbACAWq2GWq02tLxaKdtOfW3PXLAv+jXkvhxMSMfMtceRka9GExsFFo3uiAdbuECjKYGmBo81asi9uR/sS+Vq1Ru1GgrdpBpogH3lPlM59ka/+u6LIdsxKGxeu3YNL7zwAqKiomBlZWVwYfosXLgQCxYsqDB/+/btsKnn56dFRUXV6/bMBfuiX0PqixDAnhQZfrsihxYy+NgKTG1dgOzzB7HlvOHra0i9qUvsS+UM6Y1FYSGG/Tu9bds2aOro75Ep4j5TOfZGv/rqS35+fo2XlQkhRE0X3rRpEx555BFYWNy5C1Wj0UAmk0Eul2Pbtm0IDw9HRkZGuaOb/v7+mDVrFmbPnl1hnfqObPr6+iItLQ0ODg41/iD3Q61WIyoqCgMGDIBCwVOFZdgX/RpaXwqKNXjj9zP47XgyAGBEJy+8M6Jtre42b2i9qSvsS+Vq1Zu8PCj+vV9AnZHRIJ+5yX2mcuyNfvXdl+zsbLi6uiIrK6vavGbQkc2HHnoIJ0+eLDdvypQpCAoKwiuvvAJfX18oFApER0dj1KhRAID4+HgkJiYiJCRE7zpVKhVUKlWF+QqFot53Iim2aQ7YF/0aQl+upefjvz/G4XRSNizkMrw+tA0m9w6ATCa7r/U2hN4YA/tSOYN6c9dyCoWi3PcNDfeZyrE3+tVXXwzZhkFh097eHu3bty83z9bWFi4uLrr5U6dOxZw5c+Ds7AwHBwfMnDkTISEh6NWrlyGbIiIj+/tCGmb+dAQZ+Wq42Crx1fiuCGnuInVZRNWzsQFu3rwzTUQmrc5HEPr0008hl8sxatQoFBUVISIiAkuWLKnrzRBRLQkh8N2+BCz86yy0Aujo44hlTwTD28la6tKIakYmA9zcpK6CiGrovsPm7t27y31vZWWFxYsXY/Hixfe7aiKqY/nFJXhlw0n8cTwJAPBYsA/eGdmeowEREZHRcGx0okYi8XY+nl11GOdScmApl2Hew23xRC//+74+k6jeFRUBc+aUTi9aBOi57p+ITAfDJlEjsPf8Lcz86SiyCtRwtVNhyYSu6BHoLHVZRLVTUgKUXZ714YcMm0QmjmGTqAETQmDZnsv4aNs5aAXQ2dcJy54Ihqdjw30uIRERmRaGTaIGKr+4BC/9cgJ/nih9fubj3X2xYEQ7qCx5fSYREdUfhk2iBuhGZgGeWXkYZ5KzobCQYf7wdpjQ01/qsoiIqBFi2CRqYGKvpOO/q+JwO68YrnZKLHsiGN0CeH0mERFJg2GTqAH56VAi3vztFNQagXbeDvjmyW5oyudnEhGRhBg2iRoAtUaLdzafwcqYqwCAoR298PFjnWCt5PWZREQkLYZNIjOXkVeM6WuOYP+l2wCAFwe2wvSwFnx+JjVc1tZAQsKdaSIyaQybRGYsPiUHz/xwGInp+bBVWuDTsZ0xsJ2n1GURGZdcDgQESF0FEdUQwyaRmdp+OgWz1x1DXrEGvs7W+O7J7mjtaS91WUREROUwbBKZGSEEFu+6iI+3nwcAhDRzwZIJXdHEVilxZUT1pLgY+L//K51+911AyX2fyJQxbBKZkYJiDV765Tg2//ug9kkh/nh9WFsoLOQSV0ZUj9Rq4OOPS6fnz2fYJDJxDJtEZuJGZgGe/eEwTidlw1Iuw1sj2mN8Tz+pyyIiIqoSwyaRGTh8JR3//TEOabnFcLYtfVB7j0A+qJ2IiEwfwyaRidsQdx1zN55EsUaLNl4O+PbJYPg0sZG6LCIiohph2CQyUVqtwEfb47F09yUAwKB2nlg0thNslPyxJSIi88G/WkQmKL+4BHPWHcfW0ykAgOlhzfG/Aa0hl/NB7UREZF4YNolMTEpWIZ7+IRanbmRDaSHH+6M64NGuPlKXRUREVCsMm0Qm5MT1TDy98jBu5hTBxVaJrycGo1sAbwQiKsfaGjh16s40EZk0hk0iE7HlZDLm/HwMhWotWnnYYfmk7vB15o1ARBXI5UC7dlJXQUQ1xLBJJLF7RwTq19oNX47rAnsrhcSVERER3T+GTSIJFZVo8OqGk/j16A0AwJQHAvB/Q9rAkiMCEVWuuBh4773S6dde4whCRCaOYZNIImm5RfjPqjjEXc2AhVyGBcPb4Yle/lKXRWT61GpgwYLS6ZdeYtgkMnEMm0QSiE/JwdSVsbieUQB7K0ssnRCMB1u6Sl0WERFRnWPYJKpnu+JvYuaao8gtKoG/iw2WT+qOFu52UpdFRERkFAybRPVECIEV+6/g7c1noBVAz0BnLHsiGE1seQqQiIgaLoZNonpQotHi7c1nsDLmKgBgTDcfvDOyA5SWvBGIiIgaNoZNIiPLKyrBzJ+OYue5mwCAuYOD8GzfZpDJOPQkERE1fAybREaUml2Ip1bE4nRSNlSWcnw2tjMGd/CSuiwiIqJ6w7BJZCRnk7Px1IpYJGcVwsVWiW8ndUNXvyZSl0Vk/qysgEOH7kwTkUlj2CQygj3nb2H66iPILSpBczdbRE7uAT8XDj1JVCcsLIDu3aWugohqiGGTqI6tPngVb/52GhqtQK9mzvj6iW5wtOHQk0RE1DgxbBLVEa1W4INt5/D1nssAgEe7NsX7j3bkHedEda24GPj889LpF17gCEJEJo5hk6gOFKo1mPPzMWw5mQIAmB3eCs8/1IJ3nBMZg1oNvPxy6fRzzzFsEpk4hk2i+5SWW4RnfjiMo4mZUFjI8OFjHfFIFx+pyyIiIjIJDJtE9+HizVxMWXEI19IL4GitwNcTg9GrmYvUZREREZkMhk2iWjqYkI7n1hxDdmEJ/JxtEDmlO5q7cYxzIiKiuzFsEtVC7C0Z1h2Kg1oj0MXPCd892Q0udiqpyyIiIjI5DJtEBhBCYPHuy/jxogUAgaEdvPDJmE6wUlhIXRoREZFJYtgkqqESjRZv/HYaPx1KBAA882AA5g5pC7mcd5wTERFVhmGTqAbyi0swY81R7Dx3EzIZMCpAg5cjWjFoEknBygrYtevONBGZNIZNomqk5RZh6opYHL+eBZWlHJ+O7gj1lcNSl0XUeFlYAP36SV0FEdUQhzYhqkJCWh5GLd2P49ez0MRGgTXP9MKAtu5Sl0VERGQ2eGSTqBJHEzMwdeVhpOcVw9fZGiun9EAzNzuo1WqpSyNq3NRq4JtvSqeffRZQKKSth4iqxLBJpEfUmVTM/OkICtVadGjqiO8nd4ebPR9tRGQSiouBGTNKpydPZtgkMnEMm0T3+PHAVbz52yloBdCvtRsWj+8KWxV/VIiIiGqDf0GJ/iWEwEfb4rFk9yUAwNhuvnj3kfawtOClzURERLXFsEkEoLhEi1c3nMDGozcAALPCW+KFh1pCJuOjjYiIiO4HwyY1ejmFakz78Qj+vpgGC7kMCx/pgDHdfaUui4iIqEFg2KRGLTW7EJO+P4RzKTmwUVpgyYSu6NeajzYiIiKqKwZdjLZ06VJ07NgRDg4OcHBwQEhICP766y/d64WFhZg+fTpcXFxgZ2eHUaNGITU1tc6LJqoLF2/m4JHF/+BcSg5c7VRY92wIgyYREVEdMyhs+vj44P3330dcXBwOHz6M/v37Y8SIETh9+jQAYPbs2fjjjz+wfv167NmzB0lJSXj00UeNUjjR/Yi7moHHlsUgKasQzdxs8etzvdHBx1HqsoioJlQqYPPm0i8VH0lGZOoMOo3+8MMPl/v+3XffxdKlS3HgwAH4+Phg+fLlWLNmDfr37w8AiIyMRJs2bXDgwAH06tWr7qomug87z6XiudWlz9Ds7OuE7yd3h7OtUuqyiKimLC2BoUOlroKIaqjW12xqNBqsX78eeXl5CAkJQVxcHNRqNcLDw3XLBAUFwc/PDzExMZWGzaKiIhQVFem+z87OBgCo1ep6G6mlbDscGaa8htiXjUdv4LVNZ6DRCoS2dMUXj3eEjVJm0GdsiH2pK+yNfuxL5dgb/diXyrE3+tV3XwzZjkwIIQxZ+cmTJxESEoLCwkLY2dlhzZo1GDJkCNasWYMpU6aUC44A0KNHD4SFheGDDz7Qu7758+djwYIFFeavWbMGNjY2hpRGVCkhgJ1JMvyeaAEA6O6qxbjmWvARmkTmR1ZSAp89ewAA10NDISx5rytRfcvPz8f48eORlZUFBweHKpc1+Ce0devWOHbsGLKysvDLL79g0qRJ2PPvD31tzJ07F3PmzNF9n52dDV9fXwwcOLDa4uuKWq1GVFQUBgwYAAWHPdNpKH3RagU+2HYevydeBQA8/WAAXhrQEnJ57Z6h2VD6YgzsjX7sS+Vq1Zu8PCgeewwA0OGttwBbWyNWKA3uM5Vjb/Sr776UnYmuCYPDplKpRIsWLQAAwcHBiI2Nxeeff46xY8eiuLgYmZmZcHJy0i2fmpoKT0/PStenUqmg0nOBt0KhqPedSIptmgNz7ktxiRav/Hocm44lAQD+b0gbPNO3WZ2s25z7YmzsjX7sS+UM6s1dyykUigY9Njr3mcqxN/rVV18M2cZ9n0TUarUoKipCcHAwFAoFoqOjda/Fx8cjMTERISEh97sZIoPlFZXg6R8OY9OxJFjKZfh0bKc6C5pERERUMwYd2Zw7dy4GDx4MPz8/5OTkYM2aNdi9eze2bdsGR0dHTJ06FXPmzIGzszMcHBwwc+ZMhISE8E50qne3c4vw1IpYHL+eBWuFBZY+wYe1ExERScGgsHnz5k08+eSTSE5OhqOjIzp27Iht27ZhwIABAIBPP/0Ucrkco0aNQlFRESIiIrBkyRKjFE5UmWvp+Zj0/SFcTstDExsFvp/cHV38mkhdFhERUaNkUNhcvnx5la9bWVlh8eLFWLx48X0VRVRbZ5OzMen7Q7iZU4SmTtZY+VQPtHC3k7osIiKiRovPi6AG41BCOqaujEVOYQlae9hj5VM94OloJXVZREREjRrDJjUI206nYOZPR1FcokX3gCb47snucLThXYpEDZJKBfz8851pIjJpDJtk9tbFJmLuxpPQCiC8jQe+Gt8FVgoLqcsiImOxtARGj5a6CiKqIYZNMmtf77mEhX+dAwCM7eaLdx9pD0sOC0RERGQyGDbJLAkh8OG2eCzdfQkA8N/Q5nhlUGvIZLUbFYiIzEhJCfDrr6XTjzxSeqSTiEwWf0LJ7Gi0Aq9vOoWfDiUCAF4dHIT/hjaXuCoiqjdFRcCYMaXTubkMm0Qmjj+hZFaKS7SY/fMx/HkiGXIZ8N4jHfB4Dz+pyyIiIqJKMGyS2cgvLsF/fzyCvedvQWEhw+ePd8GQDl5Sl0VERERVYNgks5CVr8aUFYdwJDET1goLfPNkMPq0dJO6LCIiIqoGwyaZvJvZhXjy+0M4l5IDR+vS4SeD/Tn8JBERkTlg2CSTlng7H08sP4jE9Hy426uwampPtPa0l7osIiIiqiGGTTJZ8Sk5mLj8IG7mFMHP2QY/Tu0JPxcbqcsiIiIiAzBskkk6kpiBKZGxyCpQI8jTHj881QPuDhznnIgAKJVAZOSdaSIyaQybZHL2XbiF/6yKQ36xBl39nBA5uQfHOSeiOxQKYPJkqasgohpi2CSTsuVkMl5YexRqjUCflq74emIwbJTcTYmIiMwV/4qTyfg59hpe3XgCWgEM7eiFT8d0htKS45wT0T1KSoBt20qnIyI4ghCRieNPKJmE7/9OwFubzwAAxvXwwzsj28NCznHOiUiPoiJg2LDSaQ5XSWTy+BNKkhJCYPGui/h4+3kAwLN9m2Hu4CDIZAyaREREDQHDJklGCIEPtsZj2Z5LAIA5A1phZv8WDJpEREQNCMMmSUKrFZj/x2n8EHMVAPD60DZ4uk8ziasiIiKiusawSfWuRKPFqxtP4pe465DJgHdHdsD4nn5Sl0VERERGwLBJ9aq4RItZ645iy8kUWMhlWDSmE0Z0bip1WURERGQkDJtUbwrVGkz7MQ674m9BaSHHl+O7IKKdp9RlERERkRExbFK9yC0qwTMrDyPm8m1YKeT4ZmI39G3lJnVZRGSOlErgq6/uTBORSWPYJKPLyldjUuQhHLuWCTuVJb6f3B09Ap2lLouIzJVCAUyfLnUVRFRDDJtkVGm5RZi4/BDOJmfDyUaBH57qgY4+TlKXRURERPWEYZOMJjmrAE98dxCXbuXB1U6F1U/3RGtPe6nLIiJzp9EA+/aVTvfpA1hYSFsPEVWJYZOMIvF2PsZ/dwDXMwrg7WiF1c/0QqCrrdRlEVFDUFgIhIWVTufmArb83UJkyhg2qc5dvJmDCd8dRGp2EQJcbLD6mV5o6mQtdVlEREQkAYZNqlNnk7PxxHcHcTuvGK097LFqag+4O1hJXRYRERFJhGGT6sypG1l4YvlBZOar0b6pA1Y91RNNbPlYEiIiosaMYZPqxLFrmXhy+UFkF5ags68TVj7VA47WCqnLIiIiIokxbNJ9O3wlHZMjY5FbVILuAU3w/eTusLdi0CQiIiKGTbpPMZduY+rKWOQXaxDSzAXfTeoGWxV3KyIiIirFVEC1tu/CLTzzw2EUqrXo09IV30zsBmsln3dHREamUAAffnhnmohMGsMm1cquczfxnx/jUFyiRf8gdyyZ0BVWCgZNIqoHSiXw0ktSV0FENcSwSQbbdjoFM9YcgVojENHOA1+O6wqlpVzqsoiIiMgEMWySQTafSMILa49BoxUY1tELn47tDIUFgyYR1SONBjhypHS6a1cOV0lk4hg2qcZ+PXod//v5OLQCeLRLU3w0uhMs5DKpyyKixqawEOjRo3Saw1USmTyGTaqRn2Ov4ZWNJyAEMLabL957tAODJhEREVWLYZOqtebQNcz74ywA4IlefnhreHvIGTSJiIioBhg2qUq7k2X4NaY0aD71QCDeGNYGMhmDJhEREdUMwyZV6tu/E/DrldIL7/8b2hyvDGrNoElEREQGYdgkvZbsvogPt10AAMwMa4Y5Axk0iYiIyHAMm1TB4l0X8dG2eADAEF8Nnu/fgkGTiIiIaoVhk8r5aucFfLz9PABg9kMtEJB/TuKKiIjuoVAA8+bdmSYik8awSTpfRF/AoqjSoPlSRGs8+6A/tmxh2CQiE6NUAvPnS10FEdUQh34hAMDnO+4EzZcHtcb0sBYSV0REREQNAY9sEj6NOo/Po0tvBnplUBCm9WsucUVERFXQaoGzpY9kQ5s2gJzHTYhMGcNmIyaEwKc7LuCLf4Pm3MFB+E8ogyYRmbiCAqB9+9JpDldJZPIYNhspIQQ+jTqPL3ZeBAC8NiQIz/Zl0CQiIqK6ZdC5h4ULF6J79+6wt7eHu7s7Ro4cifj4+HLLFBYWYvr06XBxcYGdnR1GjRqF1NTUOi2a7o8QAovuCpqvD23DoElERERGYVDY3LNnD6ZPn44DBw4gKioKarUaAwcORF5enm6Z2bNn448//sD69euxZ88eJCUl4dFHH63zwql2hBD4eHs8vrwraD7dp5nEVREREVFDZdBp9K1bt5b7fsWKFXB3d0dcXBz69u2LrKwsLF++HGvWrEH//v0BAJGRkWjTpg0OHDiAXr161V3lZDAhBD7aFo8luy8BAN4Y1hZTHwyUuCoiIiJqyO7rms2srCwAgLOzMwAgLi4OarUa4eHhumWCgoLg5+eHmJgYvWGzqKgIRUVFuu+zs7MBAGq1Gmq1+n7Kq7Gy7dTX9qQghMDHURfwzb4rAIDXh7TGkz19qvzMjaEvtcG+VI690Y99qVyteqNWQ6GbVAMNsK/cZyrH3uhX330xZDsyIYSozUa0Wi2GDx+OzMxM/P333wCANWvWYMqUKeXCIwD06NEDYWFh+OCDDyqsZ/78+ViwYEGF+WvWrIGNjU1tSqN7CAH8kShHdFLpVROjAjTo61Wrf3YiIslZFBZi2OOPAwA2r10LjZWVxBURNT75+fkYP348srKy4ODgUOWytT6yOX36dJw6dUoXNGtr7ty5mDNnju777Oxs+Pr6YuDAgdUWX1fUajWioqIwYMAAKBrY0GdCCHy4/QKik64AAOYNC8ITPf1q9N6G3Jf7wb5Ujr3Rj32pXK16U1wMzb9/NyKGDSsdUaiB4T5TOfZGv/ruS9mZ6JqoVdicMWMGNm/ejL1798LHx0c339PTE8XFxcjMzISTk5NufmpqKjw9PfWuS6VSQaVSVZivUCjqfSeSYpvGJITAB1vj8d3fVwAAb49oh4khAQavp6H1pa6wL5Vjb/RjXypnUG8UCuCTTwAAFkasyRRwn6kce6NfffXFkG0YdDe6EAIzZszAr7/+ip07dyIwsPzNJcHBwVAoFIiOjtbNi4+PR2JiIkJCQgzZFN0nIQQ+2X4ey/aU3gxU26BJREREdD8MOrI5ffp0rFmzBr/99hvs7e2RkpICAHB0dIS1tTUcHR0xdepUzJkzB87OznBwcMDMmTMREhLCO9Hr2efRF/DVrtLHG817uC2DJhE1HFotkJhYOu3nx+EqiUycQWFz6dKlAIB+/fqVmx8ZGYnJkycDAD799FPI5XKMGjUKRUVFiIiIwJIlS+qkWKqZL6Mv4LMdpUNQvj60DaY8wMcbEVEDUlAAlJ1Z43CVRCbPoLBZkxvXrayssHjxYixevLjWRVHtLdl9EZ9EnQdQOtY5H9hOREREUuK5hwbkm72X8OHW0uFDX4pojf+EcghKIiIikhbDZgOx/O8EvLflHABgzoBWmB7WQuKKiIiIiBg2G4SV+6/g7c1nAADPP9QSzz/UUuKKiIiIiEoxbJq5VQeuYt7vpwEA08OaY3Y4gyYRERGZDoZNM/bToUS8sekUAOA/oc3w4sDWkMlkEldFREREdEeth6skaf0cew1zN54EADz9YCBeHRTEoElEjYOlJfDcc3emicik8afUDG2Iu45XNp4AAEzuHYD/G9qGQZOIGg+VCuDj9YjMBk+jm5lNR2/gxV+OQwhgYi9/zHu4LYMmERERmSwe2TQjfxxPwpyfj0EIYFwPPywY3o5Bk4gaHyGAtLTSaVdXgL8HiUwaw6aZ2HoqBbPWHYNWAGO6+eDdke0hl/MXLBE1Qvn5gLt76TSHqyQyeTyNbgZ2nbuJmT8dgUYr8GjXpnj/0Y4MmkRERGQWGDZN3D8X0/CfH+Og1ggM6+iFjx7rxKBJREREZoNh04TFXknH0ysPo7hEiwFtPfDp2M6wYNAkIiIiM8KwaaKOXcvElMhYFKg16NvKDV+N7wKFBf+5iIiIyLwwvZig00lZeHL5QeQWlaBXM2d8/UQwVJYWUpdFREREZDCGTRNzITUHE5cfQnZhCYL9m2D5pO6wVjJoEhERkXnio49MSEJaHsZ/dxDpecXo0NQRkVO6w1bFfyIionIsLYFJk+5ME5FJ40+pibiWno8J3x7ArZwiBHna44enesDBSiF1WUREpkelAlaskLoKIqohnkY3ASlZhZjw3UEkZRWiuZstfny6J5rYKqUui4iIiOi+8cimxG7lFGH8dweQmJ4PP2cbrH66F1ztVFKXRURkuoQoHUUIAGxsOFwlkYnjkU0JZeQVY+Lyg7h8Kw/ejlZY80xPeDpaSV0WEZFpy88H7OxKv8pCJxGZLIZNiWQVqDHx+4M4l5IDd3sV1jzTCz5NbKQui4iIiKhOMWxKILeoBFMiD+HUjWy42Cqx5pmeCHC1lbosIiIiojrHsFnPCoo1eHplLI4kZsLRWoFVU3uihbu91GURERERGQXDZj0qLtFi2uo4HLicDnuVJX54qgfaejtIXRYRERGR0TBs1hONVmD2umPYHX8LVgo5vp/SHZ18naQui4iIiMioGDbrgVYrMHfjCfx5MhkKCxm+ntgN3QOcpS6LiIiIyOj4nE0jE0Lg7T/P4OfD1yGXAV+O64LQVm5Sl0VEZL4sLIDHHrszTUQmjWHTyD7dcQGR/1wBAHz4WCcMau8lbUFERObOygpYv17qKoiohnga3Yi+3XsZX0RfAAAsGN4OjwX7SFwRERERUf1i2DSSnw4l4t0tZwEAL0W0xqTeAdIWRERERCQBhk0j+P14El779SQA4L+hzfFcv+YSV0RE1IDk5ZWOhy6TlU4TkUlj2Kxj0WdTMWfdMQgBPNHLD68Mag2ZTCZ1WURERESSYNisQ/svpWHa6iMo0QqM7OyNt4a3Z9AkIiKiRo1hs44cTczA0ysPo7hEiwFtPfDR6E6Qyxk0iYiIqHFj2KwDZ5OzMTkyFvnFGjzQwgVfjusChQVbS0RERMREdJ8S0vIwcfkhZBWo0dXPCd9M7AYrBR8yTERERAQwbN6XG5kFeOK7g0jLLUIbLwdETukBWxWfk09ERERUhsmoltJyizDxu4O4kVmAZm62WDW1BxytFVKXRUTU8FlYAEOG3JkmIpPGsFkL2YVqPLn8EC6n5aGpkzV+nNoTrnYqqcsiImocrKyAP/+UugoiqiGeRjdQoVqDp1ccxpnkbLjaKfHj0z3h7WQtdVlEREREJolh0wBqjRYz1hzBoSvpsFdZYsWUHgh0tZW6LCIiIiKTxbBZQ1qtwCu/nMCOszehspRj+eTuaN/UUeqyiIgan7w8wNa29IvDVRKZPF6zWQNCCLz95xlsPHoDFnIZlkzoih6BzlKXRUTUeOXnS10BEdUQj2zWwFc7LyLynysAgI9Hd8RDbTykLYiIiIjITDBsVmPVgav4JOo8AGDew23xSBcfiSsiIiIiMh8Mm1X4/XgS3vztFADg+YdaYsoDgRJXRERERGReGDYrsTv+JuasOwYhgCdD/DE7vKXUJRERERGZHYZNPeKupuO/P8ahRCswvJM35j/cDjKZTOqyiIiIiMwO70a/x7mUbEyJjEWhWot+rd3w8ehOkMsZNImITIZcDoSG3pkmIpNm8E/p3r178fDDD8Pb2xsymQybNm0q97oQAm+++Sa8vLxgbW2N8PBwXLhwoa7qNarE9HxMXH4I2YUlCPZvgqUTgqG05C8yIiKTYm0N7N5d+mXNEdyITJ3BSSovLw+dOnXC4sWL9b7+4Ycf4osvvsCyZctw8OBB2NraIiIiAoWFhfddrDFlFwOTV8ThVk4Rgjzt8f2k7rBWWkhdFhEREZFZM/g0+uDBgzF48GC9rwkh8Nlnn+H111/HiBEjAAA//PADPDw8sGnTJjz++OP3V62RZBeosfSsBZLyC+DnbIMfnuoBRxuF1GURERERmb06vWYzISEBKSkpCA8P181zdHREz549ERMTY5Jhs6BYg2d/PIqkfBnc7JT4cWpPuDtYSV0WERFVJi8PCAgonb5ypXTYyrsJYf4jDKnVsCgsLP2sCh78KIe90a+++2LAULF1GjZTUlIAAB4e5UfY8fDw0L12r6KiIhQVFem+z87OBgCo1Wqo1eq6LE+vF38+gbjETFhbCHw7oRO8HBT1sl1zUNYH9qM89qVy7I1+7EvlatUbtRqKtLQ777v3vXl5UDRpUlclSkIBYJjURZgo9kY/U+6L5HejL1y4EAsWLKgwf/v27bCxsTH69tvIgBiVBZ5sqcHVEzG4esLomzQ7UVFRUpdgktiXyrE3+rEvlTOkNxaFhbo/qtu2bYPGyqrS14lIenUaNj09PQEAqamp8PLy0s1PTU1F586d9b5n7ty5mDNnju777Oxs+Pr6YuDAgXBwcKjL8ir1RGER9uyMxoABA6DgIXkdtVqNqKgo9uUe7Evl2Bv92JfK1ao3d52+i4iI0HsaXZ2RUYdV1j+1Wo2dO3eif//+3Gfuwd7oV999UWdnA/7+NVq2TsNmYGAgPD09ER0drQuX2dnZOHjwIKZNm6b3PSqVCiqVqsJ8hUJRbztR2a+p+tymOWFf9GNfKsfe6Me+VM6g3ty1nEKh0H99mlJZR5VJRK2GxsoKCicn7jP3Ym/0q+e+KAx4xq3BYTM3NxcXL17UfZ+QkIBjx47B2dkZfn5+mDVrFt555x20bNkSgYGBeOONN+Dt7Y2RI0cauikiIiIiMnMGh83Dhw8jLCxM933ZKfBJkyZhxYoVePnll5GXl4dnn30WmZmZePDBB7F161ZYWfEObyIiIqLGxuCw2a9fPwghKn1dJpPhrbfewltvvXVfhREREekllwPdut2ZJiKTJvnd6ERERAaxtgZiY6WugohqiP8lJCIiIiKjYdgkIiIiIqNh2CQiIvOSn186XGVAgPkPS0nUCPCaTSIiMi9CAFev3pkmIpPGI5tEREREZDQMm0RERERkNAybRERERGQ0DJtEREREZDQMm0RERERkNLwbnYiIzItMBrRte2eaiEwawyYREZkXGxvg9GmpqyCiGuJpdCIiIiIyGoZNIiIiIjIahk0iIjIv+flAu3alXxyuksjk8ZpNIiIyL0IAZ87cmSYik8Yjm0RERERkNAybRERERGQ0DJtEREREZDQMm0RERERkNAybRERERGQ0vBudiIjMi0wG+PvfmSYik8awSURE5sXGBrhyReoqiKiGeBqdiIiIiIyGYZOIiIiIjIZhk4iIzEtBAdC9e+lXQYHU1RBRNXjNJhERmRetFjh8+M40EZk0HtkkIiIiIqNh2CQiIiIio2HYJCIiIiKjYdgkIiIiIqNh2CQiIiIio+Hd6EREZH5cXaWugIhqiGGTiIjMi60tcOuW1FUQUQ3xNDoRERERGQ3DJhEREREZDcMmERGZl4ICoF+/0i8OV0lk8njNJhERmRetFtiz5840EZk0HtkkIiIiIqNh2CQiIiIio2HYJCIiIiKjYdgkIiIiIqNh2CQiIiIio+Hd6EREZH5sbKSugIhqiGGTiIjMi60tkJcndRVEVEM8jU5ERERERsOwSURERERGw7BJRETmpbAQGDq09KuwUOpqiKgavGaTiIjMi0YDbNlyZ5qITBqPbBIRERGR0TBsEhEREZHRGC1sLl68GAEBAbCyskLPnj1x6NAhY22KiIiIiEyUUcLmunXrMGfOHMybNw9HjhxBp06dEBERgZs3bxpjc0RERERkoowSNhctWoRnnnkGU6ZMQdu2bbFs2TLY2Njg+++/N8bmiIiIiMhE1fnd6MXFxYiLi8PcuXN18+RyOcLDwxETE1Nh+aKiIhQVFem+z8rKAgCkp6dDrVbXdXl6qdVq5Ofn4/bt21AoFPWyTXPAvujHvlSOvdGPfalcrXqTl4eyJdW3bzfIxx9xn6kce6NfffclJycHACCEqHbZOg+baWlp0Gg08PDwKDffw8MD586dq7D8woULsWDBggrzAwMD67o0IiJqaPz9pa6AqFHLycmBo6NjlctI/pzNuXPnYs6cObrvtVot0tPT4eLiAplMVi81ZGdnw9fXF9euXYODg0O9bNMcsC/6sS+VY2/0Y18qx97ox75Ujr3Rr777IoRATk4OvL29q122zsOmq6srLCwskJqaWm5+amoqPD09KyyvUqmgUqnKzXNycqrrsmrEwcGBO64e7It+7Evl2Bv92JfKsTf6sS+VY2/0q8++VHdEs0yd3yCkVCoRHByM6Oho3TytVovo6GiEhITU9eaIiIiIyIQZ5TT6nDlzMGnSJHTr1g09evTAZ599hry8PEyZMsUYmyMiIiIiE2WUsDl27FjcunULb775JlJSUtC5c2ds3bq1wk1DpkKlUmHevHkVTuc3duyLfuxL5dgb/diXyrE3+rEvlWNv9DPlvshETe5ZJyIiIiKqBY6NTkRERERGw7BJREREREbDsElERERERsOwSURERERG0yjC5uLFixEQEAArKyv07NkThw4dqnL59evXIygoCFZWVujQoQO2bNlST5XWn4ULF6J79+6wt7eHu7s7Ro4cifj4+Crfs2LFCshksnJfVlZW9VRx/Zk/f36FzxkUFFTlexrDPhMQEFChLzKZDNOnT9e7fEPeX/bu3YuHH34Y3t7ekMlk2LRpU7nXhRB488034eXlBWtra4SHh+PChQvVrtfQ31Wmpqq+qNVqvPLKK+jQoQNsbW3h7e2NJ598EklJSVWuszY/j6amuv1l8uTJFT7joEGDql2vue8vQPW90fc7RyaT4aOPPqp0nQ1hn6nJ3+jCwkJMnz4dLi4usLOzw6hRoyoMqHOv2v5uul8NPmyuW7cOc+bMwbx583DkyBF06tQJERERuHnzpt7l9+/fj3HjxmHq1Kk4evQoRo4ciZEjR+LUqVP1XLlx7dmzB9OnT8eBAwcQFRUFtVqNgQMHIi8vr8r3OTg4IDk5Wfd19erVeqq4frVr167c5/z7778rXbax7DOxsbHlehIVFQUAGD16dKXvaaj7S15eHjp16oTFixfrff3DDz/EF198gWXLluHgwYOwtbVFREQECgsLK12nob+rTFFVfcnPz8eRI0fwxhtv4MiRI9i4cSPi4+MxfPjwatdryM+jKapufwGAQYMGlfuMP/30U5XrbAj7C1B9b+7uSXJyMr7//nvIZDKMGjWqyvWa+z5Tk7/Rs2fPxh9//IH169djz549SEpKwqOPPlrlemvzu6lOiAauR48eYvr06brvNRqN8Pb2FgsXLtS7/JgxY8TQoUPLzevZs6f4z3/+Y9Q6pXbz5k0BQOzZs6fSZSIjI4Wjo2P9FSWRefPmiU6dOtV4+ca6z7zwwguiefPmQqvV6n29sewvAMSvv/6q+16r1QpPT0/x0Ucf6eZlZmYKlUolfvrpp0rXY+jvKlN3b1/0OXTokAAgrl69Wukyhv48mjp9fZk0aZIYMWKEQetpaPuLEDXbZ0aMGCH69+9f5TINbZ8RouLf6MzMTKFQKMT69et1y5w9e1YAEDExMXrXUdvfTXWhQR/ZLC4uRlxcHMLDw3Xz5HI5wsPDERMTo/c9MTEx5ZYHgIiIiEqXbyiysrIAAM7OzlUul5ubC39/f/j6+mLEiBE4ffp0fZRX7y5cuABvb280a9YMEyZMQGJiYqXLNsZ9pri4GD/++COeeuopyGSySpdrLPvL3RISEpCSklJun3B0dETPnj0r3Sdq87uqIcjKyoJMJoOTk1OVyxny82iudu/eDXd3d7Ru3RrTpk3D7du3K122se4vqamp+PPPPzF16tRql21o+8y9f6Pj4uKgVqvL7QNBQUHw8/OrdB+oze+mutKgw2ZaWho0Gk2FkYs8PDyQkpKi9z0pKSkGLd8QaLVazJo1Cw888ADat29f6XKtW7fG999/j99++w0//vgjtFotevfujevXr9djtcbXs2dPrFixAlu3bsXSpUuRkJCAPn36ICcnR+/yjXGf2bRpEzIzMzF58uRKl2ks+8u9yv7dDdknavO7ytwVFhbilVdewbhx4+Dg4FDpcob+PJqjQYMG4YcffkB0dDQ++OAD7NmzB4MHD4ZGo9G7fGPcXwBg5cqVsLe3r/ZUcUPbZ/T9jU5JSYFSqazwH7Xq8k3ZMjV9T10xynCVZF6mT5+OU6dOVXtNS0hICEJCQnTf9+7dG23atMHXX3+Nt99+29hl1pvBgwfrpjt27IiePXvC398fP//8c43+R90YLF++HIMHD4a3t3elyzSW/YUMp1arMWbMGAghsHTp0iqXbQw/j48//rhuukOHDujYsSOaN2+O3bt346GHHpKwMtPy/fffY8KECdXeaNjQ9pma/o02ZQ36yKarqyssLCwq3J2VmpoKT09Pve/x9PQ0aHlzN2PGDGzevBm7du2Cj4+PQe9VKBTo0qULLl68aKTqTIOTkxNatWpV6edsbPvM1atXsWPHDjz99NMGva+x7C9l/+6G7BO1+V1lrsqC5tWrVxEVFVXlUU19qvt5bAiaNWsGV1fXSj9jY9pfyuzbtw/x8fEG/94BzHufqexvtKenJ4qLi5GZmVlu+eryTdkyNX1PXWnQYVOpVCI4OBjR0dG6eVqtFtHR0eWOuNwtJCSk3PIAEBUVVeny5koIgRkzZuDXX3/Fzp07ERgYaPA6NBoNTp48CS8vLyNUaDpyc3Nx6dKlSj9nY9lnykRGRsLd3R1Dhw416H2NZX8JDAyEp6dnuX0iOzsbBw8erHSfqM3vKnNUFjQvXLiAHTt2wMXFxeB1VPfz2BBcv34dt2/frvQzNpb95W7Lly9HcHAwOnXqZPB7zXGfqe5vdHBwMBQKRbl9ID4+HomJiZXuA7X53VRnjHr7kQlYu3atUKlUYsWKFeLMmTPi2WefFU5OTiIlJUUIIcTEiRPFq6++qlv+n3/+EZaWluLjjz8WZ8+eFfPmzRMKhUKcPHlSqo9gFNOmTROOjo5i9+7dIjk5WfeVn5+vW+be3ixYsEBs27ZNXLp0ScTFxYnHH39cWFlZidOnT0vxEYzmf//7n9i9e7dISEgQ//zzjwgPDxeurq7i5s2bQojGu88IUXrHq5+fn3jllVcqvNaY9pecnBxx9OhRcfToUQFALFq0SBw9elR3V/X7778vnJycxG+//SZOnDghRowYIQIDA0VBQYFuHf379xdffvml7vvqfleZg6r6UlxcLIYPHy58fHzEsWPHyv3eKSoq0q3j3r5U9/NoDqrqS05OjnjxxRdFTEyMSEhIEDt27BBdu3YVLVu2FIWFhbp1NMT9RYjqf5aEECIrK0vY2NiIpUuX6l1HQ9xnavI3+r///a/w8/MTO3fuFIcPHxYhISEiJCSk3Hpat24tNm7cqPu+Jr+bjKHBh00hhPjyyy+Fn5+fUCqVokePHuLAgQO610JDQ8WkSZPKLf/zzz+LVq1aCaVSKdq1ayf+/PPPeq7Y+ADo/YqMjNQtc29vZs2apeujh4eHGDJkiDhy5Ej9F29kY8eOFV5eXkKpVIqmTZuKsWPHiosXL+peb6z7jBBCbNu2TQAQ8fHxFV5rTPvLrl279P78lH1+rVYr3njjDeHh4SFUKpV46KGHKvTM399fzJs3r9y8qn5XmYOq+pKQkFDp751du3bp1nFvX6r7eTQHVfUlPz9fDBw4ULi5uQmFQiH8/f3FM888UyE0NsT9RYjqf5aEEOLrr78W1tbWIjMzU+86GuI+U5O/0QUFBeK5554TTZo0ETY2NuKRRx4RycnJFdZz93tq8rvJGGT/FkNEREREVOca9DWbRERERCQthk0iIiIiMhqGTSIiIiIyGoZNIiIiIjIahk0iIiIiMhqGTSIiIiIyGoZNIiIiIjIahk0iIiIiMhqGTSIiIiIyGoZNIiIiIjIahk0iIiIiMhqGTSIiIiIymv8Hz3DDUOm1WlkAAAAASUVORK5CYII=\n"
                },
                "metadata": {}
              }
            ]
          }
        },
        "025db9703e3b402298dca54ce56333c6": {
          "model_module": "@jupyter-widgets/base",
          "model_name": "LayoutModel",
          "model_module_version": "1.2.0",
          "state": {
            "_model_module": "@jupyter-widgets/base",
            "_model_module_version": "1.2.0",
            "_model_name": "LayoutModel",
            "_view_count": null,
            "_view_module": "@jupyter-widgets/base",
            "_view_module_version": "1.2.0",
            "_view_name": "LayoutView",
            "align_content": null,
            "align_items": null,
            "align_self": null,
            "border": null,
            "bottom": null,
            "display": null,
            "flex": null,
            "flex_flow": null,
            "grid_area": null,
            "grid_auto_columns": null,
            "grid_auto_flow": null,
            "grid_auto_rows": null,
            "grid_column": null,
            "grid_gap": null,
            "grid_row": null,
            "grid_template_areas": null,
            "grid_template_columns": null,
            "grid_template_rows": null,
            "height": null,
            "justify_content": null,
            "justify_items": null,
            "left": null,
            "margin": null,
            "max_height": null,
            "max_width": null,
            "min_height": null,
            "min_width": null,
            "object_fit": null,
            "object_position": null,
            "order": null,
            "overflow": null,
            "overflow_x": null,
            "overflow_y": null,
            "padding": null,
            "right": null,
            "top": null,
            "visibility": null,
            "width": null
          }
        },
        "f6db57d448ee48d880b5fa14bcf95390": {
          "model_module": "@jupyter-widgets/base",
          "model_name": "LayoutModel",
          "model_module_version": "1.2.0",
          "state": {
            "_model_module": "@jupyter-widgets/base",
            "_model_module_version": "1.2.0",
            "_model_name": "LayoutModel",
            "_view_count": null,
            "_view_module": "@jupyter-widgets/base",
            "_view_module_version": "1.2.0",
            "_view_name": "LayoutView",
            "align_content": null,
            "align_items": null,
            "align_self": null,
            "border": null,
            "bottom": null,
            "display": null,
            "flex": null,
            "flex_flow": null,
            "grid_area": null,
            "grid_auto_columns": null,
            "grid_auto_flow": null,
            "grid_auto_rows": null,
            "grid_column": null,
            "grid_gap": null,
            "grid_row": null,
            "grid_template_areas": null,
            "grid_template_columns": null,
            "grid_template_rows": null,
            "height": null,
            "justify_content": null,
            "justify_items": null,
            "left": null,
            "margin": null,
            "max_height": null,
            "max_width": null,
            "min_height": null,
            "min_width": null,
            "object_fit": null,
            "object_position": null,
            "order": null,
            "overflow": null,
            "overflow_x": null,
            "overflow_y": null,
            "padding": null,
            "right": null,
            "top": null,
            "visibility": null,
            "width": null
          }
        },
        "8b3717b8e78e4c30b6f50d09f7466af7": {
          "model_module": "@jupyter-widgets/controls",
          "model_name": "SliderStyleModel",
          "model_module_version": "1.5.0",
          "state": {
            "_model_module": "@jupyter-widgets/controls",
            "_model_module_version": "1.5.0",
            "_model_name": "SliderStyleModel",
            "_view_count": null,
            "_view_module": "@jupyter-widgets/base",
            "_view_module_version": "1.2.0",
            "_view_name": "StyleView",
            "description_width": "",
            "handle_color": null
          }
        },
        "caa56edb67d14306899a988b4cba990e": {
          "model_module": "@jupyter-widgets/base",
          "model_name": "LayoutModel",
          "model_module_version": "1.2.0",
          "state": {
            "_model_module": "@jupyter-widgets/base",
            "_model_module_version": "1.2.0",
            "_model_name": "LayoutModel",
            "_view_count": null,
            "_view_module": "@jupyter-widgets/base",
            "_view_module_version": "1.2.0",
            "_view_name": "LayoutView",
            "align_content": null,
            "align_items": null,
            "align_self": null,
            "border": null,
            "bottom": null,
            "display": null,
            "flex": null,
            "flex_flow": null,
            "grid_area": null,
            "grid_auto_columns": null,
            "grid_auto_flow": null,
            "grid_auto_rows": null,
            "grid_column": null,
            "grid_gap": null,
            "grid_row": null,
            "grid_template_areas": null,
            "grid_template_columns": null,
            "grid_template_rows": null,
            "height": null,
            "justify_content": null,
            "justify_items": null,
            "left": null,
            "margin": null,
            "max_height": null,
            "max_width": null,
            "min_height": null,
            "min_width": null,
            "object_fit": null,
            "object_position": null,
            "order": null,
            "overflow": null,
            "overflow_x": null,
            "overflow_y": null,
            "padding": null,
            "right": null,
            "top": null,
            "visibility": null,
            "width": null
          }
        },
        "29a6fe3cb12041558e1ee4dbf380bd42": {
          "model_module": "@jupyter-widgets/controls",
          "model_name": "SliderStyleModel",
          "model_module_version": "1.5.0",
          "state": {
            "_model_module": "@jupyter-widgets/controls",
            "_model_module_version": "1.5.0",
            "_model_name": "SliderStyleModel",
            "_view_count": null,
            "_view_module": "@jupyter-widgets/base",
            "_view_module_version": "1.2.0",
            "_view_name": "StyleView",
            "description_width": "",
            "handle_color": null
          }
        },
        "98ff4fcdf9544ee9af54de9dfad5fad9": {
          "model_module": "@jupyter-widgets/base",
          "model_name": "LayoutModel",
          "model_module_version": "1.2.0",
          "state": {
            "_model_module": "@jupyter-widgets/base",
            "_model_module_version": "1.2.0",
            "_model_name": "LayoutModel",
            "_view_count": null,
            "_view_module": "@jupyter-widgets/base",
            "_view_module_version": "1.2.0",
            "_view_name": "LayoutView",
            "align_content": null,
            "align_items": null,
            "align_self": null,
            "border": null,
            "bottom": null,
            "display": null,
            "flex": null,
            "flex_flow": null,
            "grid_area": null,
            "grid_auto_columns": null,
            "grid_auto_flow": null,
            "grid_auto_rows": null,
            "grid_column": null,
            "grid_gap": null,
            "grid_row": null,
            "grid_template_areas": null,
            "grid_template_columns": null,
            "grid_template_rows": null,
            "height": null,
            "justify_content": null,
            "justify_items": null,
            "left": null,
            "margin": null,
            "max_height": null,
            "max_width": null,
            "min_height": null,
            "min_width": null,
            "object_fit": null,
            "object_position": null,
            "order": null,
            "overflow": null,
            "overflow_x": null,
            "overflow_y": null,
            "padding": null,
            "right": null,
            "top": null,
            "visibility": null,
            "width": null
          }
        },
        "fae6615e2ecc43e5870a7de6994372c4": {
          "model_module": "@jupyter-widgets/controls",
          "model_name": "SliderStyleModel",
          "model_module_version": "1.5.0",
          "state": {
            "_model_module": "@jupyter-widgets/controls",
            "_model_module_version": "1.5.0",
            "_model_name": "SliderStyleModel",
            "_view_count": null,
            "_view_module": "@jupyter-widgets/base",
            "_view_module_version": "1.2.0",
            "_view_name": "StyleView",
            "description_width": "",
            "handle_color": null
          }
        },
        "74f671ea51e34517a9150a986f869510": {
          "model_module": "@jupyter-widgets/base",
          "model_name": "LayoutModel",
          "model_module_version": "1.2.0",
          "state": {
            "_model_module": "@jupyter-widgets/base",
            "_model_module_version": "1.2.0",
            "_model_name": "LayoutModel",
            "_view_count": null,
            "_view_module": "@jupyter-widgets/base",
            "_view_module_version": "1.2.0",
            "_view_name": "LayoutView",
            "align_content": null,
            "align_items": null,
            "align_self": null,
            "border": null,
            "bottom": null,
            "display": null,
            "flex": null,
            "flex_flow": null,
            "grid_area": null,
            "grid_auto_columns": null,
            "grid_auto_flow": null,
            "grid_auto_rows": null,
            "grid_column": null,
            "grid_gap": null,
            "grid_row": null,
            "grid_template_areas": null,
            "grid_template_columns": null,
            "grid_template_rows": null,
            "height": null,
            "justify_content": null,
            "justify_items": null,
            "left": null,
            "margin": null,
            "max_height": null,
            "max_width": null,
            "min_height": null,
            "min_width": null,
            "object_fit": null,
            "object_position": null,
            "order": null,
            "overflow": null,
            "overflow_x": null,
            "overflow_y": null,
            "padding": null,
            "right": null,
            "top": null,
            "visibility": null,
            "width": null
          }
        }
      }
    }
  },
  "nbformat": 4,
  "nbformat_minor": 0
}