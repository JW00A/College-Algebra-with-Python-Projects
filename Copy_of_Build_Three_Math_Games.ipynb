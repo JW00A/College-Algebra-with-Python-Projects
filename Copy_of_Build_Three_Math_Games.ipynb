{
  "cells": [
    {
      "cell_type": "code",
      "execution_count": null,
      "metadata": {
        "id": "CjqRErqub_ln"
      },
      "outputs": [],
      "source": [
        "import matplotlib.pyplot as plt\n",
        "import numpy as np\n",
        "import random\n",
        "import time\n",
        "from ipywidgets import interactive\n",
        "from IPython.display import display\n",
        "\n",
        "def scatter_plot_game(num_points=5, difficulty=1):\n",
        "    size = 5 * difficulty\n",
        "    points = [(random.randint(-size, size), random.randint(-size, size)) for _ in range(num_points)]\n",
        "\n",
        "    x_vals, y_vals = zip(*points)\n",
        "    fig, ax = plt.subplots(figsize=(6, 6))\n",
        "    ax.scatter(x_vals, y_vals, color='red')\n",
        "    ax.grid(True)\n",
        "    ax.set_title(\"Guess the Coordinates!\")\n",
        "    ax.set_xlim(-size, size)\n",
        "    ax.set_ylim(-size, size)\n",
        "\n",
        "    plt.pause(0.001)\n",
        "\n",
        "    print(\"\\nNow enter your guesses for each red point:\")\n",
        "    score = 0\n",
        "    for i, (x, y) in enumerate(points):\n",
        "        try:\n",
        "            guess = input(f\"Point {i+1}: Enter coordinates as x,y → \")\n",
        "            gx, gy = map(int, guess.split(','))\n",
        "            if gx == x and gy == y:\n",
        "                print(\"Correct!\")\n",
        "                score += 1\n",
        "            else:\n",
        "                print(f\"Incorrect. Actual: ({x}, {y})\")\n",
        "        except Exception:\n",
        "            print(\"Invalid format. Use x,y\")\n",
        "\n",
        "    print(f\"\\nFinal Score: {score}/{num_points}\")"
      ]
    },
    {
      "cell_type": "code",
      "execution_count": null,
      "metadata": {
        "id": "DXAbzv8ocM19"
      },
      "outputs": [],
      "source": [
        "def algebra_game(num_questions=5, difficulty=1):\n",
        "    score = 0\n",
        "    for _ in range(num_questions):\n",
        "        step_type = random.choice(['one', 'two'])\n",
        "        a = random.randint(-10 * difficulty, 10 * difficulty)\n",
        "        b = random.randint(-10 * difficulty, 10 * difficulty)\n",
        "        x = random.randint(-10 * difficulty, 10 * difficulty)\n",
        "\n",
        "        if step_type == 'one':\n",
        "            result = a * x\n",
        "            print(f\"Solve: {a}x = {result}\")\n",
        "            guess = input(\"x = \")\n",
        "            if guess.strip() == str(x):\n",
        "                print(\"Correct!\")\n",
        "                score += 1\n",
        "            else:\n",
        "                print(f\"Incorrect. x = {x}\")\n",
        "        else:\n",
        "            result = a * x + b\n",
        "            print(f\"Solve: {a}x + {b} = {result}\")\n",
        "            guess = input(\"x = \")\n",
        "            if guess.strip() == str(x):\n",
        "                print(\"Correct!\")\n",
        "                score += 1\n",
        "            else:\n",
        "                print(f\"Incorrect. x = {x}\")\n",
        "    print(f\"Final Score: {score}/{num_questions}\")"
      ]
    },
    {
      "cell_type": "code",
      "execution_count": null,
      "metadata": {
        "id": "Sv6kFO0HcSxV"
      },
      "outputs": [],
      "source": [
        "def projectile_game_level1():\n",
        "    wall_x = random.randint(5, 15)\n",
        "    wall_h = random.randint(5, 20)\n",
        "\n",
        "    def plot_path(a, b, c):\n",
        "        x = np.linspace(0, 20, 400)\n",
        "        y = a * x**2 + b * x + c\n",
        "\n",
        "        plt.figure(figsize=(8, 6))\n",
        "        plt.plot(x, y, label=\"Projectile Path\")\n",
        "        plt.axvline(wall_x, color='red', linestyle='--', label=\"Wall\")\n",
        "        plt.axhline(wall_h, xmin=wall_x/20, xmax=1, color='red')\n",
        "        plt.ylim(0, max(y)+5)\n",
        "        plt.title(\"Adjust a, b, c to clear the wall\")\n",
        "        plt.grid(True)\n",
        "        plt.legend()\n",
        "        plt.show()\n",
        "\n",
        "    print(f\"Wall at x = {wall_x}, height = {wall_h}\")\n",
        "    display(interactive(plot_path, a=(-1, 0, 0.1), b=(0, 10, 0.5), c=(0, 10, 0.5)))"
      ]
    },
    {
      "cell_type": "code",
      "execution_count": null,
      "metadata": {
        "id": "Xh-iXxi5caNU"
      },
      "outputs": [],
      "source": [
        "def projectile_game_level2():\n",
        "    wall_x = random.randint(5, 15)\n",
        "    wall_h = random.randint(5, 20)\n",
        "    print(f\"Wall at x = {wall_x}, height = {wall_h}\")\n",
        "\n",
        "    try:\n",
        "        a = float(input(\"Enter a: \"))\n",
        "        b = float(input(\"Enter b: \"))\n",
        "        c = float(input(\"Enter c: \"))\n",
        "        x = np.linspace(0, 20, 400)\n",
        "        y = a * x**2 + b * x + c\n",
        "\n",
        "        plt.figure(figsize=(8, 6))\n",
        "        plt.plot(x, y, label=\"Projectile Path\")\n",
        "        plt.axvline(wall_x, color='red', linestyle='--', label=\"Wall\")\n",
        "        plt.axhline(wall_h, xmin=wall_x/20, xmax=1, color='red')\n",
        "        plt.ylim(0, max(y)+5)\n",
        "        plt.title(\"Manual Entry: a, b, c\")\n",
        "        plt.grid(True)\n",
        "        plt.legend()\n",
        "        plt.show()\n",
        "\n",
        "        y_at_wall = a * wall_x**2 + b * wall_x + c\n",
        "        if y_at_wall > wall_h:\n",
        "            print(\"Success! You cleared the wall.\")\n",
        "        else:\n",
        "            print(f\"Missed. Height at wall = {y_at_wall:.2f}\")\n",
        "    except:\n",
        "        print(\"Invalid input.\")"
      ]
    },
    {
      "cell_type": "code",
      "execution_count": null,
      "metadata": {
        "colab": {
          "base_uri": "https://localhost:8080/",
          "height": 788
        },
        "id": "NK3q6UlncgwH",
        "outputId": "115a9e86-15ff-4a87-b38b-3609db4b1f38"
      },
      "outputs": [
        {
          "data": {
            "image/png": "[encoded data removed]",
            "text/plain": [
              "<Figure size 600x600 with 1 Axes>"
            ]
          },
          "metadata": {},
          "output_type": "display_data"
        },
        {
          "name": "stdout",
          "output_type": "stream",
          "text": [
            "\n",
            "Now enter your guesses for each red point:\n",
            "Point 1: Enter coordinates as x,y → 2,-4\n",
            "Incorrect. Actual: (-3, -3)\n",
            "Point 2: Enter coordinates as x,y → -1, 1\n",
            "Incorrect. Actual: (2, -2)\n",
            "Point 3: Enter coordinates as x,y → 2, -3\n",
            "Correct!\n",
            "Point 4: Enter coordinates as x,y → -1, 1\n",
            "Incorrect. Actual: (2, -4)\n",
            "Point 5: Enter coordinates as x,y → -1, 1\n",
            "Correct!\n",
            "\n",
            "Final Score: 2/5\n"
          ]
        }
      ],
      "source": [
        "scatter_plot_game()"
      ]
    },
    {
      "cell_type": "code",
      "execution_count": null,
      "metadata": {
        "colab": {
          "base_uri": "https://localhost:8080/"
        },
        "id": "PffqKW_2ckRP",
        "outputId": "303f993f-bc9e-4cd8-cbc2-65a988069379"
      },
      "outputs": [
        {
          "name": "stdout",
          "output_type": "stream",
          "text": [
            "Solve: 9x + -2 = -92\n",
            "x = -10\n",
            "Correct!\n",
            "Solve: 4x + -3 = -43\n",
            "x = -10\n",
            "Correct!\n",
            "Solve: 4x = 0\n",
            "x = 0\n",
            "Correct!\n",
            "Solve: -7x = 35\n",
            "x = -5\n",
            "Correct!\n",
            "Solve: 9x + -10 = -37\n",
            "x = -3\n",
            "Correct!\n",
            "Final Score: 5/5\n"
          ]
        }
      ],
      "source": [
        "algebra_game()"
      ]
    },
    {
      "cell_type": "code",
      "execution_count": null,
      "metadata": {
        "colab": {
          "base_uri": "https://localhost:8080/",
          "height": 658,
          "referenced_widgets": [
            "81f1f67f044245a782d46d7dee4b4c8a",
            "95b04cb8770743428c478dc9dd73b02f",
            "b93f038646fc4c01a3765dc961b6f7cf",
            "a0e12001a6b243cd9a32796204f5e98d",
            "04a774e4c7b0432983f0fbc4d549c216",
            "64aa3df184ee4332b2dbfa9043cb3191",
            "8853fc7563d043e290bf09bfd5eac547",
            "401bbdcf4edc485d88639bfb9cf1eb6b",
            "122a13100ceb4d5ba2c8c0301e5917d3",
            "63b7736c66c8429296a99d5d34094751",
            "c9b154a5d422412f91300a0f29cc97c7",
            "55014954e2d74ded96d262b7bfdea2b9",
            "1dc3093e88f04971b1b4b6a265dece09"
          ]
        },
        "id": "8EcRxS6ScoUb",
        "outputId": "69d33b31-8016-4af0-c449-10ed9f67e4f8"
      },
      "outputs": [
        {
          "name": "stdout",
          "output_type": "stream",
          "text": [
            "Wall at x = 11, height = 17\n"
          ]
        },
        {
          "data": {
            "application/vnd.jupyter.widget-view+json": {
              "model_id": "81f1f67f044245a782d46d7dee4b4c8a",
              "version_major": 2,
              "version_minor": 0
            },
            "text/plain": [
              "interactive(children=(FloatSlider(value=-1.0, description='a', max=0.0, min=-1.0), FloatSlider(value=5.0, desc…"
            ]
          },
          "metadata": {},
          "output_type": "display_data"
        }
      ],
      "source": [
        "projectile_game_level1()"
      ]
    },
    {
      "cell_type": "code",
      "execution_count": null,
      "metadata": {
        "colab": {
          "base_uri": "https://localhost:8080/",
          "height": 632
        },
        "id": "ZWWTb8oocpFK",
        "outputId": "a87dd69d-14ae-4f20-b3d2-0759ea29ca51"
      },
      "outputs": [
        {
          "name": "stdout",
          "output_type": "stream",
          "text": [
            "Wall at x = 8, height = 20\n",
            "Enter a: 5\n",
            "Enter b: 15\n",
            "Enter c: 2\n"
          ]
        },
        {
          "data": {
            "image/png": "[encoded data removed]",
            "text/plain": [
              "<Figure size 800x600 with 1 Axes>"
            ]
          },
          "metadata": {},
          "output_type": "display_data"
        },
        {
          "name": "stdout",
          "output_type": "stream",
          "text": [
            "Success! You cleared the wall.\n"
          ]
        }
      ],
      "source": [
        "projectile_game_level2()"
      ]
    },
    {
      "cell_type": "code",
      "execution_count": null,
      "metadata": {
        "id": "FER4h_Mwiarp"
      },
      "outputs": [],
      "source": [
        "from google.colab import drive\n",
        "drive.mount('/content/drive')"
      ]
    },
    {
      "cell_type": "code",
      "execution_count": null,
      "metadata": {
        "colab": {
          "base_uri": "https://localhost:8080/"
        },
        "id": "ewtDo85Diel0",
        "outputId": "26d6e924-b990-4518-d33e-ad5c3a2e7795"
      },
      "outputs": [
        {
          "name": "stdout",
          "output_type": "stream",
          "text": [
            "None\n"
          ]
        }
      ],
      "source": [
        "import os\n",
        "l = os.listdir('/content/drive/MyDrive/Colab Notebooks')\n",
        "print(l)"
      ]
    },
    {
      "cell_type": "code",
      "execution_count": 23,
      "metadata": {
        "colab": {
          "base_uri": "https://localhost:8080/"
        },
        "id": "JpKFpsqGgmIx",
        "outputId": "f8a84a9d-fcf1-4e64-a58e-4d549fda817a"
      },
      "outputs": [
        {
          "output_type": "stream",
          "name": "stdout",
          "text": [
            "Patched widget metadata in: Copy of Build Three Math Games.ipynb\n"
          ]
        }
      ],
      "source": [
        "import nbformat\n",
        "from pathlib import Path\n",
        "\n",
        "notebook_path = Path(\"/content/drive/MyDrive/Colab Notebooks/Copy of Build Three Math Games.ipynb\")\n",
        "\n",
        "with notebook_path.open(\"r\", encoding=\"utf-8\") as f:\n",
        "    notebook = nbformat.read(f, as_version=4)\n",
        "\n",
        "notebook.metadata.setdefault('widgets', {})\n",
        "notebook.metadata['widgets'].setdefault('state', {})\n",
        "\n",
        "with notebook_path.open(\"w\", encoding=\"utf-8\") as f:\n",
        "    nbformat.write(notebook, f)\n",
        "\n",
        "print(f\"Patched widget metadata in: {notebook_path.name}\")"
      ]
    }
  ],
  "metadata": {
    "colab": {
      "provenance": [],
      "authorship_tag": "ABX9TyNm2rlFwictmLY6+0iPtCMW"
    },
    "kernelspec": {
      "display_name": "Python 3",
      "name": "python3"
    },
    "language_info": {
      "name": "python"
    },
    "widgets": {
      "application/vnd.jupyter.widget-state+json": {
        "04a774e4c7b0432983f0fbc4d549c216": {
          "model_module": "@jupyter-widgets/output",
          "model_module_version": "1.0.0",
          "model_name": "OutputModel",
          "state": {
            "_dom_classes": [],
            "_model_module": "@jupyter-widgets/output",
            "_model_module_version": "1.0.0",
            "_model_name": "OutputModel",
            "_view_count": null,
            "_view_module": "@jupyter-widgets/output",
            "_view_module_version": "1.0.0",
            "_view_name": "OutputView",
            "layout": "IPY_MODEL_1dc3093e88f04971b1b4b6a265dece09",
            "msg_id": "",
            "outputs": [
              {
                "data": {
                  "image/png": "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\n",
                  "text/plain": "<Figure size 800x600 with 1 Axes>"
                },
                "metadata": {},
                "output_type": "display_data"
              }
            ]
          }
        },
        "122a13100ceb4d5ba2c8c0301e5917d3": {
          "model_module": "@jupyter-widgets/base",
          "model_module_version": "1.2.0",
          "model_name": "LayoutModel",
          "state": {
            "_model_module": "@jupyter-widgets/base",
            "_model_module_version": "1.2.0",
            "_model_name": "LayoutModel",
            "_view_count": null,
            "_view_module": "@jupyter-widgets/base",
            "_view_module_version": "1.2.0",
            "_view_name": "LayoutView",
            "align_content": null,
            "align_items": null,
            "align_self": null,
            "border": null,
            "bottom": null,
            "display": null,
            "flex": null,
            "flex_flow": null,
            "grid_area": null,
            "grid_auto_columns": null,
            "grid_auto_flow": null,
            "grid_auto_rows": null,
            "grid_column": null,
            "grid_gap": null,
            "grid_row": null,
            "grid_template_areas": null,
            "grid_template_columns": null,
            "grid_template_rows": null,
            "height": null,
            "justify_content": null,
            "justify_items": null,
            "left": null,
            "margin": null,
            "max_height": null,
            "max_width": null,
            "min_height": null,
            "min_width": null,
            "object_fit": null,
            "object_position": null,
            "order": null,
            "overflow": null,
            "overflow_x": null,
            "overflow_y": null,
            "padding": null,
            "right": null,
            "top": null,
            "visibility": null,
            "width": null
          }
        },
        "1dc3093e88f04971b1b4b6a265dece09": {
          "model_module": "@jupyter-widgets/base",
          "model_module_version": "1.2.0",
          "model_name": "LayoutModel",
          "state": {
            "_model_module": "@jupyter-widgets/base",
            "_model_module_version": "1.2.0",
            "_model_name": "LayoutModel",
            "_view_count": null,
            "_view_module": "@jupyter-widgets/base",
            "_view_module_version": "1.2.0",
            "_view_name": "LayoutView",
            "align_content": null,
            "align_items": null,
            "align_self": null,
            "border": null,
            "bottom": null,
            "display": null,
            "flex": null,
            "flex_flow": null,
            "grid_area": null,
            "grid_auto_columns": null,
            "grid_auto_flow": null,
            "grid_auto_rows": null,
            "grid_column": null,
            "grid_gap": null,
            "grid_row": null,
            "grid_template_areas": null,
            "grid_template_columns": null,
            "grid_template_rows": null,
            "height": null,
            "justify_content": null,
            "justify_items": null,
            "left": null,
            "margin": null,
            "max_height": null,
            "max_width": null,
            "min_height": null,
            "min_width": null,
            "object_fit": null,
            "object_position": null,
            "order": null,
            "overflow": null,
            "overflow_x": null,
            "overflow_y": null,
            "padding": null,
            "right": null,
            "top": null,
            "visibility": null,
            "width": null
          }
        },
        "401bbdcf4edc485d88639bfb9cf1eb6b": {
          "model_module": "@jupyter-widgets/controls",
          "model_module_version": "1.5.0",
          "model_name": "SliderStyleModel",
          "state": {
            "_model_module": "@jupyter-widgets/controls",
            "_model_module_version": "1.5.0",
            "_model_name": "SliderStyleModel",
            "_view_count": null,
            "_view_module": "@jupyter-widgets/base",
            "_view_module_version": "1.2.0",
            "_view_name": "StyleView",
            "description_width": "",
            "handle_color": null
          }
        },
        "55014954e2d74ded96d262b7bfdea2b9": {
          "model_module": "@jupyter-widgets/controls",
          "model_module_version": "1.5.0",
          "model_name": "SliderStyleModel",
          "state": {
            "_model_module": "@jupyter-widgets/controls",
            "_model_module_version": "1.5.0",
            "_model_name": "SliderStyleModel",
            "_view_count": null,
            "_view_module": "@jupyter-widgets/base",
            "_view_module_version": "1.2.0",
            "_view_name": "StyleView",
            "description_width": "",
            "handle_color": null
          }
        },
        "63b7736c66c8429296a99d5d34094751": {
          "model_module": "@jupyter-widgets/controls",
          "model_module_version": "1.5.0",
          "model_name": "SliderStyleModel",
          "state": {
            "_model_module": "@jupyter-widgets/controls",
            "_model_module_version": "1.5.0",
            "_model_name": "SliderStyleModel",
            "_view_count": null,
            "_view_module": "@jupyter-widgets/base",
            "_view_module_version": "1.2.0",
            "_view_name": "StyleView",
            "description_width": "",
            "handle_color": null
          }
        },
        "64aa3df184ee4332b2dbfa9043cb3191": {
          "model_module": "@jupyter-widgets/base",
          "model_module_version": "1.2.0",
          "model_name": "LayoutModel",
          "state": {
            "_model_module": "@jupyter-widgets/base",
            "_model_module_version": "1.2.0",
            "_model_name": "LayoutModel",
            "_view_count": null,
            "_view_module": "@jupyter-widgets/base",
            "_view_module_version": "1.2.0",
            "_view_name": "LayoutView",
            "align_content": null,
            "align_items": null,
            "align_self": null,
            "border": null,
            "bottom": null,
            "display": null,
            "flex": null,
            "flex_flow": null,
            "grid_area": null,
            "grid_auto_columns": null,
            "grid_auto_flow": null,
            "grid_auto_rows": null,
            "grid_column": null,
            "grid_gap": null,
            "grid_row": null,
            "grid_template_areas": null,
            "grid_template_columns": null,
            "grid_template_rows": null,
            "height": null,
            "justify_content": null,
            "justify_items": null,
            "left": null,
            "margin": null,
            "max_height": null,
            "max_width": null,
            "min_height": null,
            "min_width": null,
            "object_fit": null,
            "object_position": null,
            "order": null,
            "overflow": null,
            "overflow_x": null,
            "overflow_y": null,
            "padding": null,
            "right": null,
            "top": null,
            "visibility": null,
            "width": null
          }
        },
        "81f1f67f044245a782d46d7dee4b4c8a": {
          "model_module": "@jupyter-widgets/controls",
          "model_module_version": "1.5.0",
          "model_name": "VBoxModel",
          "state": {
            "_dom_classes": [
              "widget-interact"
            ],
            "_model_module": "@jupyter-widgets/controls",
            "_model_module_version": "1.5.0",
            "_model_name": "VBoxModel",
            "_view_count": null,
            "_view_module": "@jupyter-widgets/controls",
            "_view_module_version": "1.5.0",
            "_view_name": "VBoxView",
            "box_style": "",
            "children": [
              "IPY_MODEL_95b04cb8770743428c478dc9dd73b02f",
              "IPY_MODEL_b93f038646fc4c01a3765dc961b6f7cf",
              "IPY_MODEL_a0e12001a6b243cd9a32796204f5e98d",
              "IPY_MODEL_04a774e4c7b0432983f0fbc4d549c216"
            ],
            "layout": "IPY_MODEL_64aa3df184ee4332b2dbfa9043cb3191"
          }
        },
        "8853fc7563d043e290bf09bfd5eac547": {
          "model_module": "@jupyter-widgets/base",
          "model_module_version": "1.2.0",
          "model_name": "LayoutModel",
          "state": {
            "_model_module": "@jupyter-widgets/base",
            "_model_module_version": "1.2.0",
            "_model_name": "LayoutModel",
            "_view_count": null,
            "_view_module": "@jupyter-widgets/base",
            "_view_module_version": "1.2.0",
            "_view_name": "LayoutView",
            "align_content": null,
            "align_items": null,
            "align_self": null,
            "border": null,
            "bottom": null,
            "display": null,
            "flex": null,
            "flex_flow": null,
            "grid_area": null,
            "grid_auto_columns": null,
            "grid_auto_flow": null,
            "grid_auto_rows": null,
            "grid_column": null,
            "grid_gap": null,
            "grid_row": null,
            "grid_template_areas": null,
            "grid_template_columns": null,
            "grid_template_rows": null,
            "height": null,
            "justify_content": null,
            "justify_items": null,
            "left": null,
            "margin": null,
            "max_height": null,
            "max_width": null,
            "min_height": null,
            "min_width": null,
            "object_fit": null,
            "object_position": null,
            "order": null,
            "overflow": null,
            "overflow_x": null,
            "overflow_y": null,
            "padding": null,
            "right": null,
            "top": null,
            "visibility": null,
            "width": null
          }
        },
        "95b04cb8770743428c478dc9dd73b02f": {
          "model_module": "@jupyter-widgets/controls",
          "model_module_version": "1.5.0",
          "model_name": "FloatSliderModel",
          "state": {
            "_dom_classes": [],
            "_model_module": "@jupyter-widgets/controls",
            "_model_module_version": "1.5.0",
            "_model_name": "FloatSliderModel",
            "_view_count": null,
            "_view_module": "@jupyter-widgets/controls",
            "_view_module_version": "1.5.0",
            "_view_name": "FloatSliderView",
            "continuous_update": true,
            "description": "a",
            "description_tooltip": null,
            "disabled": false,
            "layout": "IPY_MODEL_8853fc7563d043e290bf09bfd5eac547",
            "max": 0,
            "min": -1,
            "orientation": "horizontal",
            "readout": true,
            "readout_format": ".2f",
            "step": 0.1,
            "style": "IPY_MODEL_401bbdcf4edc485d88639bfb9cf1eb6b",
            "value": -0.2
          }
        },
        "a0e12001a6b243cd9a32796204f5e98d": {
          "model_module": "@jupyter-widgets/controls",
          "model_module_version": "1.5.0",
          "model_name": "FloatSliderModel",
          "state": {
            "_dom_classes": [],
            "_model_module": "@jupyter-widgets/controls",
            "_model_module_version": "1.5.0",
            "_model_name": "FloatSliderModel",
            "_view_count": null,
            "_view_module": "@jupyter-widgets/controls",
            "_view_module_version": "1.5.0",
            "_view_name": "FloatSliderView",
            "continuous_update": true,
            "description": "c",
            "description_tooltip": null,
            "disabled": false,
            "layout": "IPY_MODEL_c9b154a5d422412f91300a0f29cc97c7",
            "max": 10,
            "min": 0,
            "orientation": "horizontal",
            "readout": true,
            "readout_format": ".2f",
            "step": 0.5,
            "style": "IPY_MODEL_55014954e2d74ded96d262b7bfdea2b9",
            "value": 6
          }
        },
        "b93f038646fc4c01a3765dc961b6f7cf": {
          "model_module": "@jupyter-widgets/controls",
          "model_module_version": "1.5.0",
          "model_name": "FloatSliderModel",
          "state": {
            "_dom_classes": [],
            "_model_module": "@jupyter-widgets/controls",
            "_model_module_version": "1.5.0",
            "_model_name": "FloatSliderModel",
            "_view_count": null,
            "_view_module": "@jupyter-widgets/controls",
            "_view_module_version": "1.5.0",
            "_view_name": "FloatSliderView",
            "continuous_update": true,
            "description": "b",
            "description_tooltip": null,
            "disabled": false,
            "layout": "IPY_MODEL_122a13100ceb4d5ba2c8c0301e5917d3",
            "max": 10,
            "min": 0,
            "orientation": "horizontal",
            "readout": true,
            "readout_format": ".2f",
            "step": 0.5,
            "style": "IPY_MODEL_63b7736c66c8429296a99d5d34094751",
            "value": 9.5
          }
        },
        "c9b154a5d422412f91300a0f29cc97c7": {
          "model_module": "@jupyter-widgets/base",
          "model_module_version": "1.2.0",
          "model_name": "LayoutModel",
          "state": {
            "_model_module": "@jupyter-widgets/base",
            "_model_module_version": "1.2.0",
            "_model_name": "LayoutModel",
            "_view_count": null,
            "_view_module": "@jupyter-widgets/base",
            "_view_module_version": "1.2.0",
            "_view_name": "LayoutView",
            "align_content": null,
            "align_items": null,
            "align_self": null,
            "border": null,
            "bottom": null,
            "display": null,
            "flex": null,
            "flex_flow": null,
            "grid_area": null,
            "grid_auto_columns": null,
            "grid_auto_flow": null,
            "grid_auto_rows": null,
            "grid_column": null,
            "grid_gap": null,
            "grid_row": null,
            "grid_template_areas": null,
            "grid_template_columns": null,
            "grid_template_rows": null,
            "height": null,
            "justify_content": null,
            "justify_items": null,
            "left": null,
            "margin": null,
            "max_height": null,
            "max_width": null,
            "min_height": null,
            "min_width": null,
            "object_fit": null,
            "object_position": null,
            "order": null,
            "overflow": null,
            "overflow_x": null,
            "overflow_y": null,
            "padding": null,
            "right": null,
            "top": null,
            "visibility": null,
            "width": null
          }
        }
      }
    }
  },
  "nbformat": 4,
  "nbformat_minor": 0
}