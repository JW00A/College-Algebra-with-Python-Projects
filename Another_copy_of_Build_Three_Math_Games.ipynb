{
  "cells": [
    {
      "cell_type": "code",
      "execution_count": null,
      "metadata": {
        "id": "CjqRErqub_ln"
      },
      "outputs": [],
      "source": [
        "import matplotlib.pyplot as plt\n",
        "import numpy as np\n",
        "import random\n",
        "import time\n",
        "from ipywidgets import interactive\n",
        "from IPython.display import display\n",
        "\n",
        "def scatter_plot_game(num_points=5, difficulty=1):\n",
        "    size = 5 * difficulty\n",
        "    points = [(random.randint(-size, size), random.randint(-size, size)) for _ in range(num_points)]\n",
        "\n",
        "    x_vals, y_vals = zip(*points)\n",
        "    fig, ax = plt.subplots(figsize=(6, 6))\n",
        "    ax.scatter(x_vals, y_vals, color='red')\n",
        "    ax.grid(True)\n",
        "    ax.set_title(\"Guess the Coordinates!\")\n",
        "    ax.set_xlim(-size, size)\n",
        "    ax.set_ylim(-size, size)\n",
        "\n",
        "    plt.pause(0.001)\n",
        "\n",
        "    print(\"\\nNow enter your guesses for each red point:\")\n",
        "    score = 0\n",
        "    for i, (x, y) in enumerate(points):\n",
        "        try:\n",
        "            guess = input(f\"Point {i+1}: Enter coordinates as x,y → \")\n",
        "            gx, gy = map(int, guess.split(','))\n",
        "            if gx == x and gy == y:\n",
        "                print(\"Correct!\")\n",
        "                score += 1\n",
        "            else:\n",
        "                print(f\"Incorrect. Actual: ({x}, {y})\")\n",
        "        except Exception:\n",
        "            print(\"Invalid format. Use x,y\")\n",
        "\n",
        "    print(f\"\\nFinal Score: {score}/{num_points}\")"
      ]
    },
    {
      "cell_type": "code",
      "execution_count": null,
      "metadata": {
        "id": "DXAbzv8ocM19"
      },
      "outputs": [],
      "source": [
        "def algebra_game(num_questions=5, difficulty=1):\n",
        "    score = 0\n",
        "    for _ in range(num_questions):\n",
        "        step_type = random.choice(['one', 'two'])\n",
        "        a = random.randint(-10 * difficulty, 10 * difficulty)\n",
        "        b = random.randint(-10 * difficulty, 10 * difficulty)\n",
        "        x = random.randint(-10 * difficulty, 10 * difficulty)\n",
        "\n",
        "        if step_type == 'one':\n",
        "            result = a * x\n",
        "            print(f\"Solve: {a}x = {result}\")\n",
        "            guess = input(\"x = \")\n",
        "            if guess.strip() == str(x):\n",
        "                print(\"Correct!\")\n",
        "                score += 1\n",
        "            else:\n",
        "                print(f\"Incorrect. x = {x}\")\n",
        "        else:\n",
        "            result = a * x + b\n",
        "            print(f\"Solve: {a}x + {b} = {result}\")\n",
        "            guess = input(\"x = \")\n",
        "            if guess.strip() == str(x):\n",
        "                print(\"Correct!\")\n",
        "                score += 1\n",
        "            else:\n",
        "                print(f\"Incorrect. x = {x}\")\n",
        "    print(f\"Final Score: {score}/{num_questions}\")"
      ]
    },
    {
      "cell_type": "code",
      "execution_count": null,
      "metadata": {
        "id": "Sv6kFO0HcSxV"
      },
      "outputs": [],
      "source": [
        "def projectile_game_level1():\n",
        "    wall_x = random.randint(5, 15)\n",
        "    wall_h = random.randint(5, 20)\n",
        "\n",
        "    def plot_path(a, b, c):\n",
        "        x = np.linspace(0, 20, 400)\n",
        "        y = a * x**2 + b * x + c\n",
        "\n",
        "        plt.figure(figsize=(8, 6))\n",
        "        plt.plot(x, y, label=\"Projectile Path\")\n",
        "        plt.axvline(wall_x, color='red', linestyle='--', label=\"Wall\")\n",
        "        plt.axhline(wall_h, xmin=wall_x/20, xmax=1, color='red')\n",
        "        plt.ylim(0, max(y)+5)\n",
        "        plt.title(\"Adjust a, b, c to clear the wall\")\n",
        "        plt.grid(True)\n",
        "        plt.legend()\n",
        "        plt.show()\n",
        "\n",
        "    print(f\"Wall at x = {wall_x}, height = {wall_h}\")\n",
        "    display(interactive(plot_path, a=(-1, 0, 0.1), b=(0, 10, 0.5), c=(0, 10, 0.5)))"
      ]
    },
    {
      "cell_type": "code",
      "execution_count": null,
      "metadata": {
        "id": "Xh-iXxi5caNU"
      },
      "outputs": [],
      "source": [
        "def projectile_game_level2():\n",
        "    wall_x = random.randint(5, 15)\n",
        "    wall_h = random.randint(5, 20)\n",
        "    print(f\"Wall at x = {wall_x}, height = {wall_h}\")\n",
        "\n",
        "    try:\n",
        "        a = float(input(\"Enter a: \"))\n",
        "        b = float(input(\"Enter b: \"))\n",
        "        c = float(input(\"Enter c: \"))\n",
        "        x = np.linspace(0, 20, 400)\n",
        "        y = a * x**2 + b * x + c\n",
        "\n",
        "        plt.figure(figsize=(8, 6))\n",
        "        plt.plot(x, y, label=\"Projectile Path\")\n",
        "        plt.axvline(wall_x, color='red', linestyle='--', label=\"Wall\")\n",
        "        plt.axhline(wall_h, xmin=wall_x/20, xmax=1, color='red')\n",
        "        plt.ylim(0, max(y)+5)\n",
        "        plt.title(\"Manual Entry: a, b, c\")\n",
        "        plt.grid(True)\n",
        "        plt.legend()\n",
        "        plt.show()\n",
        "\n",
        "        y_at_wall = a * wall_x**2 + b * wall_x + c\n",
        "        if y_at_wall > wall_h:\n",
        "            print(\"Success! You cleared the wall.\")\n",
        "        else:\n",
        "            print(f\"Missed. Height at wall = {y_at_wall:.2f}\")\n",
        "    except:\n",
        "        print(\"Invalid input.\")"
      ]
    },
    {
      "cell_type": "code",
      "execution_count": null,
      "metadata": {
        "id": "NK3q6UlncgwH"
      },
      "outputs": [],
      "source": [
        "scatter_plot_game()"
      ]
    },
    {
      "cell_type": "code",
      "execution_count": null,
      "metadata": {
        "id": "PffqKW_2ckRP"
      },
      "outputs": [],
      "source": [
        "algebra_game()"
      ]
    },
    {
      "cell_type": "code",
      "execution_count": null,
      "metadata": {
        "id": "8EcRxS6ScoUb"
      },
      "outputs": [],
      "source": [
        "projectile_game_level1()"
      ]
    },
    {
      "cell_type": "code",
      "execution_count": null,
      "metadata": {
        "id": "ZWWTb8oocpFK"
      },
      "outputs": [],
      "source": [
        "projectile_game_level2()"
      ]
    }
  ],
  "metadata": {
    "colab": {
      "provenance": [],
      "authorship_tag": "ABX9TyN4zPvREgNZ/TWDVqCB7A7c"
    },
    "kernelspec": {
      "display_name": "Python 3",
      "name": "python3"
    },
    "language_info": {
      "name": "python"
    }
  },
  "nbformat": 4,
  "nbformat_minor": 0
}